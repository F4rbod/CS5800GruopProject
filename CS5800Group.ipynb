{
 "cells": [
  {
   "cell_type": "markdown",
   "metadata": {},
   "source": [
    "# Preparing the environment"
   ]
  },
  {
   "cell_type": "code",
   "execution_count": 1,
   "metadata": {},
   "outputs": [
    {
     "name": "stderr",
     "output_type": "stream",
     "text": [
      "Initializing packrat project in directory:\n",
      "- \"/work/postresearch/Shared/Projects/Farbod/CaseMix\"\n",
      "\n",
      "Initialization complete!\n",
      "\n"
     ]
    }
   ],
   "source": [
    "packrat::init(\"/work/postresearch/Shared/Projects/Farbod/CaseMix\")\n",
    "packrat::on()\n",
    "#packrat::status()"
   ]
  },
  {
   "cell_type": "code",
   "execution_count": 2,
   "metadata": {
    "colab": {
     "base_uri": "https://localhost:8080/"
    },
    "id": "WGrG5bji-YaQ",
    "outputId": "edb95eed-5435-41e7-edfc-5a12967ee056"
   },
   "outputs": [],
   "source": [
    "#install.packages(c(\"httr\", \"jsonlite\"))"
   ]
  },
  {
   "cell_type": "code",
   "execution_count": 3,
   "metadata": {
    "id": "SYTG4dwZ_LDu"
   },
   "outputs": [],
   "source": [
    "library(httr)\n",
    "library(jsonlite)\n",
    "library(data.table)\n",
    "library(dtplyr)"
   ]
  },
  {
   "cell_type": "markdown",
   "metadata": {},
   "source": [
    "# Importing the CMS data"
   ]
  },
  {
   "cell_type": "code",
   "execution_count": 4,
   "metadata": {
    "id": "RVyYRqAfI47x"
   },
   "outputs": [],
   "source": [
    "cms_data_importer=function(url,data_size){\n",
    "\n",
    "  require(data.table)\n",
    "  require(dplyr)\n",
    "  require(httr)\n",
    "  require(jsonlite)\n",
    "  require(tidyverse)\n",
    "  \n",
    "  stats=GET(paste(url,\"/stats\",sep = \"\"))\n",
    "\n",
    "  row_count=content(stats,as=\"parsed\")$total_rows\n",
    "\n",
    "  offset=0\n",
    "  data=data.table()\n",
    "\n",
    "  if(data_size==\"all\"){\n",
    "    while(offset<row_count){\n",
    "      new_get=GET(paste(url,\"?size=5000&offset=\",offset,sep = \"\"))\n",
    "      new_data=fromJSON(rawToChar(new_get$content))\n",
    "      data=rbind(data,new_data)\n",
    "      offset=offset+5000\n",
    "    }\n",
    "  }\n",
    "  else{\n",
    "    while(offset<data_size){\n",
    "      new_get=GET(paste(url,\"?size=5000&offset=\",offset,sep = \"\"))\n",
    "      new_data=fromJSON(rawToChar(new_get$content))\n",
    "      data=rbind(data,new_data)\n",
    "      offset=offset+5000\n",
    "    }\n",
    "  }\n",
    "  \n",
    "  return(data%>%as.data.table())\n",
    "\n",
    "}"
   ]
  },
  {
   "cell_type": "code",
   "execution_count": 5,
   "metadata": {
    "id": "nVIgCMJaLaUh"
   },
   "outputs": [
    {
     "name": "stderr",
     "output_type": "stream",
     "text": [
      "Loading required package: dplyr\n",
      "\n",
      "\n",
      "Attaching package: ‘dplyr’\n",
      "\n",
      "\n",
      "The following objects are masked from ‘package:data.table’:\n",
      "\n",
      "    between, first, last\n",
      "\n",
      "\n",
      "The following objects are masked from ‘package:stats’:\n",
      "\n",
      "    filter, lag\n",
      "\n",
      "\n",
      "The following objects are masked from ‘package:base’:\n",
      "\n",
      "    intersect, setdiff, setequal, union\n",
      "\n",
      "\n",
      "Loading required package: tidyverse\n",
      "\n",
      "── \u001b[1mAttaching packages\u001b[22m ─────────────────────────────────────── tidyverse 1.3.1 ──\n",
      "\n",
      "\u001b[32m✔\u001b[39m \u001b[34mggplot2\u001b[39m 3.3.6     \u001b[32m✔\u001b[39m \u001b[34mpurrr  \u001b[39m 0.3.4\n",
      "\u001b[32m✔\u001b[39m \u001b[34mtibble \u001b[39m 3.1.7     \u001b[32m✔\u001b[39m \u001b[34mstringr\u001b[39m 1.4.0\n",
      "\u001b[32m✔\u001b[39m \u001b[34mtidyr  \u001b[39m 1.2.0     \u001b[32m✔\u001b[39m \u001b[34mforcats\u001b[39m 0.5.1\n",
      "\u001b[32m✔\u001b[39m \u001b[34mreadr  \u001b[39m 2.1.2     \n",
      "\n",
      "── \u001b[1mConflicts\u001b[22m ────────────────────────────────────────── tidyverse_conflicts() ──\n",
      "\u001b[31m✖\u001b[39m \u001b[34mdplyr\u001b[39m::\u001b[32mbetween()\u001b[39m   masks \u001b[34mdata.table\u001b[39m::between()\n",
      "\u001b[31m✖\u001b[39m \u001b[34mdplyr\u001b[39m::\u001b[32mfilter()\u001b[39m    masks \u001b[34mstats\u001b[39m::filter()\n",
      "\u001b[31m✖\u001b[39m \u001b[34mdplyr\u001b[39m::\u001b[32mfirst()\u001b[39m     masks \u001b[34mdata.table\u001b[39m::first()\n",
      "\u001b[31m✖\u001b[39m \u001b[34mpurrr\u001b[39m::\u001b[32mflatten()\u001b[39m   masks \u001b[34mjsonlite\u001b[39m::flatten()\n",
      "\u001b[31m✖\u001b[39m \u001b[34mdplyr\u001b[39m::\u001b[32mlag()\u001b[39m       masks \u001b[34mstats\u001b[39m::lag()\n",
      "\u001b[31m✖\u001b[39m \u001b[34mdplyr\u001b[39m::\u001b[32mlast()\u001b[39m      masks \u001b[34mdata.table\u001b[39m::last()\n",
      "\u001b[31m✖\u001b[39m \u001b[34mpurrr\u001b[39m::\u001b[32mtranspose()\u001b[39m masks \u001b[34mdata.table\u001b[39m::transpose()\n",
      "\n"
     ]
    }
   ],
   "source": [
    "physician_data=cms_data_importer(\n",
    "  url = \n",
    "  \"https://data.cms.gov/data-api/v1/dataset/14cd68c2-9433-4069-90fa-d213ef709661/data\",\n",
    "  data_size=100000\n",
    ")"
   ]
  },
  {
   "cell_type": "code",
   "execution_count": 6,
   "metadata": {
    "colab": {
     "base_uri": "https://localhost:8080/",
     "height": 104
    },
    "id": "DEDqEQkBfCMD",
    "outputId": "b6799e97-f7bf-4e80-850b-6b6d3a9c81cd"
   },
   "outputs": [
    {
     "data": {
      "text/html": [
       "<style>\n",
       ".list-inline {list-style: none; margin:0; padding: 0}\n",
       ".list-inline>li {display: inline-block}\n",
       ".list-inline>li:not(:last-child)::after {content: \"\\00b7\"; padding: 0 .5ex}\n",
       "</style>\n",
       "<ol class=list-inline><li>'Rndrng_NPI'</li><li>'Rndrng_Prvdr_Last_Org_Name'</li><li>'Rndrng_Prvdr_First_Name'</li><li>'Rndrng_Prvdr_MI'</li><li>'Rndrng_Prvdr_Crdntls'</li><li>'Rndrng_Prvdr_Gndr'</li><li>'Rndrng_Prvdr_Ent_Cd'</li><li>'Rndrng_Prvdr_St1'</li><li>'Rndrng_Prvdr_St2'</li><li>'Rndrng_Prvdr_City'</li><li>'Rndrng_Prvdr_State_Abrvtn'</li><li>'Rndrng_Prvdr_State_FIPS'</li><li>'Rndrng_Prvdr_Zip5'</li><li>'Rndrng_Prvdr_RUCA'</li><li>'Rndrng_Prvdr_RUCA_Desc'</li><li>'Rndrng_Prvdr_Cntry'</li><li>'Rndrng_Prvdr_Type'</li><li>'Rndrng_Prvdr_Mdcr_Prtcptg_Ind'</li><li>'HCPCS_Cd'</li><li>'HCPCS_Desc'</li><li>'HCPCS_Drug_Ind'</li><li>'Place_Of_Srvc'</li><li>'Tot_Benes'</li><li>'Tot_Srvcs'</li><li>'Tot_Bene_Day_Srvcs'</li><li>'Avg_Sbmtd_Chrg'</li><li>'Avg_Mdcr_Alowd_Amt'</li><li>'Avg_Mdcr_Pymt_Amt'</li><li>'Avg_Mdcr_Stdzd_Amt'</li></ol>\n"
      ],
      "text/latex": [
       "\\begin{enumerate*}\n",
       "\\item 'Rndrng\\_NPI'\n",
       "\\item 'Rndrng\\_Prvdr\\_Last\\_Org\\_Name'\n",
       "\\item 'Rndrng\\_Prvdr\\_First\\_Name'\n",
       "\\item 'Rndrng\\_Prvdr\\_MI'\n",
       "\\item 'Rndrng\\_Prvdr\\_Crdntls'\n",
       "\\item 'Rndrng\\_Prvdr\\_Gndr'\n",
       "\\item 'Rndrng\\_Prvdr\\_Ent\\_Cd'\n",
       "\\item 'Rndrng\\_Prvdr\\_St1'\n",
       "\\item 'Rndrng\\_Prvdr\\_St2'\n",
       "\\item 'Rndrng\\_Prvdr\\_City'\n",
       "\\item 'Rndrng\\_Prvdr\\_State\\_Abrvtn'\n",
       "\\item 'Rndrng\\_Prvdr\\_State\\_FIPS'\n",
       "\\item 'Rndrng\\_Prvdr\\_Zip5'\n",
       "\\item 'Rndrng\\_Prvdr\\_RUCA'\n",
       "\\item 'Rndrng\\_Prvdr\\_RUCA\\_Desc'\n",
       "\\item 'Rndrng\\_Prvdr\\_Cntry'\n",
       "\\item 'Rndrng\\_Prvdr\\_Type'\n",
       "\\item 'Rndrng\\_Prvdr\\_Mdcr\\_Prtcptg\\_Ind'\n",
       "\\item 'HCPCS\\_Cd'\n",
       "\\item 'HCPCS\\_Desc'\n",
       "\\item 'HCPCS\\_Drug\\_Ind'\n",
       "\\item 'Place\\_Of\\_Srvc'\n",
       "\\item 'Tot\\_Benes'\n",
       "\\item 'Tot\\_Srvcs'\n",
       "\\item 'Tot\\_Bene\\_Day\\_Srvcs'\n",
       "\\item 'Avg\\_Sbmtd\\_Chrg'\n",
       "\\item 'Avg\\_Mdcr\\_Alowd\\_Amt'\n",
       "\\item 'Avg\\_Mdcr\\_Pymt\\_Amt'\n",
       "\\item 'Avg\\_Mdcr\\_Stdzd\\_Amt'\n",
       "\\end{enumerate*}\n"
      ],
      "text/markdown": [
       "1. 'Rndrng_NPI'\n",
       "2. 'Rndrng_Prvdr_Last_Org_Name'\n",
       "3. 'Rndrng_Prvdr_First_Name'\n",
       "4. 'Rndrng_Prvdr_MI'\n",
       "5. 'Rndrng_Prvdr_Crdntls'\n",
       "6. 'Rndrng_Prvdr_Gndr'\n",
       "7. 'Rndrng_Prvdr_Ent_Cd'\n",
       "8. 'Rndrng_Prvdr_St1'\n",
       "9. 'Rndrng_Prvdr_St2'\n",
       "10. 'Rndrng_Prvdr_City'\n",
       "11. 'Rndrng_Prvdr_State_Abrvtn'\n",
       "12. 'Rndrng_Prvdr_State_FIPS'\n",
       "13. 'Rndrng_Prvdr_Zip5'\n",
       "14. 'Rndrng_Prvdr_RUCA'\n",
       "15. 'Rndrng_Prvdr_RUCA_Desc'\n",
       "16. 'Rndrng_Prvdr_Cntry'\n",
       "17. 'Rndrng_Prvdr_Type'\n",
       "18. 'Rndrng_Prvdr_Mdcr_Prtcptg_Ind'\n",
       "19. 'HCPCS_Cd'\n",
       "20. 'HCPCS_Desc'\n",
       "21. 'HCPCS_Drug_Ind'\n",
       "22. 'Place_Of_Srvc'\n",
       "23. 'Tot_Benes'\n",
       "24. 'Tot_Srvcs'\n",
       "25. 'Tot_Bene_Day_Srvcs'\n",
       "26. 'Avg_Sbmtd_Chrg'\n",
       "27. 'Avg_Mdcr_Alowd_Amt'\n",
       "28. 'Avg_Mdcr_Pymt_Amt'\n",
       "29. 'Avg_Mdcr_Stdzd_Amt'\n",
       "\n",
       "\n"
      ],
      "text/plain": [
       " [1] \"Rndrng_NPI\"                    \"Rndrng_Prvdr_Last_Org_Name\"   \n",
       " [3] \"Rndrng_Prvdr_First_Name\"       \"Rndrng_Prvdr_MI\"              \n",
       " [5] \"Rndrng_Prvdr_Crdntls\"          \"Rndrng_Prvdr_Gndr\"            \n",
       " [7] \"Rndrng_Prvdr_Ent_Cd\"           \"Rndrng_Prvdr_St1\"             \n",
       " [9] \"Rndrng_Prvdr_St2\"              \"Rndrng_Prvdr_City\"            \n",
       "[11] \"Rndrng_Prvdr_State_Abrvtn\"     \"Rndrng_Prvdr_State_FIPS\"      \n",
       "[13] \"Rndrng_Prvdr_Zip5\"             \"Rndrng_Prvdr_RUCA\"            \n",
       "[15] \"Rndrng_Prvdr_RUCA_Desc\"        \"Rndrng_Prvdr_Cntry\"           \n",
       "[17] \"Rndrng_Prvdr_Type\"             \"Rndrng_Prvdr_Mdcr_Prtcptg_Ind\"\n",
       "[19] \"HCPCS_Cd\"                      \"HCPCS_Desc\"                   \n",
       "[21] \"HCPCS_Drug_Ind\"                \"Place_Of_Srvc\"                \n",
       "[23] \"Tot_Benes\"                     \"Tot_Srvcs\"                    \n",
       "[25] \"Tot_Bene_Day_Srvcs\"            \"Avg_Sbmtd_Chrg\"               \n",
       "[27] \"Avg_Mdcr_Alowd_Amt\"            \"Avg_Mdcr_Pymt_Amt\"            \n",
       "[29] \"Avg_Mdcr_Stdzd_Amt\"           "
      ]
     },
     "metadata": {},
     "output_type": "display_data"
    }
   ],
   "source": [
    "colnames(physician_data)"
   ]
  },
  {
   "cell_type": "code",
   "execution_count": 7,
   "metadata": {
    "id": "uA-4YHinMLjT"
   },
   "outputs": [],
   "source": [
    "physician_data=physician_data[,.(Rndrng_NPI,Rndrng_Prvdr_Type,HCPCS_Cd,Tot_Srvcs)]"
   ]
  },
  {
   "cell_type": "code",
   "execution_count": 8,
   "metadata": {
    "colab": {
     "base_uri": "https://localhost:8080/",
     "height": 743
    },
    "id": "mw0uzLSjpC9W",
    "outputId": "53efb60c-00b7-4808-b5ed-076d87cd8954"
   },
   "outputs": [
    {
     "data": {
      "text/html": [
       "<table class=\"dataframe\">\n",
       "<caption>A data.table: 10 × 4</caption>\n",
       "<thead>\n",
       "\t<tr><th scope=col>Rndrng_NPI</th><th scope=col>Rndrng_Prvdr_Type</th><th scope=col>HCPCS_Cd</th><th scope=col>Tot_Srvcs</th></tr>\n",
       "\t<tr><th scope=col>&lt;chr&gt;</th><th scope=col>&lt;chr&gt;</th><th scope=col>&lt;chr&gt;</th><th scope=col>&lt;chr&gt;</th></tr>\n",
       "</thead>\n",
       "<tbody>\n",
       "\t<tr><td>1003000126</td><td>Internal Medicine</td><td>99217</td><td>23 </td></tr>\n",
       "\t<tr><td>1003000126</td><td>Internal Medicine</td><td>99218</td><td>16 </td></tr>\n",
       "\t<tr><td>1003000126</td><td>Internal Medicine</td><td>99220</td><td>16 </td></tr>\n",
       "\t<tr><td>1003000126</td><td>Internal Medicine</td><td>99221</td><td>12 </td></tr>\n",
       "\t<tr><td>1003000126</td><td>Internal Medicine</td><td>99223</td><td>52 </td></tr>\n",
       "\t<tr><td>1003000126</td><td>Internal Medicine</td><td>99232</td><td>134</td></tr>\n",
       "\t<tr><td>1003000126</td><td>Internal Medicine</td><td>99233</td><td>326</td></tr>\n",
       "\t<tr><td>1003000126</td><td>Internal Medicine</td><td>99238</td><td>13 </td></tr>\n",
       "\t<tr><td>1003000126</td><td>Internal Medicine</td><td>99239</td><td>146</td></tr>\n",
       "\t<tr><td>1003000134</td><td>Pathology        </td><td>88304</td><td>125</td></tr>\n",
       "</tbody>\n",
       "</table>\n"
      ],
      "text/latex": [
       "A data.table: 10 × 4\n",
       "\\begin{tabular}{llll}\n",
       " Rndrng\\_NPI & Rndrng\\_Prvdr\\_Type & HCPCS\\_Cd & Tot\\_Srvcs\\\\\n",
       " <chr> & <chr> & <chr> & <chr>\\\\\n",
       "\\hline\n",
       "\t 1003000126 & Internal Medicine & 99217 & 23 \\\\\n",
       "\t 1003000126 & Internal Medicine & 99218 & 16 \\\\\n",
       "\t 1003000126 & Internal Medicine & 99220 & 16 \\\\\n",
       "\t 1003000126 & Internal Medicine & 99221 & 12 \\\\\n",
       "\t 1003000126 & Internal Medicine & 99223 & 52 \\\\\n",
       "\t 1003000126 & Internal Medicine & 99232 & 134\\\\\n",
       "\t 1003000126 & Internal Medicine & 99233 & 326\\\\\n",
       "\t 1003000126 & Internal Medicine & 99238 & 13 \\\\\n",
       "\t 1003000126 & Internal Medicine & 99239 & 146\\\\\n",
       "\t 1003000134 & Pathology         & 88304 & 125\\\\\n",
       "\\end{tabular}\n"
      ],
      "text/markdown": [
       "\n",
       "A data.table: 10 × 4\n",
       "\n",
       "| Rndrng_NPI &lt;chr&gt; | Rndrng_Prvdr_Type &lt;chr&gt; | HCPCS_Cd &lt;chr&gt; | Tot_Srvcs &lt;chr&gt; |\n",
       "|---|---|---|---|\n",
       "| 1003000126 | Internal Medicine | 99217 | 23  |\n",
       "| 1003000126 | Internal Medicine | 99218 | 16  |\n",
       "| 1003000126 | Internal Medicine | 99220 | 16  |\n",
       "| 1003000126 | Internal Medicine | 99221 | 12  |\n",
       "| 1003000126 | Internal Medicine | 99223 | 52  |\n",
       "| 1003000126 | Internal Medicine | 99232 | 134 |\n",
       "| 1003000126 | Internal Medicine | 99233 | 326 |\n",
       "| 1003000126 | Internal Medicine | 99238 | 13  |\n",
       "| 1003000126 | Internal Medicine | 99239 | 146 |\n",
       "| 1003000134 | Pathology         | 88304 | 125 |\n",
       "\n"
      ],
      "text/plain": [
       "   Rndrng_NPI Rndrng_Prvdr_Type HCPCS_Cd Tot_Srvcs\n",
       "1  1003000126 Internal Medicine 99217    23       \n",
       "2  1003000126 Internal Medicine 99218    16       \n",
       "3  1003000126 Internal Medicine 99220    16       \n",
       "4  1003000126 Internal Medicine 99221    12       \n",
       "5  1003000126 Internal Medicine 99223    52       \n",
       "6  1003000126 Internal Medicine 99232    134      \n",
       "7  1003000126 Internal Medicine 99233    326      \n",
       "8  1003000126 Internal Medicine 99238    13       \n",
       "9  1003000126 Internal Medicine 99239    146      \n",
       "10 1003000134 Pathology         88304    125      "
      ]
     },
     "metadata": {},
     "output_type": "display_data"
    },
    {
     "data": {
      "text/html": [
       "<style>\n",
       ".list-inline {list-style: none; margin:0; padding: 0}\n",
       ".list-inline>li {display: inline-block}\n",
       ".list-inline>li:not(:last-child)::after {content: \"\\00b7\"; padding: 0 .5ex}\n",
       "</style>\n",
       "<ol class=list-inline><li>100000</li><li>4</li></ol>\n"
      ],
      "text/latex": [
       "\\begin{enumerate*}\n",
       "\\item 100000\n",
       "\\item 4\n",
       "\\end{enumerate*}\n"
      ],
      "text/markdown": [
       "1. 100000\n",
       "2. 4\n",
       "\n",
       "\n"
      ],
      "text/plain": [
       "[1] 100000      4"
      ]
     },
     "metadata": {},
     "output_type": "display_data"
    }
   ],
   "source": [
    "head(physician_data, 10)\n",
    "dim(physician_data)"
   ]
  },
  {
   "cell_type": "code",
   "execution_count": 9,
   "metadata": {
    "id": "s52cmzTvo6eo"
   },
   "outputs": [],
   "source": [
    "physician_data[,Tot_Srvcs:=as.numeric(Tot_Srvcs)]"
   ]
  },
  {
   "cell_type": "markdown",
   "metadata": {},
   "source": [
    "# Converting the data to wide format"
   ]
  },
  {
   "cell_type": "code",
   "execution_count": 10,
   "metadata": {
    "id": "aKWWyb-hmcxs"
   },
   "outputs": [],
   "source": [
    "physician_data_wide=dcast(physician_data, Rndrng_NPI+Rndrng_Prvdr_Type ~ HCPCS_Cd,\n",
    " value.var = 'Tot_Srvcs', fun.aggregate = sum )%>%\n",
    " data.frame()%>%\n",
    " data.table()\n"
   ]
  },
  {
   "cell_type": "code",
   "execution_count": 11,
   "metadata": {
    "colab": {
     "base_uri": "https://localhost:8080/",
     "height": 341
    },
    "id": "0NF_UG0TrtkK",
    "outputId": "68f89e97-f0e9-45ea-87e8-80dbd26155f4"
   },
   "outputs": [
    {
     "data": {
      "text/html": [
       "<table class=\"dataframe\">\n",
       "<caption>A data.table: 6 × 2429</caption>\n",
       "<thead>\n",
       "\t<tr><th scope=col>Rndrng_NPI</th><th scope=col>Rndrng_Prvdr_Type</th><th scope=col>X0001A</th><th scope=col>X0011A</th><th scope=col>X0042T</th><th scope=col>X0054T</th><th scope=col>X0055T</th><th scope=col>X0097U</th><th scope=col>X0191T</th><th scope=col>X0202U</th><th scope=col>⋯</th><th scope=col>Q9965</th><th scope=col>Q9966</th><th scope=col>Q9967</th><th scope=col>Q9969</th><th scope=col>R0070</th><th scope=col>R0075</th><th scope=col>U0002</th><th scope=col>U0003</th><th scope=col>U0004</th><th scope=col>V2785</th></tr>\n",
       "\t<tr><th scope=col>&lt;chr&gt;</th><th scope=col>&lt;chr&gt;</th><th scope=col>&lt;dbl&gt;</th><th scope=col>&lt;dbl&gt;</th><th scope=col>&lt;dbl&gt;</th><th scope=col>&lt;dbl&gt;</th><th scope=col>&lt;dbl&gt;</th><th scope=col>&lt;dbl&gt;</th><th scope=col>&lt;dbl&gt;</th><th scope=col>&lt;dbl&gt;</th><th scope=col>⋯</th><th scope=col>&lt;dbl&gt;</th><th scope=col>&lt;dbl&gt;</th><th scope=col>&lt;dbl&gt;</th><th scope=col>&lt;dbl&gt;</th><th scope=col>&lt;dbl&gt;</th><th scope=col>&lt;dbl&gt;</th><th scope=col>&lt;dbl&gt;</th><th scope=col>&lt;dbl&gt;</th><th scope=col>&lt;dbl&gt;</th><th scope=col>&lt;dbl&gt;</th></tr>\n",
       "</thead>\n",
       "<tbody>\n",
       "\t<tr><td>1003000126</td><td>Internal Medicine      </td><td>0</td><td>0</td><td>0</td><td>0</td><td>0</td><td>0</td><td>0</td><td>0</td><td>⋯</td><td>0</td><td>0</td><td>0</td><td>0</td><td>0</td><td>0</td><td>0</td><td>0</td><td>0</td><td>0</td></tr>\n",
       "\t<tr><td>1003000134</td><td>Pathology              </td><td>0</td><td>0</td><td>0</td><td>0</td><td>0</td><td>0</td><td>0</td><td>0</td><td>⋯</td><td>0</td><td>0</td><td>0</td><td>0</td><td>0</td><td>0</td><td>0</td><td>0</td><td>0</td><td>0</td></tr>\n",
       "\t<tr><td>1003000142</td><td>Anesthesiology         </td><td>0</td><td>0</td><td>0</td><td>0</td><td>0</td><td>0</td><td>0</td><td>0</td><td>⋯</td><td>0</td><td>0</td><td>0</td><td>0</td><td>0</td><td>0</td><td>0</td><td>0</td><td>0</td><td>0</td></tr>\n",
       "\t<tr><td>1003000423</td><td>Obstetrics &amp; Gynecology</td><td>0</td><td>0</td><td>0</td><td>0</td><td>0</td><td>0</td><td>0</td><td>0</td><td>⋯</td><td>0</td><td>0</td><td>0</td><td>0</td><td>0</td><td>0</td><td>0</td><td>0</td><td>0</td><td>0</td></tr>\n",
       "\t<tr><td>1003000480</td><td>General Surgery        </td><td>0</td><td>0</td><td>0</td><td>0</td><td>0</td><td>0</td><td>0</td><td>0</td><td>⋯</td><td>0</td><td>0</td><td>0</td><td>0</td><td>0</td><td>0</td><td>0</td><td>0</td><td>0</td><td>0</td></tr>\n",
       "\t<tr><td>1003000522</td><td>Family Practice        </td><td>0</td><td>0</td><td>0</td><td>0</td><td>0</td><td>0</td><td>0</td><td>0</td><td>⋯</td><td>0</td><td>0</td><td>0</td><td>0</td><td>0</td><td>0</td><td>0</td><td>0</td><td>0</td><td>0</td></tr>\n",
       "</tbody>\n",
       "</table>\n"
      ],
      "text/latex": [
       "A data.table: 6 × 2429\n",
       "\\begin{tabular}{lllllllllllllllllllll}\n",
       " Rndrng\\_NPI & Rndrng\\_Prvdr\\_Type & X0001A & X0011A & X0042T & X0054T & X0055T & X0097U & X0191T & X0202U & ⋯ & Q9965 & Q9966 & Q9967 & Q9969 & R0070 & R0075 & U0002 & U0003 & U0004 & V2785\\\\\n",
       " <chr> & <chr> & <dbl> & <dbl> & <dbl> & <dbl> & <dbl> & <dbl> & <dbl> & <dbl> & ⋯ & <dbl> & <dbl> & <dbl> & <dbl> & <dbl> & <dbl> & <dbl> & <dbl> & <dbl> & <dbl>\\\\\n",
       "\\hline\n",
       "\t 1003000126 & Internal Medicine       & 0 & 0 & 0 & 0 & 0 & 0 & 0 & 0 & ⋯ & 0 & 0 & 0 & 0 & 0 & 0 & 0 & 0 & 0 & 0\\\\\n",
       "\t 1003000134 & Pathology               & 0 & 0 & 0 & 0 & 0 & 0 & 0 & 0 & ⋯ & 0 & 0 & 0 & 0 & 0 & 0 & 0 & 0 & 0 & 0\\\\\n",
       "\t 1003000142 & Anesthesiology          & 0 & 0 & 0 & 0 & 0 & 0 & 0 & 0 & ⋯ & 0 & 0 & 0 & 0 & 0 & 0 & 0 & 0 & 0 & 0\\\\\n",
       "\t 1003000423 & Obstetrics \\& Gynecology & 0 & 0 & 0 & 0 & 0 & 0 & 0 & 0 & ⋯ & 0 & 0 & 0 & 0 & 0 & 0 & 0 & 0 & 0 & 0\\\\\n",
       "\t 1003000480 & General Surgery         & 0 & 0 & 0 & 0 & 0 & 0 & 0 & 0 & ⋯ & 0 & 0 & 0 & 0 & 0 & 0 & 0 & 0 & 0 & 0\\\\\n",
       "\t 1003000522 & Family Practice         & 0 & 0 & 0 & 0 & 0 & 0 & 0 & 0 & ⋯ & 0 & 0 & 0 & 0 & 0 & 0 & 0 & 0 & 0 & 0\\\\\n",
       "\\end{tabular}\n"
      ],
      "text/markdown": [
       "\n",
       "A data.table: 6 × 2429\n",
       "\n",
       "| Rndrng_NPI &lt;chr&gt; | Rndrng_Prvdr_Type &lt;chr&gt; | X0001A &lt;dbl&gt; | X0011A &lt;dbl&gt; | X0042T &lt;dbl&gt; | X0054T &lt;dbl&gt; | X0055T &lt;dbl&gt; | X0097U &lt;dbl&gt; | X0191T &lt;dbl&gt; | X0202U &lt;dbl&gt; | ⋯ ⋯ | Q9965 &lt;dbl&gt; | Q9966 &lt;dbl&gt; | Q9967 &lt;dbl&gt; | Q9969 &lt;dbl&gt; | R0070 &lt;dbl&gt; | R0075 &lt;dbl&gt; | U0002 &lt;dbl&gt; | U0003 &lt;dbl&gt; | U0004 &lt;dbl&gt; | V2785 &lt;dbl&gt; |\n",
       "|---|---|---|---|---|---|---|---|---|---|---|---|---|---|---|---|---|---|---|---|---|\n",
       "| 1003000126 | Internal Medicine       | 0 | 0 | 0 | 0 | 0 | 0 | 0 | 0 | ⋯ | 0 | 0 | 0 | 0 | 0 | 0 | 0 | 0 | 0 | 0 |\n",
       "| 1003000134 | Pathology               | 0 | 0 | 0 | 0 | 0 | 0 | 0 | 0 | ⋯ | 0 | 0 | 0 | 0 | 0 | 0 | 0 | 0 | 0 | 0 |\n",
       "| 1003000142 | Anesthesiology          | 0 | 0 | 0 | 0 | 0 | 0 | 0 | 0 | ⋯ | 0 | 0 | 0 | 0 | 0 | 0 | 0 | 0 | 0 | 0 |\n",
       "| 1003000423 | Obstetrics &amp; Gynecology | 0 | 0 | 0 | 0 | 0 | 0 | 0 | 0 | ⋯ | 0 | 0 | 0 | 0 | 0 | 0 | 0 | 0 | 0 | 0 |\n",
       "| 1003000480 | General Surgery         | 0 | 0 | 0 | 0 | 0 | 0 | 0 | 0 | ⋯ | 0 | 0 | 0 | 0 | 0 | 0 | 0 | 0 | 0 | 0 |\n",
       "| 1003000522 | Family Practice         | 0 | 0 | 0 | 0 | 0 | 0 | 0 | 0 | ⋯ | 0 | 0 | 0 | 0 | 0 | 0 | 0 | 0 | 0 | 0 |\n",
       "\n"
      ],
      "text/plain": [
       "  Rndrng_NPI Rndrng_Prvdr_Type       X0001A X0011A X0042T X0054T X0055T X0097U\n",
       "1 1003000126 Internal Medicine       0      0      0      0      0      0     \n",
       "2 1003000134 Pathology               0      0      0      0      0      0     \n",
       "3 1003000142 Anesthesiology          0      0      0      0      0      0     \n",
       "4 1003000423 Obstetrics & Gynecology 0      0      0      0      0      0     \n",
       "5 1003000480 General Surgery         0      0      0      0      0      0     \n",
       "6 1003000522 Family Practice         0      0      0      0      0      0     \n",
       "  X0191T X0202U ⋯ Q9965 Q9966 Q9967 Q9969 R0070 R0075 U0002 U0003 U0004 V2785\n",
       "1 0      0      ⋯ 0     0     0     0     0     0     0     0     0     0    \n",
       "2 0      0      ⋯ 0     0     0     0     0     0     0     0     0     0    \n",
       "3 0      0      ⋯ 0     0     0     0     0     0     0     0     0     0    \n",
       "4 0      0      ⋯ 0     0     0     0     0     0     0     0     0     0    \n",
       "5 0      0      ⋯ 0     0     0     0     0     0     0     0     0     0    \n",
       "6 0      0      ⋯ 0     0     0     0     0     0     0     0     0     0    "
      ]
     },
     "metadata": {},
     "output_type": "display_data"
    },
    {
     "data": {
      "text/html": [
       "<style>\n",
       ".list-inline {list-style: none; margin:0; padding: 0}\n",
       ".list-inline>li {display: inline-block}\n",
       ".list-inline>li:not(:last-child)::after {content: \"\\00b7\"; padding: 0 .5ex}\n",
       "</style>\n",
       "<ol class=list-inline><li>11657</li><li>2429</li></ol>\n"
      ],
      "text/latex": [
       "\\begin{enumerate*}\n",
       "\\item 11657\n",
       "\\item 2429\n",
       "\\end{enumerate*}\n"
      ],
      "text/markdown": [
       "1. 11657\n",
       "2. 2429\n",
       "\n",
       "\n"
      ],
      "text/plain": [
       "[1] 11657  2429"
      ]
     },
     "metadata": {},
     "output_type": "display_data"
    }
   ],
   "source": [
    "head(physician_data_wide)\n",
    "dim(physician_data_wide)"
   ]
  },
  {
   "cell_type": "markdown",
   "metadata": {},
   "source": [
    "# Sparcity reducer function"
   ]
  },
  {
   "cell_type": "code",
   "execution_count": 12,
   "metadata": {},
   "outputs": [],
   "source": [
    "sparsity_reducer=function(data,prp=0.2){\n",
    "  \n",
    "  sparse_columns=\n",
    "  colMeans(data[,-c(1,2)]>0)%>%\n",
    "  as.data.table(keep.rownames = T)%>%\n",
    "  set_names(c(\"names\",\"means\"))%>%\n",
    "  arrange(-means)%>%\n",
    "  slice_head(prop=prp)%>%\n",
    "  as.data.table()\n",
    "  \n",
    "  cbind(data[,c(1,2)],data[,sparse_columns$names,with=F])\n",
    "  \n",
    "}\n"
   ]
  },
  {
   "cell_type": "code",
   "execution_count": 92,
   "metadata": {},
   "outputs": [
    {
     "data": {
      "text/html": [
       "<table class=\"dataframe\">\n",
       "<caption>A data.table: 6 × 244</caption>\n",
       "<thead>\n",
       "\t<tr><th scope=col>Rndrng_NPI</th><th scope=col>Rndrng_Prvdr_Type</th><th scope=col>X99213</th><th scope=col>X99214</th><th scope=col>X99232</th><th scope=col>X99204</th><th scope=col>X99203</th><th scope=col>G0008</th><th scope=col>X99233</th><th scope=col>X99223</th><th scope=col>⋯</th><th scope=col>X90960</th><th scope=col>X90961</th><th scope=col>Q0091</th><th scope=col>X99316</th><th scope=col>G0279</th><th scope=col>X11104</th><th scope=col>X73221</th><th scope=col>X73700</th><th scope=col>X93280</th><th scope=col>X93458</th></tr>\n",
       "\t<tr><th scope=col>&lt;chr&gt;</th><th scope=col>&lt;chr&gt;</th><th scope=col>&lt;dbl&gt;</th><th scope=col>&lt;dbl&gt;</th><th scope=col>&lt;dbl&gt;</th><th scope=col>&lt;dbl&gt;</th><th scope=col>&lt;dbl&gt;</th><th scope=col>&lt;dbl&gt;</th><th scope=col>&lt;dbl&gt;</th><th scope=col>&lt;dbl&gt;</th><th scope=col>⋯</th><th scope=col>&lt;dbl&gt;</th><th scope=col>&lt;dbl&gt;</th><th scope=col>&lt;dbl&gt;</th><th scope=col>&lt;dbl&gt;</th><th scope=col>&lt;dbl&gt;</th><th scope=col>&lt;dbl&gt;</th><th scope=col>&lt;dbl&gt;</th><th scope=col>&lt;dbl&gt;</th><th scope=col>&lt;dbl&gt;</th><th scope=col>&lt;dbl&gt;</th></tr>\n",
       "</thead>\n",
       "<tbody>\n",
       "\t<tr><td>1003000126</td><td>Internal Medicine      </td><td>  0</td><td>  0</td><td>134</td><td> 0</td><td>0</td><td>0</td><td>326</td><td>52</td><td>⋯</td><td>0</td><td>0</td><td> 0</td><td>0</td><td>0</td><td>0</td><td>0</td><td>0</td><td>0</td><td>0</td></tr>\n",
       "\t<tr><td>1003000134</td><td>Pathology              </td><td>  0</td><td>  0</td><td>  0</td><td> 0</td><td>0</td><td>0</td><td>  0</td><td> 0</td><td>⋯</td><td>0</td><td>0</td><td> 0</td><td>0</td><td>0</td><td>0</td><td>0</td><td>0</td><td>0</td><td>0</td></tr>\n",
       "\t<tr><td>1003000142</td><td>Anesthesiology         </td><td>304</td><td>148</td><td>  0</td><td>44</td><td>0</td><td>0</td><td>  0</td><td> 0</td><td>⋯</td><td>0</td><td>0</td><td> 0</td><td>0</td><td>0</td><td>0</td><td>0</td><td>0</td><td>0</td><td>0</td></tr>\n",
       "\t<tr><td>1003000423</td><td>Obstetrics &amp; Gynecology</td><td> 14</td><td><span style=white-space:pre-wrap>  0</span></td><td><span style=white-space:pre-wrap>  0</span></td><td> 0</td><td>0</td><td>0</td><td><span style=white-space:pre-wrap>  0</span></td><td> 0</td><td>⋯</td><td>0</td><td>0</td><td>15</td><td>0</td><td>0</td><td>0</td><td>0</td><td>0</td><td>0</td><td>0</td></tr>\n",
       "\t<tr><td>1003000480</td><td>General Surgery        </td><td> 20</td><td>  0</td><td>  0</td><td> 0</td><td>0</td><td>0</td><td>  0</td><td> 0</td><td>⋯</td><td>0</td><td>0</td><td> 0</td><td>0</td><td>0</td><td>0</td><td>0</td><td>0</td><td>0</td><td>0</td></tr>\n",
       "\t<tr><td>1003000522</td><td>Family Practice        </td><td>112</td><td>162</td><td>  0</td><td> 0</td><td>0</td><td>0</td><td>  0</td><td> 0</td><td>⋯</td><td>0</td><td>0</td><td> 0</td><td>0</td><td>0</td><td>0</td><td>0</td><td>0</td><td>0</td><td>0</td></tr>\n",
       "</tbody>\n",
       "</table>\n"
      ],
      "text/latex": [
       "A data.table: 6 × 244\n",
       "\\begin{tabular}{lllllllllllllllllllll}\n",
       " Rndrng\\_NPI & Rndrng\\_Prvdr\\_Type & X99213 & X99214 & X99232 & X99204 & X99203 & G0008 & X99233 & X99223 & ⋯ & X90960 & X90961 & Q0091 & X99316 & G0279 & X11104 & X73221 & X73700 & X93280 & X93458\\\\\n",
       " <chr> & <chr> & <dbl> & <dbl> & <dbl> & <dbl> & <dbl> & <dbl> & <dbl> & <dbl> & ⋯ & <dbl> & <dbl> & <dbl> & <dbl> & <dbl> & <dbl> & <dbl> & <dbl> & <dbl> & <dbl>\\\\\n",
       "\\hline\n",
       "\t 1003000126 & Internal Medicine       &   0 &   0 & 134 &  0 & 0 & 0 & 326 & 52 & ⋯ & 0 & 0 &  0 & 0 & 0 & 0 & 0 & 0 & 0 & 0\\\\\n",
       "\t 1003000134 & Pathology               &   0 &   0 &   0 &  0 & 0 & 0 &   0 &  0 & ⋯ & 0 & 0 &  0 & 0 & 0 & 0 & 0 & 0 & 0 & 0\\\\\n",
       "\t 1003000142 & Anesthesiology          & 304 & 148 &   0 & 44 & 0 & 0 &   0 &  0 & ⋯ & 0 & 0 &  0 & 0 & 0 & 0 & 0 & 0 & 0 & 0\\\\\n",
       "\t 1003000423 & Obstetrics \\& Gynecology &  14 &   0 &   0 &  0 & 0 & 0 &   0 &  0 & ⋯ & 0 & 0 & 15 & 0 & 0 & 0 & 0 & 0 & 0 & 0\\\\\n",
       "\t 1003000480 & General Surgery         &  20 &   0 &   0 &  0 & 0 & 0 &   0 &  0 & ⋯ & 0 & 0 &  0 & 0 & 0 & 0 & 0 & 0 & 0 & 0\\\\\n",
       "\t 1003000522 & Family Practice         & 112 & 162 &   0 &  0 & 0 & 0 &   0 &  0 & ⋯ & 0 & 0 &  0 & 0 & 0 & 0 & 0 & 0 & 0 & 0\\\\\n",
       "\\end{tabular}\n"
      ],
      "text/markdown": [
       "\n",
       "A data.table: 6 × 244\n",
       "\n",
       "| Rndrng_NPI &lt;chr&gt; | Rndrng_Prvdr_Type &lt;chr&gt; | X99213 &lt;dbl&gt; | X99214 &lt;dbl&gt; | X99232 &lt;dbl&gt; | X99204 &lt;dbl&gt; | X99203 &lt;dbl&gt; | G0008 &lt;dbl&gt; | X99233 &lt;dbl&gt; | X99223 &lt;dbl&gt; | ⋯ ⋯ | X90960 &lt;dbl&gt; | X90961 &lt;dbl&gt; | Q0091 &lt;dbl&gt; | X99316 &lt;dbl&gt; | G0279 &lt;dbl&gt; | X11104 &lt;dbl&gt; | X73221 &lt;dbl&gt; | X73700 &lt;dbl&gt; | X93280 &lt;dbl&gt; | X93458 &lt;dbl&gt; |\n",
       "|---|---|---|---|---|---|---|---|---|---|---|---|---|---|---|---|---|---|---|---|---|\n",
       "| 1003000126 | Internal Medicine       |   0 |   0 | 134 |  0 | 0 | 0 | 326 | 52 | ⋯ | 0 | 0 |  0 | 0 | 0 | 0 | 0 | 0 | 0 | 0 |\n",
       "| 1003000134 | Pathology               |   0 |   0 |   0 |  0 | 0 | 0 |   0 |  0 | ⋯ | 0 | 0 |  0 | 0 | 0 | 0 | 0 | 0 | 0 | 0 |\n",
       "| 1003000142 | Anesthesiology          | 304 | 148 |   0 | 44 | 0 | 0 |   0 |  0 | ⋯ | 0 | 0 |  0 | 0 | 0 | 0 | 0 | 0 | 0 | 0 |\n",
       "| 1003000423 | Obstetrics &amp; Gynecology |  14 |   0 |   0 |  0 | 0 | 0 |   0 |  0 | ⋯ | 0 | 0 | 15 | 0 | 0 | 0 | 0 | 0 | 0 | 0 |\n",
       "| 1003000480 | General Surgery         |  20 |   0 |   0 |  0 | 0 | 0 |   0 |  0 | ⋯ | 0 | 0 |  0 | 0 | 0 | 0 | 0 | 0 | 0 | 0 |\n",
       "| 1003000522 | Family Practice         | 112 | 162 |   0 |  0 | 0 | 0 |   0 |  0 | ⋯ | 0 | 0 |  0 | 0 | 0 | 0 | 0 | 0 | 0 | 0 |\n",
       "\n"
      ],
      "text/plain": [
       "  Rndrng_NPI Rndrng_Prvdr_Type       X99213 X99214 X99232 X99204 X99203 G0008\n",
       "1 1003000126 Internal Medicine         0      0    134     0     0      0    \n",
       "2 1003000134 Pathology                 0      0      0     0     0      0    \n",
       "3 1003000142 Anesthesiology          304    148      0    44     0      0    \n",
       "4 1003000423 Obstetrics & Gynecology  14      0      0     0     0      0    \n",
       "5 1003000480 General Surgery          20      0      0     0     0      0    \n",
       "6 1003000522 Family Practice         112    162      0     0     0      0    \n",
       "  X99233 X99223 ⋯ X90960 X90961 Q0091 X99316 G0279 X11104 X73221 X73700 X93280\n",
       "1 326    52     ⋯ 0      0       0    0      0     0      0      0      0     \n",
       "2   0     0     ⋯ 0      0       0    0      0     0      0      0      0     \n",
       "3   0     0     ⋯ 0      0       0    0      0     0      0      0      0     \n",
       "4   0     0     ⋯ 0      0      15    0      0     0      0      0      0     \n",
       "5   0     0     ⋯ 0      0       0    0      0     0      0      0      0     \n",
       "6   0     0     ⋯ 0      0       0    0      0     0      0      0      0     \n",
       "  X93458\n",
       "1 0     \n",
       "2 0     \n",
       "3 0     \n",
       "4 0     \n",
       "5 0     \n",
       "6 0     "
      ]
     },
     "metadata": {},
     "output_type": "display_data"
    }
   ],
   "source": [
    "physician_data_wide_reduced=sparsity_reducer(physician_data_wide,prp = 0.1)\n",
    "head(physician_data_wide_reduced)"
   ]
  },
  {
   "cell_type": "code",
   "execution_count": 18,
   "metadata": {},
   "outputs": [
    {
     "data": {
      "text/html": [
       "<table class=\"dataframe\">\n",
       "<caption>A data.table: 1 × 1</caption>\n",
       "<thead>\n",
       "\t<tr><th scope=col>X99232</th></tr>\n",
       "\t<tr><th scope=col>&lt;dbl&gt;</th></tr>\n",
       "</thead>\n",
       "<tbody>\n",
       "\t<tr><td>134</td></tr>\n",
       "</tbody>\n",
       "</table>\n"
      ],
      "text/latex": [
       "A data.table: 1 × 1\n",
       "\\begin{tabular}{l}\n",
       " X99232\\\\\n",
       " <dbl>\\\\\n",
       "\\hline\n",
       "\t 134\\\\\n",
       "\\end{tabular}\n"
      ],
      "text/markdown": [
       "\n",
       "A data.table: 1 × 1\n",
       "\n",
       "| X99232 &lt;dbl&gt; |\n",
       "|---|\n",
       "| 134 |\n",
       "\n"
      ],
      "text/plain": [
       "  X99232\n",
       "1 134   "
      ]
     },
     "metadata": {},
     "output_type": "display_data"
    }
   ],
   "source": [
    "physician_data_wide[Rndrng_NPI==1003000126,\"X99232\"]"
   ]
  },
  {
   "cell_type": "markdown",
   "metadata": {},
   "source": [
    "# Euclidean distance finder"
   ]
  },
  {
   "cell_type": "code",
   "execution_count": 19,
   "metadata": {
    "id": "0NHHaYLHsFDO"
   },
   "outputs": [],
   "source": [
    "distance_finder=function(x,y){\n",
    "  sqrt(sum((x-y)^2, na.rm = T))\n",
    "}"
   ]
  },
  {
   "cell_type": "code",
   "execution_count": 20,
   "metadata": {
    "colab": {
     "base_uri": "https://localhost:8080/",
     "height": 34
    },
    "id": "PwcQOGMm3gRN",
    "outputId": "f8896749-365f-48fc-b9c9-edafa15bac33"
   },
   "outputs": [
    {
     "data": {
      "text/html": [
       "2.23606797749979"
      ],
      "text/latex": [
       "2.23606797749979"
      ],
      "text/markdown": [
       "2.23606797749979"
      ],
      "text/plain": [
       "[1] 2.236068"
      ]
     },
     "metadata": {},
     "output_type": "display_data"
    }
   ],
   "source": [
    "x=c(1,2,3,4,5)\n",
    "y=c(2,3,4,5,6)\n",
    "distance_finder(x,y)"
   ]
  },
  {
   "cell_type": "code",
   "execution_count": 21,
   "metadata": {
    "colab": {
     "base_uri": "https://localhost:8080/",
     "height": 34
    },
    "id": "LaKQcfk-k5Uc",
    "outputId": "d0f38011-6490-4faf-ed2f-437ccb6b0624"
   },
   "outputs": [
    {
     "data": {
      "text/html": [
       "5"
      ],
      "text/latex": [
       "5"
      ],
      "text/markdown": [
       "5"
      ],
      "text/plain": [
       "[1] 5"
      ]
     },
     "metadata": {},
     "output_type": "display_data"
    }
   ],
   "source": [
    "2.23606797749979^2"
   ]
  },
  {
   "cell_type": "markdown",
   "metadata": {},
   "source": [
    "# Creating test and train sets"
   ]
  },
  {
   "cell_type": "code",
   "execution_count": 22,
   "metadata": {
    "colab": {
     "base_uri": "https://localhost:8080/"
    },
    "id": "qDGhhi9C50sd",
    "outputId": "62ccb3f1-ddea-4bbe-d620-77ad66345744"
   },
   "outputs": [],
   "source": [
    "#install.packages(\"caTools\")"
   ]
  },
  {
   "cell_type": "code",
   "execution_count": 69,
   "metadata": {
    "id": "h3bK4gBN4iuk"
   },
   "outputs": [],
   "source": [
    "library(caTools)\n",
    "set.seed=123\n",
    "sample=sample.split(SplitRatio = 0.8 , physician_data_wide_reduced$Rndrng_NPI)\n",
    "test_set=subset(physician_data_wide_reduced,sample==F)%>%as.data.frame()\n",
    "training_set=subset(physician_data_wide_reduced,sample==T)%>%as.data.frame()"
   ]
  },
  {
   "cell_type": "code",
   "execution_count": 70,
   "metadata": {
    "colab": {
     "base_uri": "https://localhost:8080/",
     "height": 324
    },
    "id": "MHoRdB2L-tOc",
    "outputId": "eff862bc-7722-4559-8549-5f216098372e"
   },
   "outputs": [
    {
     "data": {
      "text/html": [
       "<table class=\"dataframe\">\n",
       "<caption>A data.frame: 6 × 2429</caption>\n",
       "<thead>\n",
       "\t<tr><th></th><th scope=col>Rndrng_NPI</th><th scope=col>Rndrng_Prvdr_Type</th><th scope=col>X0001A</th><th scope=col>X0011A</th><th scope=col>X0042T</th><th scope=col>X0054T</th><th scope=col>X0055T</th><th scope=col>X0097U</th><th scope=col>X0191T</th><th scope=col>X0202U</th><th scope=col>⋯</th><th scope=col>Q9965</th><th scope=col>Q9966</th><th scope=col>Q9967</th><th scope=col>Q9969</th><th scope=col>R0070</th><th scope=col>R0075</th><th scope=col>U0002</th><th scope=col>U0003</th><th scope=col>U0004</th><th scope=col>V2785</th></tr>\n",
       "\t<tr><th></th><th scope=col>&lt;chr&gt;</th><th scope=col>&lt;chr&gt;</th><th scope=col>&lt;dbl&gt;</th><th scope=col>&lt;dbl&gt;</th><th scope=col>&lt;dbl&gt;</th><th scope=col>&lt;dbl&gt;</th><th scope=col>&lt;dbl&gt;</th><th scope=col>&lt;dbl&gt;</th><th scope=col>&lt;dbl&gt;</th><th scope=col>&lt;dbl&gt;</th><th scope=col>⋯</th><th scope=col>&lt;dbl&gt;</th><th scope=col>&lt;dbl&gt;</th><th scope=col>&lt;dbl&gt;</th><th scope=col>&lt;dbl&gt;</th><th scope=col>&lt;dbl&gt;</th><th scope=col>&lt;dbl&gt;</th><th scope=col>&lt;dbl&gt;</th><th scope=col>&lt;dbl&gt;</th><th scope=col>&lt;dbl&gt;</th><th scope=col>&lt;dbl&gt;</th></tr>\n",
       "</thead>\n",
       "<tbody>\n",
       "\t<tr><th scope=row>1</th><td>1003000126</td><td>Internal Medicine      </td><td>0</td><td>0</td><td>0</td><td>0</td><td>0</td><td>0</td><td>0</td><td>0</td><td>⋯</td><td>0</td><td>0</td><td>0</td><td>0</td><td>0</td><td>0</td><td>0</td><td>0</td><td>0</td><td>0</td></tr>\n",
       "\t<tr><th scope=row>2</th><td>1003000134</td><td>Pathology              </td><td>0</td><td>0</td><td>0</td><td>0</td><td>0</td><td>0</td><td>0</td><td>0</td><td>⋯</td><td>0</td><td>0</td><td>0</td><td>0</td><td>0</td><td>0</td><td>0</td><td>0</td><td>0</td><td>0</td></tr>\n",
       "\t<tr><th scope=row>3</th><td>1003000142</td><td>Anesthesiology         </td><td>0</td><td>0</td><td>0</td><td>0</td><td>0</td><td>0</td><td>0</td><td>0</td><td>⋯</td><td>0</td><td>0</td><td>0</td><td>0</td><td>0</td><td>0</td><td>0</td><td>0</td><td>0</td><td>0</td></tr>\n",
       "\t<tr><th scope=row>4</th><td>1003000423</td><td>Obstetrics &amp; Gynecology</td><td>0</td><td>0</td><td>0</td><td>0</td><td>0</td><td>0</td><td>0</td><td>0</td><td>⋯</td><td>0</td><td>0</td><td>0</td><td>0</td><td>0</td><td>0</td><td>0</td><td>0</td><td>0</td><td>0</td></tr>\n",
       "\t<tr><th scope=row>5</th><td>1003000480</td><td>General Surgery        </td><td>0</td><td>0</td><td>0</td><td>0</td><td>0</td><td>0</td><td>0</td><td>0</td><td>⋯</td><td>0</td><td>0</td><td>0</td><td>0</td><td>0</td><td>0</td><td>0</td><td>0</td><td>0</td><td>0</td></tr>\n",
       "\t<tr><th scope=row>6</th><td>1003000522</td><td>Family Practice        </td><td>0</td><td>0</td><td>0</td><td>0</td><td>0</td><td>0</td><td>0</td><td>0</td><td>⋯</td><td>0</td><td>0</td><td>0</td><td>0</td><td>0</td><td>0</td><td>0</td><td>0</td><td>0</td><td>0</td></tr>\n",
       "</tbody>\n",
       "</table>\n"
      ],
      "text/latex": [
       "A data.frame: 6 × 2429\n",
       "\\begin{tabular}{r|lllllllllllllllllllll}\n",
       "  & Rndrng\\_NPI & Rndrng\\_Prvdr\\_Type & X0001A & X0011A & X0042T & X0054T & X0055T & X0097U & X0191T & X0202U & ⋯ & Q9965 & Q9966 & Q9967 & Q9969 & R0070 & R0075 & U0002 & U0003 & U0004 & V2785\\\\\n",
       "  & <chr> & <chr> & <dbl> & <dbl> & <dbl> & <dbl> & <dbl> & <dbl> & <dbl> & <dbl> & ⋯ & <dbl> & <dbl> & <dbl> & <dbl> & <dbl> & <dbl> & <dbl> & <dbl> & <dbl> & <dbl>\\\\\n",
       "\\hline\n",
       "\t1 & 1003000126 & Internal Medicine       & 0 & 0 & 0 & 0 & 0 & 0 & 0 & 0 & ⋯ & 0 & 0 & 0 & 0 & 0 & 0 & 0 & 0 & 0 & 0\\\\\n",
       "\t2 & 1003000134 & Pathology               & 0 & 0 & 0 & 0 & 0 & 0 & 0 & 0 & ⋯ & 0 & 0 & 0 & 0 & 0 & 0 & 0 & 0 & 0 & 0\\\\\n",
       "\t3 & 1003000142 & Anesthesiology          & 0 & 0 & 0 & 0 & 0 & 0 & 0 & 0 & ⋯ & 0 & 0 & 0 & 0 & 0 & 0 & 0 & 0 & 0 & 0\\\\\n",
       "\t4 & 1003000423 & Obstetrics \\& Gynecology & 0 & 0 & 0 & 0 & 0 & 0 & 0 & 0 & ⋯ & 0 & 0 & 0 & 0 & 0 & 0 & 0 & 0 & 0 & 0\\\\\n",
       "\t5 & 1003000480 & General Surgery         & 0 & 0 & 0 & 0 & 0 & 0 & 0 & 0 & ⋯ & 0 & 0 & 0 & 0 & 0 & 0 & 0 & 0 & 0 & 0\\\\\n",
       "\t6 & 1003000522 & Family Practice         & 0 & 0 & 0 & 0 & 0 & 0 & 0 & 0 & ⋯ & 0 & 0 & 0 & 0 & 0 & 0 & 0 & 0 & 0 & 0\\\\\n",
       "\\end{tabular}\n"
      ],
      "text/markdown": [
       "\n",
       "A data.frame: 6 × 2429\n",
       "\n",
       "| <!--/--> | Rndrng_NPI &lt;chr&gt; | Rndrng_Prvdr_Type &lt;chr&gt; | X0001A &lt;dbl&gt; | X0011A &lt;dbl&gt; | X0042T &lt;dbl&gt; | X0054T &lt;dbl&gt; | X0055T &lt;dbl&gt; | X0097U &lt;dbl&gt; | X0191T &lt;dbl&gt; | X0202U &lt;dbl&gt; | ⋯ ⋯ | Q9965 &lt;dbl&gt; | Q9966 &lt;dbl&gt; | Q9967 &lt;dbl&gt; | Q9969 &lt;dbl&gt; | R0070 &lt;dbl&gt; | R0075 &lt;dbl&gt; | U0002 &lt;dbl&gt; | U0003 &lt;dbl&gt; | U0004 &lt;dbl&gt; | V2785 &lt;dbl&gt; |\n",
       "|---|---|---|---|---|---|---|---|---|---|---|---|---|---|---|---|---|---|---|---|---|---|\n",
       "| 1 | 1003000126 | Internal Medicine       | 0 | 0 | 0 | 0 | 0 | 0 | 0 | 0 | ⋯ | 0 | 0 | 0 | 0 | 0 | 0 | 0 | 0 | 0 | 0 |\n",
       "| 2 | 1003000134 | Pathology               | 0 | 0 | 0 | 0 | 0 | 0 | 0 | 0 | ⋯ | 0 | 0 | 0 | 0 | 0 | 0 | 0 | 0 | 0 | 0 |\n",
       "| 3 | 1003000142 | Anesthesiology          | 0 | 0 | 0 | 0 | 0 | 0 | 0 | 0 | ⋯ | 0 | 0 | 0 | 0 | 0 | 0 | 0 | 0 | 0 | 0 |\n",
       "| 4 | 1003000423 | Obstetrics &amp; Gynecology | 0 | 0 | 0 | 0 | 0 | 0 | 0 | 0 | ⋯ | 0 | 0 | 0 | 0 | 0 | 0 | 0 | 0 | 0 | 0 |\n",
       "| 5 | 1003000480 | General Surgery         | 0 | 0 | 0 | 0 | 0 | 0 | 0 | 0 | ⋯ | 0 | 0 | 0 | 0 | 0 | 0 | 0 | 0 | 0 | 0 |\n",
       "| 6 | 1003000522 | Family Practice         | 0 | 0 | 0 | 0 | 0 | 0 | 0 | 0 | ⋯ | 0 | 0 | 0 | 0 | 0 | 0 | 0 | 0 | 0 | 0 |\n",
       "\n"
      ],
      "text/plain": [
       "  Rndrng_NPI Rndrng_Prvdr_Type       X0001A X0011A X0042T X0054T X0055T X0097U\n",
       "1 1003000126 Internal Medicine       0      0      0      0      0      0     \n",
       "2 1003000134 Pathology               0      0      0      0      0      0     \n",
       "3 1003000142 Anesthesiology          0      0      0      0      0      0     \n",
       "4 1003000423 Obstetrics & Gynecology 0      0      0      0      0      0     \n",
       "5 1003000480 General Surgery         0      0      0      0      0      0     \n",
       "6 1003000522 Family Practice         0      0      0      0      0      0     \n",
       "  X0191T X0202U ⋯ Q9965 Q9966 Q9967 Q9969 R0070 R0075 U0002 U0003 U0004 V2785\n",
       "1 0      0      ⋯ 0     0     0     0     0     0     0     0     0     0    \n",
       "2 0      0      ⋯ 0     0     0     0     0     0     0     0     0     0    \n",
       "3 0      0      ⋯ 0     0     0     0     0     0     0     0     0     0    \n",
       "4 0      0      ⋯ 0     0     0     0     0     0     0     0     0     0    \n",
       "5 0      0      ⋯ 0     0     0     0     0     0     0     0     0     0    \n",
       "6 0      0      ⋯ 0     0     0     0     0     0     0     0     0     0    "
      ]
     },
     "metadata": {},
     "output_type": "display_data"
    },
    {
     "data": {
      "text/html": [
       "<style>\n",
       ".list-inline {list-style: none; margin:0; padding: 0}\n",
       ".list-inline>li {display: inline-block}\n",
       ".list-inline>li:not(:last-child)::after {content: \"\\00b7\"; padding: 0 .5ex}\n",
       "</style>\n",
       "<ol class=list-inline><li>9325</li><li>2429</li></ol>\n"
      ],
      "text/latex": [
       "\\begin{enumerate*}\n",
       "\\item 9325\n",
       "\\item 2429\n",
       "\\end{enumerate*}\n"
      ],
      "text/markdown": [
       "1. 9325\n",
       "2. 2429\n",
       "\n",
       "\n"
      ],
      "text/plain": [
       "[1] 9325 2429"
      ]
     },
     "metadata": {},
     "output_type": "display_data"
    }
   ],
   "source": [
    "head(training_set)\n",
    "dim(training_set)"
   ]
  },
  {
   "cell_type": "markdown",
   "metadata": {},
   "source": [
    "# The KNN function"
   ]
  },
  {
   "cell_type": "code",
   "execution_count": 71,
   "metadata": {
    "colab": {
     "base_uri": "https://localhost:8080/"
    },
    "id": "-fvrCe1Ln3QE",
    "outputId": "eb5a30de-0489-4891-834e-ba4f7a79bfc2"
   },
   "outputs": [],
   "source": [
    "#install.packages(c(\"foreach\",\"doMC\"))"
   ]
  },
  {
   "cell_type": "code",
   "execution_count": 72,
   "metadata": {
    "id": "Jlc1Gwds5AZd"
   },
   "outputs": [],
   "source": [
    "knn=function(k=1,train_data,test_data,name_var,outcome_var,mode=\"prediction\",ncores=2,sparsity_prp=1,scale=T){\n",
    "  \n",
    "  require(data.table)\n",
    "  require(dtplyr)\n",
    "  require(tidyverse)\n",
    "  library(foreach)\n",
    "  library(doMC)\n",
    "  registerDoMC(cores=ncores)\n",
    "\n",
    "  distance_finder=function(x,y){\n",
    "    sqrt(sum((x-y)^2,na.rm = T))\n",
    "  }\n",
    "  \n",
    "  sparsity_reducer=function(data,prp){\n",
    "  \n",
    "  sparse_columns=\n",
    "  colMeans(data[,!names(data) %in% c(name_var,outcome_var)])%>%\n",
    "  as.data.table(keep.rownames = T)%>%\n",
    "  set_names(c(\"names\",\"means\"))%>%\n",
    "  arrange(-means)%>%\n",
    "  slice_head(prop=prp)%>%\n",
    "  as.data.table()\n",
    "  \n",
    "  cbind(data[,c(name_var,outcome_var)],data[,sparse_columns$names])\n",
    "  }\n",
    "  \n",
    "  test_data=\n",
    "  sparsity_reducer(test_data,\n",
    "                   prp = sparsity_prp)\n",
    "  \n",
    "  train_data=train_data[,colnames(test_data)]\n",
    "  \n",
    "  if(scale==T){\n",
    "    test_data[,!names(test_data) %in% c(name_var,outcome_var)]=lapply(test_data[,!names(test_data) %in% c(name_var,outcome_var)],scale)\n",
    "    train_data[,!names(train_data) %in% c(name_var,outcome_var)]=lapply(train_data[,!names(train_data) %in% c(name_var,outcome_var)],scale)\n",
    "  }\n",
    "    \n",
    "    result=\n",
    "    foreach(a = 1:nrow(test_data), .combine=rbind) %:%\n",
    "      foreach(b = 1:nrow(train_data) , .combine=rbind) %dopar% {\n",
    "        data.frame(distance_finder(test_data[a,!names(test_data) %in% c(name_var,outcome_var)],\n",
    "                        train_data[b,!names(train_data) %in% c(name_var,outcome_var)]),\n",
    "          train_data[b,c(name_var,outcome_var)],\n",
    "          test_data[a,c(name_var,outcome_var)])\n",
    "      }\n",
    "\n",
    "\n",
    "  colnames(result)=\n",
    "  c(\"Distance\",\n",
    "    paste(\"training\",name_var,sep=\"_\"),\n",
    "    paste(\"training\",outcome_var,sep=\"_\"),\n",
    "    paste(\"test\",name_var,sep=\"_\"),\n",
    "    paste(\"test\",outcome_var,sep=\"_\"))\n",
    "\n",
    "  result=result%>%\n",
    "  group_by(eval(parse(text=paste(\"test\",outcome_var,sep=\"_\"))))%>%\n",
    "  arrange(Distance,.by_group = T)%>%\n",
    "  as.data.table()\n",
    "\n",
    "  Mode = function(x) {\n",
    "    uniques = unique(x)\n",
    "    uniques[which.max(tabulate(match(x, uniques)))]\n",
    "    }\n",
    "\n",
    "  prediction=result[,prediction:= Mode(head(eval(parse(text=paste(\"training\",outcome_var,sep=\"_\"))),k))\n",
    "                    ,by=eval(parse(text=paste(\"test\",name_var,sep=\"_\")))]\n",
    "\n",
    "  \n",
    "  result=result[,head(.SD,k),by=eval(parse(text=paste(\"test\",name_var,sep=\"_\")))]\n",
    "  \n",
    "  colnames(result)[1]=\"test_ID\"\n",
    "  colnames(result)[5]=\"expected\"\n",
    "  \n",
    "  result=result[,-6]\n",
    "  \n",
    "  if(mode==\"diagnosis\"){\n",
    "    result=result\n",
    "  }\n",
    "  if(mode==\"prediction\"){\n",
    "    result=result[,head(.SD,1),keyby=test_ID]\n",
    "    result=result[,.(test_ID,expected,prediction)]\n",
    "    result=result[,correct_prediction:=(expected==prediction)]\n",
    "  }\n",
    "\n",
    "\n",
    "  return(result)\n",
    "\n",
    "}"
   ]
  },
  {
   "cell_type": "markdown",
   "metadata": {},
   "source": [
    "## Trying the function on the CMS data"
   ]
  },
  {
   "cell_type": "code",
   "execution_count": 102,
   "metadata": {
    "colab": {
     "base_uri": "https://localhost:8080/"
    },
    "id": "q4r_E1Mv7jvL",
    "outputId": "0c26eb8d-9824-4724-d921-5c9024863ffd"
   },
   "outputs": [],
   "source": [
    "knn_results=\n",
    "knn(\n",
    "  k=sqrt(length(training_set)),\n",
    "  train_data=training_set,\n",
    "  test_data = test_set[1:100,],\n",
    "  ncores = 80,\n",
    "  outcome_var = \"Rndrng_Prvdr_Type\",\n",
    "  name_var = \"Rndrng_NPI\",\n",
    "  mode=\"prediction\",\n",
    "  sparsity_prp=1,\n",
    "  scale=T\n",
    ")"
   ]
  },
  {
   "cell_type": "code",
   "execution_count": 106,
   "metadata": {
    "colab": {
     "base_uri": "https://localhost:8080/",
     "height": 1000
    },
    "id": "5_2Rl3YK-yN_",
    "outputId": "d0b7e7fe-45f5-4f9c-dc3e-9543f941270a"
   },
   "outputs": [
    {
     "data": {
      "text/html": [
       "<table class=\"dataframe\">\n",
       "<caption>A data.table: 10 × 4</caption>\n",
       "<thead>\n",
       "\t<tr><th scope=col>test_ID</th><th scope=col>expected</th><th scope=col>prediction</th><th scope=col>correct_prediction</th></tr>\n",
       "\t<tr><th scope=col>&lt;chr&gt;</th><th scope=col>&lt;chr&gt;</th><th scope=col>&lt;chr&gt;</th><th scope=col>&lt;lgl&gt;</th></tr>\n",
       "</thead>\n",
       "<tbody>\n",
       "\t<tr><td>1003000530</td><td>Internal Medicine                     </td><td>Family Practice                              </td><td>FALSE</td></tr>\n",
       "\t<tr><td>1003000704</td><td>Anesthesiology                        </td><td>Certified Registered Nurse Anesthetist (CRNA)</td><td>FALSE</td></tr>\n",
       "\t<tr><td>1003000829</td><td>Physical Therapist in Private Practice</td><td>Physical Therapist in Private Practice       </td><td> TRUE</td></tr>\n",
       "\t<tr><td>1003001140</td><td>Physical Therapist in Private Practice</td><td>Physical Therapist in Private Practice       </td><td> TRUE</td></tr>\n",
       "\t<tr><td>1003001785</td><td>Orthopedic Surgery                    </td><td>Orthopedic Surgery                           </td><td> TRUE</td></tr>\n",
       "\t<tr><td>1003001918</td><td>Physical Therapist in Private Practice</td><td>Physical Therapist in Private Practice       </td><td> TRUE</td></tr>\n",
       "\t<tr><td>1003002072</td><td>Urology                               </td><td>Physician Assistant                          </td><td>FALSE</td></tr>\n",
       "\t<tr><td>1003002379</td><td>Internal Medicine                     </td><td>Physician Assistant                          </td><td>FALSE</td></tr>\n",
       "\t<tr><td>1003002643</td><td>Physician Assistant                   </td><td>Family Practice                              </td><td>FALSE</td></tr>\n",
       "\t<tr><td>1003003153</td><td>Dermatology                           </td><td>Dermatology                                  </td><td> TRUE</td></tr>\n",
       "</tbody>\n",
       "</table>\n"
      ],
      "text/latex": [
       "A data.table: 10 × 4\n",
       "\\begin{tabular}{llll}\n",
       " test\\_ID & expected & prediction & correct\\_prediction\\\\\n",
       " <chr> & <chr> & <chr> & <lgl>\\\\\n",
       "\\hline\n",
       "\t 1003000530 & Internal Medicine                      & Family Practice                               & FALSE\\\\\n",
       "\t 1003000704 & Anesthesiology                         & Certified Registered Nurse Anesthetist (CRNA) & FALSE\\\\\n",
       "\t 1003000829 & Physical Therapist in Private Practice & Physical Therapist in Private Practice        &  TRUE\\\\\n",
       "\t 1003001140 & Physical Therapist in Private Practice & Physical Therapist in Private Practice        &  TRUE\\\\\n",
       "\t 1003001785 & Orthopedic Surgery                     & Orthopedic Surgery                            &  TRUE\\\\\n",
       "\t 1003001918 & Physical Therapist in Private Practice & Physical Therapist in Private Practice        &  TRUE\\\\\n",
       "\t 1003002072 & Urology                                & Physician Assistant                           & FALSE\\\\\n",
       "\t 1003002379 & Internal Medicine                      & Physician Assistant                           & FALSE\\\\\n",
       "\t 1003002643 & Physician Assistant                    & Family Practice                               & FALSE\\\\\n",
       "\t 1003003153 & Dermatology                            & Dermatology                                   &  TRUE\\\\\n",
       "\\end{tabular}\n"
      ],
      "text/markdown": [
       "\n",
       "A data.table: 10 × 4\n",
       "\n",
       "| test_ID &lt;chr&gt; | expected &lt;chr&gt; | prediction &lt;chr&gt; | correct_prediction &lt;lgl&gt; |\n",
       "|---|---|---|---|\n",
       "| 1003000530 | Internal Medicine                      | Family Practice                               | FALSE |\n",
       "| 1003000704 | Anesthesiology                         | Certified Registered Nurse Anesthetist (CRNA) | FALSE |\n",
       "| 1003000829 | Physical Therapist in Private Practice | Physical Therapist in Private Practice        |  TRUE |\n",
       "| 1003001140 | Physical Therapist in Private Practice | Physical Therapist in Private Practice        |  TRUE |\n",
       "| 1003001785 | Orthopedic Surgery                     | Orthopedic Surgery                            |  TRUE |\n",
       "| 1003001918 | Physical Therapist in Private Practice | Physical Therapist in Private Practice        |  TRUE |\n",
       "| 1003002072 | Urology                                | Physician Assistant                           | FALSE |\n",
       "| 1003002379 | Internal Medicine                      | Physician Assistant                           | FALSE |\n",
       "| 1003002643 | Physician Assistant                    | Family Practice                               | FALSE |\n",
       "| 1003003153 | Dermatology                            | Dermatology                                   |  TRUE |\n",
       "\n"
      ],
      "text/plain": [
       "   test_ID    expected                              \n",
       "1  1003000530 Internal Medicine                     \n",
       "2  1003000704 Anesthesiology                        \n",
       "3  1003000829 Physical Therapist in Private Practice\n",
       "4  1003001140 Physical Therapist in Private Practice\n",
       "5  1003001785 Orthopedic Surgery                    \n",
       "6  1003001918 Physical Therapist in Private Practice\n",
       "7  1003002072 Urology                               \n",
       "8  1003002379 Internal Medicine                     \n",
       "9  1003002643 Physician Assistant                   \n",
       "10 1003003153 Dermatology                           \n",
       "   prediction                                    correct_prediction\n",
       "1  Family Practice                               FALSE             \n",
       "2  Certified Registered Nurse Anesthetist (CRNA) FALSE             \n",
       "3  Physical Therapist in Private Practice         TRUE             \n",
       "4  Physical Therapist in Private Practice         TRUE             \n",
       "5  Orthopedic Surgery                             TRUE             \n",
       "6  Physical Therapist in Private Practice         TRUE             \n",
       "7  Physician Assistant                           FALSE             \n",
       "8  Physician Assistant                           FALSE             \n",
       "9  Family Practice                               FALSE             \n",
       "10 Dermatology                                    TRUE             "
      ]
     },
     "metadata": {},
     "output_type": "display_data"
    }
   ],
   "source": [
    "head(knn_results,10)"
   ]
  },
  {
   "cell_type": "code",
   "execution_count": 107,
   "metadata": {},
   "outputs": [
    {
     "data": {
      "text/html": [
       "0.5"
      ],
      "text/latex": [
       "0.5"
      ],
      "text/markdown": [
       "0.5"
      ],
      "text/plain": [
       "[1] 0.5"
      ]
     },
     "metadata": {},
     "output_type": "display_data"
    }
   ],
   "source": [
    "mean(knn_results$correct_prediction)"
   ]
  },
  {
   "cell_type": "markdown",
   "metadata": {},
   "source": [
    "# Comparing to the Random Forest"
   ]
  },
  {
   "cell_type": "code",
   "execution_count": 89,
   "metadata": {
    "collapsed": true,
    "jupyter": {
     "outputs_hidden": true
    },
    "tags": []
   },
   "outputs": [
    {
     "name": "stderr",
     "output_type": "stream",
     "text": [
      "randomForest 4.7-1.1\n",
      "\n",
      "Type rfNews() to see new features/changes/bug fixes.\n",
      "\n",
      "\n",
      "Attaching package: ‘randomForest’\n",
      "\n",
      "\n",
      "The following object is masked from ‘package:ggplot2’:\n",
      "\n",
      "    margin\n",
      "\n",
      "\n",
      "The following object is masked from ‘package:dplyr’:\n",
      "\n",
      "    combine\n",
      "\n",
      "\n"
     ]
    }
   ],
   "source": [
    "library(randomForest)"
   ]
  },
  {
   "cell_type": "code",
   "execution_count": 98,
   "metadata": {},
   "outputs": [],
   "source": [
    "rf_phys=randomForest(y=as.factor(training_set$Rndrng_Prvdr_Type), x= training_set[,!names(training_set) %in% c(\"Rndrng_NPI\",\"Rndrng_Prvdr_Type\")],ntree = 500)"
   ]
  },
  {
   "cell_type": "code",
   "execution_count": 99,
   "metadata": {},
   "outputs": [],
   "source": [
    "predictions=predict(rf_phys,test_set[1:100,])\n",
    "predictions=data.frame(prediction=predictions,expected=test_set[1:100,c(\"Rndrng_Prvdr_Type\")])%>%as.data.table()\n",
    "predictions=predictions[,correct_prediction:=(expected==prediction)]"
   ]
  },
  {
   "cell_type": "code",
   "execution_count": 100,
   "metadata": {},
   "outputs": [
    {
     "data": {
      "text/html": [
       "0.49"
      ],
      "text/latex": [
       "0.49"
      ],
      "text/markdown": [
       "0.49"
      ],
      "text/plain": [
       "[1] 0.49"
      ]
     },
     "metadata": {},
     "output_type": "display_data"
    }
   ],
   "source": [
    "mean(predictions$correct_prediction)"
   ]
  },
  {
   "cell_type": "markdown",
   "metadata": {},
   "source": [
    "# Timing the function with different data sizes"
   ]
  },
  {
   "cell_type": "code",
   "execution_count": 108,
   "metadata": {
    "id": "h3bK4gBN4iuk"
   },
   "outputs": [],
   "source": [
    "library(caTools)\n",
    "set.seed=123\n",
    "sample=sample.split(SplitRatio = 0.8 , physician_data_wide$Rndrng_NPI)\n",
    "test_set=subset(physician_data_wide,sample==F)%>%as.data.frame()\n",
    "training_set=subset(physician_data_wide,sample==T)%>%as.data.frame()"
   ]
  },
  {
   "cell_type": "code",
   "execution_count": 109,
   "metadata": {
    "colab": {
     "base_uri": "https://localhost:8080/",
     "height": 324
    },
    "id": "MHoRdB2L-tOc",
    "outputId": "eff862bc-7722-4559-8549-5f216098372e"
   },
   "outputs": [
    {
     "data": {
      "text/html": [
       "<table class=\"dataframe\">\n",
       "<caption>A data.frame: 6 × 2429</caption>\n",
       "<thead>\n",
       "\t<tr><th></th><th scope=col>Rndrng_NPI</th><th scope=col>Rndrng_Prvdr_Type</th><th scope=col>X0001A</th><th scope=col>X0011A</th><th scope=col>X0042T</th><th scope=col>X0054T</th><th scope=col>X0055T</th><th scope=col>X0097U</th><th scope=col>X0191T</th><th scope=col>X0202U</th><th scope=col>⋯</th><th scope=col>Q9965</th><th scope=col>Q9966</th><th scope=col>Q9967</th><th scope=col>Q9969</th><th scope=col>R0070</th><th scope=col>R0075</th><th scope=col>U0002</th><th scope=col>U0003</th><th scope=col>U0004</th><th scope=col>V2785</th></tr>\n",
       "\t<tr><th></th><th scope=col>&lt;chr&gt;</th><th scope=col>&lt;chr&gt;</th><th scope=col>&lt;dbl&gt;</th><th scope=col>&lt;dbl&gt;</th><th scope=col>&lt;dbl&gt;</th><th scope=col>&lt;dbl&gt;</th><th scope=col>&lt;dbl&gt;</th><th scope=col>&lt;dbl&gt;</th><th scope=col>&lt;dbl&gt;</th><th scope=col>&lt;dbl&gt;</th><th scope=col>⋯</th><th scope=col>&lt;dbl&gt;</th><th scope=col>&lt;dbl&gt;</th><th scope=col>&lt;dbl&gt;</th><th scope=col>&lt;dbl&gt;</th><th scope=col>&lt;dbl&gt;</th><th scope=col>&lt;dbl&gt;</th><th scope=col>&lt;dbl&gt;</th><th scope=col>&lt;dbl&gt;</th><th scope=col>&lt;dbl&gt;</th><th scope=col>&lt;dbl&gt;</th></tr>\n",
       "</thead>\n",
       "<tbody>\n",
       "\t<tr><th scope=row>1</th><td>1003000126</td><td>Internal Medicine      </td><td>0</td><td>0</td><td>0</td><td>0</td><td>0</td><td>0</td><td>0</td><td>0</td><td>⋯</td><td>0</td><td>0</td><td>0</td><td>0</td><td>0</td><td>0</td><td>0</td><td>0</td><td>0</td><td>0</td></tr>\n",
       "\t<tr><th scope=row>2</th><td>1003000134</td><td>Pathology              </td><td>0</td><td>0</td><td>0</td><td>0</td><td>0</td><td>0</td><td>0</td><td>0</td><td>⋯</td><td>0</td><td>0</td><td>0</td><td>0</td><td>0</td><td>0</td><td>0</td><td>0</td><td>0</td><td>0</td></tr>\n",
       "\t<tr><th scope=row>3</th><td>1003000142</td><td>Anesthesiology         </td><td>0</td><td>0</td><td>0</td><td>0</td><td>0</td><td>0</td><td>0</td><td>0</td><td>⋯</td><td>0</td><td>0</td><td>0</td><td>0</td><td>0</td><td>0</td><td>0</td><td>0</td><td>0</td><td>0</td></tr>\n",
       "\t<tr><th scope=row>4</th><td>1003000423</td><td>Obstetrics &amp; Gynecology</td><td>0</td><td>0</td><td>0</td><td>0</td><td>0</td><td>0</td><td>0</td><td>0</td><td>⋯</td><td>0</td><td>0</td><td>0</td><td>0</td><td>0</td><td>0</td><td>0</td><td>0</td><td>0</td><td>0</td></tr>\n",
       "\t<tr><th scope=row>5</th><td>1003000480</td><td>General Surgery        </td><td>0</td><td>0</td><td>0</td><td>0</td><td>0</td><td>0</td><td>0</td><td>0</td><td>⋯</td><td>0</td><td>0</td><td>0</td><td>0</td><td>0</td><td>0</td><td>0</td><td>0</td><td>0</td><td>0</td></tr>\n",
       "\t<tr><th scope=row>6</th><td>1003000522</td><td>Family Practice        </td><td>0</td><td>0</td><td>0</td><td>0</td><td>0</td><td>0</td><td>0</td><td>0</td><td>⋯</td><td>0</td><td>0</td><td>0</td><td>0</td><td>0</td><td>0</td><td>0</td><td>0</td><td>0</td><td>0</td></tr>\n",
       "</tbody>\n",
       "</table>\n"
      ],
      "text/latex": [
       "A data.frame: 6 × 2429\n",
       "\\begin{tabular}{r|lllllllllllllllllllll}\n",
       "  & Rndrng\\_NPI & Rndrng\\_Prvdr\\_Type & X0001A & X0011A & X0042T & X0054T & X0055T & X0097U & X0191T & X0202U & ⋯ & Q9965 & Q9966 & Q9967 & Q9969 & R0070 & R0075 & U0002 & U0003 & U0004 & V2785\\\\\n",
       "  & <chr> & <chr> & <dbl> & <dbl> & <dbl> & <dbl> & <dbl> & <dbl> & <dbl> & <dbl> & ⋯ & <dbl> & <dbl> & <dbl> & <dbl> & <dbl> & <dbl> & <dbl> & <dbl> & <dbl> & <dbl>\\\\\n",
       "\\hline\n",
       "\t1 & 1003000126 & Internal Medicine       & 0 & 0 & 0 & 0 & 0 & 0 & 0 & 0 & ⋯ & 0 & 0 & 0 & 0 & 0 & 0 & 0 & 0 & 0 & 0\\\\\n",
       "\t2 & 1003000134 & Pathology               & 0 & 0 & 0 & 0 & 0 & 0 & 0 & 0 & ⋯ & 0 & 0 & 0 & 0 & 0 & 0 & 0 & 0 & 0 & 0\\\\\n",
       "\t3 & 1003000142 & Anesthesiology          & 0 & 0 & 0 & 0 & 0 & 0 & 0 & 0 & ⋯ & 0 & 0 & 0 & 0 & 0 & 0 & 0 & 0 & 0 & 0\\\\\n",
       "\t4 & 1003000423 & Obstetrics \\& Gynecology & 0 & 0 & 0 & 0 & 0 & 0 & 0 & 0 & ⋯ & 0 & 0 & 0 & 0 & 0 & 0 & 0 & 0 & 0 & 0\\\\\n",
       "\t5 & 1003000480 & General Surgery         & 0 & 0 & 0 & 0 & 0 & 0 & 0 & 0 & ⋯ & 0 & 0 & 0 & 0 & 0 & 0 & 0 & 0 & 0 & 0\\\\\n",
       "\t6 & 1003000522 & Family Practice         & 0 & 0 & 0 & 0 & 0 & 0 & 0 & 0 & ⋯ & 0 & 0 & 0 & 0 & 0 & 0 & 0 & 0 & 0 & 0\\\\\n",
       "\\end{tabular}\n"
      ],
      "text/markdown": [
       "\n",
       "A data.frame: 6 × 2429\n",
       "\n",
       "| <!--/--> | Rndrng_NPI &lt;chr&gt; | Rndrng_Prvdr_Type &lt;chr&gt; | X0001A &lt;dbl&gt; | X0011A &lt;dbl&gt; | X0042T &lt;dbl&gt; | X0054T &lt;dbl&gt; | X0055T &lt;dbl&gt; | X0097U &lt;dbl&gt; | X0191T &lt;dbl&gt; | X0202U &lt;dbl&gt; | ⋯ ⋯ | Q9965 &lt;dbl&gt; | Q9966 &lt;dbl&gt; | Q9967 &lt;dbl&gt; | Q9969 &lt;dbl&gt; | R0070 &lt;dbl&gt; | R0075 &lt;dbl&gt; | U0002 &lt;dbl&gt; | U0003 &lt;dbl&gt; | U0004 &lt;dbl&gt; | V2785 &lt;dbl&gt; |\n",
       "|---|---|---|---|---|---|---|---|---|---|---|---|---|---|---|---|---|---|---|---|---|---|\n",
       "| 1 | 1003000126 | Internal Medicine       | 0 | 0 | 0 | 0 | 0 | 0 | 0 | 0 | ⋯ | 0 | 0 | 0 | 0 | 0 | 0 | 0 | 0 | 0 | 0 |\n",
       "| 2 | 1003000134 | Pathology               | 0 | 0 | 0 | 0 | 0 | 0 | 0 | 0 | ⋯ | 0 | 0 | 0 | 0 | 0 | 0 | 0 | 0 | 0 | 0 |\n",
       "| 3 | 1003000142 | Anesthesiology          | 0 | 0 | 0 | 0 | 0 | 0 | 0 | 0 | ⋯ | 0 | 0 | 0 | 0 | 0 | 0 | 0 | 0 | 0 | 0 |\n",
       "| 4 | 1003000423 | Obstetrics &amp; Gynecology | 0 | 0 | 0 | 0 | 0 | 0 | 0 | 0 | ⋯ | 0 | 0 | 0 | 0 | 0 | 0 | 0 | 0 | 0 | 0 |\n",
       "| 5 | 1003000480 | General Surgery         | 0 | 0 | 0 | 0 | 0 | 0 | 0 | 0 | ⋯ | 0 | 0 | 0 | 0 | 0 | 0 | 0 | 0 | 0 | 0 |\n",
       "| 6 | 1003000522 | Family Practice         | 0 | 0 | 0 | 0 | 0 | 0 | 0 | 0 | ⋯ | 0 | 0 | 0 | 0 | 0 | 0 | 0 | 0 | 0 | 0 |\n",
       "\n"
      ],
      "text/plain": [
       "  Rndrng_NPI Rndrng_Prvdr_Type       X0001A X0011A X0042T X0054T X0055T X0097U\n",
       "1 1003000126 Internal Medicine       0      0      0      0      0      0     \n",
       "2 1003000134 Pathology               0      0      0      0      0      0     \n",
       "3 1003000142 Anesthesiology          0      0      0      0      0      0     \n",
       "4 1003000423 Obstetrics & Gynecology 0      0      0      0      0      0     \n",
       "5 1003000480 General Surgery         0      0      0      0      0      0     \n",
       "6 1003000522 Family Practice         0      0      0      0      0      0     \n",
       "  X0191T X0202U ⋯ Q9965 Q9966 Q9967 Q9969 R0070 R0075 U0002 U0003 U0004 V2785\n",
       "1 0      0      ⋯ 0     0     0     0     0     0     0     0     0     0    \n",
       "2 0      0      ⋯ 0     0     0     0     0     0     0     0     0     0    \n",
       "3 0      0      ⋯ 0     0     0     0     0     0     0     0     0     0    \n",
       "4 0      0      ⋯ 0     0     0     0     0     0     0     0     0     0    \n",
       "5 0      0      ⋯ 0     0     0     0     0     0     0     0     0     0    \n",
       "6 0      0      ⋯ 0     0     0     0     0     0     0     0     0     0    "
      ]
     },
     "metadata": {},
     "output_type": "display_data"
    },
    {
     "data": {
      "text/html": [
       "<style>\n",
       ".list-inline {list-style: none; margin:0; padding: 0}\n",
       ".list-inline>li {display: inline-block}\n",
       ".list-inline>li:not(:last-child)::after {content: \"\\00b7\"; padding: 0 .5ex}\n",
       "</style>\n",
       "<ol class=list-inline><li>9325</li><li>2429</li></ol>\n"
      ],
      "text/latex": [
       "\\begin{enumerate*}\n",
       "\\item 9325\n",
       "\\item 2429\n",
       "\\end{enumerate*}\n"
      ],
      "text/markdown": [
       "1. 9325\n",
       "2. 2429\n",
       "\n",
       "\n"
      ],
      "text/plain": [
       "[1] 9325 2429"
      ]
     },
     "metadata": {},
     "output_type": "display_data"
    }
   ],
   "source": [
    "head(training_set)\n",
    "dim(training_set)"
   ]
  },
  {
   "cell_type": "code",
   "execution_count": 112,
   "metadata": {
    "tags": []
   },
   "outputs": [],
   "source": [
    "times=data.frame()\n",
    "for (x in seq(5,35,5)){\n",
    "  times=rbind(times,\n",
    "  system.time(\n",
    "    knn(k=x,\n",
    "        train_data=training_set[1:(x^2),],\n",
    "        test_data = test_set[1:((x^2)/5),],\n",
    "        ncores = 56,\n",
    "        outcome_var = \"Rndrng_Prvdr_Type\",\n",
    "        name_var = \"Rndrng_NPI\",\n",
    "        mode=\"prediction\",\n",
    "        sparsity_prp=(x^2)/2000,\n",
    "        scale=T\n",
    "     )))\n",
    "}"
   ]
  },
  {
   "cell_type": "code",
   "execution_count": 113,
   "metadata": {},
   "outputs": [
    {
     "data": {
      "text/html": [
       "<table class=\"dataframe\">\n",
       "<caption>A data.frame: 7 × 5</caption>\n",
       "<thead>\n",
       "\t<tr><th scope=col>X0.6099999999999</th><th scope=col>X3.297</th><th scope=col>X3.60399999999936</th><th scope=col>X0.152999999991152</th><th scope=col>X2.84899999999834</th></tr>\n",
       "\t<tr><th scope=col>&lt;dbl&gt;</th><th scope=col>&lt;dbl&gt;</th><th scope=col>&lt;dbl&gt;</th><th scope=col>&lt;dbl&gt;</th><th scope=col>&lt;dbl&gt;</th></tr>\n",
       "</thead>\n",
       "<tbody>\n",
       "\t<tr><td> 0.610</td><td>3.297</td><td>   3.604</td><td>    0.153</td><td>   2.849</td></tr>\n",
       "\t<tr><td> 0.692</td><td>3.100</td><td>   4.224</td><td>   26.131</td><td>  25.600</td></tr>\n",
       "\t<tr><td> 2.802</td><td>3.291</td><td>  12.665</td><td>  317.304</td><td>  36.330</td></tr>\n",
       "\t<tr><td> 8.723</td><td>3.384</td><td>  48.135</td><td> 1904.047</td><td> 109.290</td></tr>\n",
       "\t<tr><td>20.534</td><td>3.789</td><td> 177.667</td><td> 8017.400</td><td> 248.035</td></tr>\n",
       "\t<tr><td>35.280</td><td>4.620</td><td> 548.806</td><td>26579.159</td><td> 296.491</td></tr>\n",
       "\t<tr><td>62.147</td><td>5.636</td><td>1434.276</td><td>69994.053</td><td>1032.122</td></tr>\n",
       "</tbody>\n",
       "</table>\n"
      ],
      "text/latex": [
       "A data.frame: 7 × 5\n",
       "\\begin{tabular}{lllll}\n",
       " X0.6099999999999 & X3.297 & X3.60399999999936 & X0.152999999991152 & X2.84899999999834\\\\\n",
       " <dbl> & <dbl> & <dbl> & <dbl> & <dbl>\\\\\n",
       "\\hline\n",
       "\t  0.610 & 3.297 &    3.604 &     0.153 &    2.849\\\\\n",
       "\t  0.692 & 3.100 &    4.224 &    26.131 &   25.600\\\\\n",
       "\t  2.802 & 3.291 &   12.665 &   317.304 &   36.330\\\\\n",
       "\t  8.723 & 3.384 &   48.135 &  1904.047 &  109.290\\\\\n",
       "\t 20.534 & 3.789 &  177.667 &  8017.400 &  248.035\\\\\n",
       "\t 35.280 & 4.620 &  548.806 & 26579.159 &  296.491\\\\\n",
       "\t 62.147 & 5.636 & 1434.276 & 69994.053 & 1032.122\\\\\n",
       "\\end{tabular}\n"
      ],
      "text/markdown": [
       "\n",
       "A data.frame: 7 × 5\n",
       "\n",
       "| X0.6099999999999 &lt;dbl&gt; | X3.297 &lt;dbl&gt; | X3.60399999999936 &lt;dbl&gt; | X0.152999999991152 &lt;dbl&gt; | X2.84899999999834 &lt;dbl&gt; |\n",
       "|---|---|---|---|---|\n",
       "|  0.610 | 3.297 |    3.604 |     0.153 |    2.849 |\n",
       "|  0.692 | 3.100 |    4.224 |    26.131 |   25.600 |\n",
       "|  2.802 | 3.291 |   12.665 |   317.304 |   36.330 |\n",
       "|  8.723 | 3.384 |   48.135 |  1904.047 |  109.290 |\n",
       "| 20.534 | 3.789 |  177.667 |  8017.400 |  248.035 |\n",
       "| 35.280 | 4.620 |  548.806 | 26579.159 |  296.491 |\n",
       "| 62.147 | 5.636 | 1434.276 | 69994.053 | 1032.122 |\n",
       "\n"
      ],
      "text/plain": [
       "  X0.6099999999999 X3.297 X3.60399999999936 X0.152999999991152\n",
       "1  0.610           3.297     3.604              0.153         \n",
       "2  0.692           3.100     4.224             26.131         \n",
       "3  2.802           3.291    12.665            317.304         \n",
       "4  8.723           3.384    48.135           1904.047         \n",
       "5 20.534           3.789   177.667           8017.400         \n",
       "6 35.280           4.620   548.806          26579.159         \n",
       "7 62.147           5.636  1434.276          69994.053         \n",
       "  X2.84899999999834\n",
       "1    2.849         \n",
       "2   25.600         \n",
       "3   36.330         \n",
       "4  109.290         \n",
       "5  248.035         \n",
       "6  296.491         \n",
       "7 1032.122         "
      ]
     },
     "metadata": {},
     "output_type": "display_data"
    }
   ],
   "source": [
    "times"
   ]
  },
  {
   "cell_type": "code",
   "execution_count": 121,
   "metadata": {},
   "outputs": [],
   "source": [
    "time_seq=seq(5,35,5)^2"
   ]
  },
  {
   "cell_type": "code",
   "execution_count": 124,
   "metadata": {},
   "outputs": [
    {
     "name": "stderr",
     "output_type": "stream",
     "text": [
      "Warning message in grid.Call.graphics(C_polygon, x$x, x$y, index):\n",
      "“semi-transparency is not supported on this device: reported only once per page”\n"
     ]
    },
    {
     "data": {
      "image/png": "[encoded data removed]",
      "text/plain": [
       "plot without title"
      ]
     },
     "metadata": {
      "image/png": {
       "height": 420,
       "width": 420
      }
     },
     "output_type": "display_data"
    }
   ],
   "source": [
    "ggplot()+\n",
    "geom_point(aes(x=time_seq,y=times$X0.152999999991152))+\n",
    "geom_smooth(method=\"lm\",aes(x=time_seq,y=times$X0.152999999991152),formula = y~poly(x,3))"
   ]
  },
  {
   "cell_type": "code",
   "execution_count": 125,
   "metadata": {},
   "outputs": [
    {
     "data": {
      "text/plain": [
       "\n",
       "Call:\n",
       "lm(formula = times$X0.152999999991152 ~ poly(time_seq, 3))\n",
       "\n",
       "Residuals:\n",
       "       1        2        3        4        5        6        7 \n",
       " -30.106   -7.775   66.107   51.626 -165.511  109.175  -23.516 \n",
       "\n",
       "Coefficients:\n",
       "                   Estimate Std. Error t value Pr(>|t|)    \n",
       "(Intercept)        15262.61      47.74  319.68 6.75e-08 ***\n",
       "poly(time_seq, 3)1 57342.23     126.32  453.95 2.36e-08 ***\n",
       "poly(time_seq, 3)2 27052.83     126.32  214.17 2.24e-07 ***\n",
       "poly(time_seq, 3)3  4791.58     126.32   37.93 4.03e-05 ***\n",
       "---\n",
       "Signif. codes:  0 ‘***’ 0.001 ‘**’ 0.01 ‘*’ 0.05 ‘.’ 0.1 ‘ ’ 1\n",
       "\n",
       "Residual standard error: 126.3 on 3 degrees of freedom\n",
       "Multiple R-squared:      1,\tAdjusted R-squared:      1 \n",
       "F-statistic: 8.446e+04 on 3 and 3 DF,  p-value: 6.916e-08\n"
      ]
     },
     "metadata": {},
     "output_type": "display_data"
    }
   ],
   "source": [
    "predictor_time=lm(times$X0.152999999991152~poly(time_seq,3))\n",
    "summary(predictor_time)"
   ]
  },
  {
   "cell_type": "markdown",
   "metadata": {
    "jp-MarkdownHeadingCollapsed": true,
    "tags": []
   },
   "source": [
    "## Without sparsity reduction"
   ]
  },
  {
   "cell_type": "code",
   "execution_count": 486,
   "metadata": {
    "tags": []
   },
   "outputs": [],
   "source": [
    "times_2=data.frame()\n",
    "for (x in seq(5,35,5)){\n",
    "  times_2=rbind(times_2,\n",
    "  system.time(\n",
    "    knn(k=x,\n",
    "        train_data=training_set[1:(x^2),],\n",
    "        test_data = test_set[1:((x^2)/5),],\n",
    "        ncores = 56,\n",
    "        outcome_var = \"Rndrng_Prvdr_Type\",\n",
    "        name_var = \"Rndrng_NPI\",\n",
    "        mode=\"prediction\",\n",
    "        sparsity_prp=1,\n",
    "        scale=T\n",
    "     )))\n",
    "}"
   ]
  },
  {
   "cell_type": "code",
   "execution_count": 488,
   "metadata": {},
   "outputs": [
    {
     "data": {
      "text/html": [
       "<table class=\"dataframe\">\n",
       "<caption>A data.frame: 7 × 5</caption>\n",
       "<thead>\n",
       "\t<tr><th scope=col>X0.180000000000291</th><th scope=col>X2.34200000000001</th><th scope=col>X2.59100000000035</th><th scope=col>X4.50800000000163</th><th scope=col>X10.5439999999999</th></tr>\n",
       "\t<tr><th scope=col>&lt;dbl&gt;</th><th scope=col>&lt;dbl&gt;</th><th scope=col>&lt;dbl&gt;</th><th scope=col>&lt;dbl&gt;</th><th scope=col>&lt;dbl&gt;</th></tr>\n",
       "</thead>\n",
       "<tbody>\n",
       "\t<tr><td> 0.180</td><td>2.342</td><td>  2.591</td><td>   4.508</td><td> 10.544</td></tr>\n",
       "\t<tr><td> 0.551</td><td>2.798</td><td>  4.595</td><td>  47.603</td><td> 41.026</td></tr>\n",
       "\t<tr><td> 2.140</td><td>2.753</td><td> 14.813</td><td> 312.631</td><td>142.943</td></tr>\n",
       "\t<tr><td> 6.199</td><td>2.824</td><td> 37.173</td><td> 923.515</td><td>201.547</td></tr>\n",
       "\t<tr><td>13.929</td><td>3.480</td><td> 86.411</td><td>2292.126</td><td>382.334</td></tr>\n",
       "\t<tr><td>29.170</td><td>3.328</td><td>139.683</td><td>4849.182</td><td>320.119</td></tr>\n",
       "\t<tr><td>53.523</td><td>4.454</td><td>263.081</td><td>9069.896</td><td>579.694</td></tr>\n",
       "</tbody>\n",
       "</table>\n"
      ],
      "text/latex": [
       "A data.frame: 7 × 5\n",
       "\\begin{tabular}{lllll}\n",
       " X0.180000000000291 & X2.34200000000001 & X2.59100000000035 & X4.50800000000163 & X10.5439999999999\\\\\n",
       " <dbl> & <dbl> & <dbl> & <dbl> & <dbl>\\\\\n",
       "\\hline\n",
       "\t  0.180 & 2.342 &   2.591 &    4.508 &  10.544\\\\\n",
       "\t  0.551 & 2.798 &   4.595 &   47.603 &  41.026\\\\\n",
       "\t  2.140 & 2.753 &  14.813 &  312.631 & 142.943\\\\\n",
       "\t  6.199 & 2.824 &  37.173 &  923.515 & 201.547\\\\\n",
       "\t 13.929 & 3.480 &  86.411 & 2292.126 & 382.334\\\\\n",
       "\t 29.170 & 3.328 & 139.683 & 4849.182 & 320.119\\\\\n",
       "\t 53.523 & 4.454 & 263.081 & 9069.896 & 579.694\\\\\n",
       "\\end{tabular}\n"
      ],
      "text/markdown": [
       "\n",
       "A data.frame: 7 × 5\n",
       "\n",
       "| X0.180000000000291 &lt;dbl&gt; | X2.34200000000001 &lt;dbl&gt; | X2.59100000000035 &lt;dbl&gt; | X4.50800000000163 &lt;dbl&gt; | X10.5439999999999 &lt;dbl&gt; |\n",
       "|---|---|---|---|---|\n",
       "|  0.180 | 2.342 |   2.591 |    4.508 |  10.544 |\n",
       "|  0.551 | 2.798 |   4.595 |   47.603 |  41.026 |\n",
       "|  2.140 | 2.753 |  14.813 |  312.631 | 142.943 |\n",
       "|  6.199 | 2.824 |  37.173 |  923.515 | 201.547 |\n",
       "| 13.929 | 3.480 |  86.411 | 2292.126 | 382.334 |\n",
       "| 29.170 | 3.328 | 139.683 | 4849.182 | 320.119 |\n",
       "| 53.523 | 4.454 | 263.081 | 9069.896 | 579.694 |\n",
       "\n"
      ],
      "text/plain": [
       "  X0.180000000000291 X2.34200000000001 X2.59100000000035 X4.50800000000163\n",
       "1  0.180             2.342               2.591              4.508         \n",
       "2  0.551             2.798               4.595             47.603         \n",
       "3  2.140             2.753              14.813            312.631         \n",
       "4  6.199             2.824              37.173            923.515         \n",
       "5 13.929             3.480              86.411           2292.126         \n",
       "6 29.170             3.328             139.683           4849.182         \n",
       "7 53.523             4.454             263.081           9069.896         \n",
       "  X10.5439999999999\n",
       "1  10.544          \n",
       "2  41.026          \n",
       "3 142.943          \n",
       "4 201.547          \n",
       "5 382.334          \n",
       "6 320.119          \n",
       "7 579.694          "
      ]
     },
     "metadata": {},
     "output_type": "display_data"
    }
   ],
   "source": [
    "times_2"
   ]
  },
  {
   "cell_type": "code",
   "execution_count": 489,
   "metadata": {},
   "outputs": [],
   "source": [
    "time_seq=seq(5,35,5)^2"
   ]
  },
  {
   "cell_type": "code",
   "execution_count": 491,
   "metadata": {},
   "outputs": [
    {
     "name": "stderr",
     "output_type": "stream",
     "text": [
      "Warning message in grid.Call.graphics(C_polygon, x$x, x$y, index):\n",
      "“semi-transparency is not supported on this device: reported only once per page”\n"
     ]
    },
    {
     "data": {
      "image/png": "[encoded data removed]",
      "text/plain": [
       "plot without title"
      ]
     },
     "metadata": {
      "image/png": {
       "height": 420,
       "width": 420
      }
     },
     "output_type": "display_data"
    }
   ],
   "source": [
    "ggplot()+\n",
    "geom_point(aes(x=time_seq,y=times_2$X4.50800000000163))+\n",
    "geom_smooth(method=\"lm\",aes(x=time_seq,y=times_2$X4.50800000000163),formula = y~poly(x,2))"
   ]
  },
  {
   "cell_type": "code",
   "execution_count": 493,
   "metadata": {},
   "outputs": [
    {
     "data": {
      "text/plain": [
       "\n",
       "Call:\n",
       "lm(formula = times_2$X4.50800000000163 ~ poly(time_seq, 2))\n",
       "\n",
       "Residuals:\n",
       "       1        2        3        4        5        6        7 \n",
       " -9.8867  -8.9461  30.6813   0.2033 -14.3104  -1.0289   3.2875 \n",
       "\n",
       "Coefficients:\n",
       "                   Estimate Std. Error t value Pr(>|t|)    \n",
       "(Intercept)        2499.923      6.907   361.9 3.50e-10 ***\n",
       "poly(time_seq, 2)1 7944.398     18.274   434.7 1.68e-10 ***\n",
       "poly(time_seq, 2)2 2263.235     18.274   123.8 2.55e-08 ***\n",
       "---\n",
       "Signif. codes:  0 ‘***’ 0.001 ‘**’ 0.01 ‘*’ 0.05 ‘.’ 0.1 ‘ ’ 1\n",
       "\n",
       "Residual standard error: 18.27 on 4 degrees of freedom\n",
       "Multiple R-squared:      1,\tAdjusted R-squared:      1 \n",
       "F-statistic: 1.022e+05 on 2 and 4 DF,  p-value: 3.832e-10\n"
      ]
     },
     "metadata": {},
     "output_type": "display_data"
    }
   ],
   "source": [
    "predictor_time=lm(times_2$X4.50800000000163~poly(time_seq,2))\n",
    "summary(predictor_time)"
   ]
  },
  {
   "cell_type": "markdown",
   "metadata": {},
   "source": [
    "# Visualizing the KNN"
   ]
  },
  {
   "cell_type": "markdown",
   "metadata": {},
   "source": [
    "## Creating a grid"
   ]
  },
  {
   "cell_type": "code",
   "execution_count": 43,
   "metadata": {},
   "outputs": [],
   "source": [
    "iris_grid=expand_grid(Sepal.Length = seq(min(iris$Sepal.Length),max(iris$Sepal.Length),0.05), Sepal.Width=seq(min(iris$Sepal.Width),max(iris$Sepal.Width),0.05))"
   ]
  },
  {
   "cell_type": "code",
   "execution_count": 44,
   "metadata": {},
   "outputs": [],
   "source": [
    "iris_grid=data.frame(names=seq(1:nrow(iris_grid)),iris_grid,Species=\"unknown\")"
   ]
  },
  {
   "cell_type": "code",
   "execution_count": 45,
   "metadata": {},
   "outputs": [
    {
     "data": {
      "text/html": [
       "<table class=\"dataframe\">\n",
       "<caption>A data.frame: 6 × 4</caption>\n",
       "<thead>\n",
       "\t<tr><th></th><th scope=col>names</th><th scope=col>Sepal.Length</th><th scope=col>Sepal.Width</th><th scope=col>Species</th></tr>\n",
       "\t<tr><th></th><th scope=col>&lt;int&gt;</th><th scope=col>&lt;dbl&gt;</th><th scope=col>&lt;dbl&gt;</th><th scope=col>&lt;chr&gt;</th></tr>\n",
       "</thead>\n",
       "<tbody>\n",
       "\t<tr><th scope=row>1</th><td>1</td><td>4.3</td><td>2.00</td><td>unknown</td></tr>\n",
       "\t<tr><th scope=row>2</th><td>2</td><td>4.3</td><td>2.05</td><td>unknown</td></tr>\n",
       "\t<tr><th scope=row>3</th><td>3</td><td>4.3</td><td>2.10</td><td>unknown</td></tr>\n",
       "\t<tr><th scope=row>4</th><td>4</td><td>4.3</td><td>2.15</td><td>unknown</td></tr>\n",
       "\t<tr><th scope=row>5</th><td>5</td><td>4.3</td><td>2.20</td><td>unknown</td></tr>\n",
       "\t<tr><th scope=row>6</th><td>6</td><td>4.3</td><td>2.25</td><td>unknown</td></tr>\n",
       "</tbody>\n",
       "</table>\n"
      ],
      "text/latex": [
       "A data.frame: 6 × 4\n",
       "\\begin{tabular}{r|llll}\n",
       "  & names & Sepal.Length & Sepal.Width & Species\\\\\n",
       "  & <int> & <dbl> & <dbl> & <chr>\\\\\n",
       "\\hline\n",
       "\t1 & 1 & 4.3 & 2.00 & unknown\\\\\n",
       "\t2 & 2 & 4.3 & 2.05 & unknown\\\\\n",
       "\t3 & 3 & 4.3 & 2.10 & unknown\\\\\n",
       "\t4 & 4 & 4.3 & 2.15 & unknown\\\\\n",
       "\t5 & 5 & 4.3 & 2.20 & unknown\\\\\n",
       "\t6 & 6 & 4.3 & 2.25 & unknown\\\\\n",
       "\\end{tabular}\n"
      ],
      "text/markdown": [
       "\n",
       "A data.frame: 6 × 4\n",
       "\n",
       "| <!--/--> | names &lt;int&gt; | Sepal.Length &lt;dbl&gt; | Sepal.Width &lt;dbl&gt; | Species &lt;chr&gt; |\n",
       "|---|---|---|---|---|\n",
       "| 1 | 1 | 4.3 | 2.00 | unknown |\n",
       "| 2 | 2 | 4.3 | 2.05 | unknown |\n",
       "| 3 | 3 | 4.3 | 2.10 | unknown |\n",
       "| 4 | 4 | 4.3 | 2.15 | unknown |\n",
       "| 5 | 5 | 4.3 | 2.20 | unknown |\n",
       "| 6 | 6 | 4.3 | 2.25 | unknown |\n",
       "\n"
      ],
      "text/plain": [
       "  names Sepal.Length Sepal.Width Species\n",
       "1 1     4.3          2.00        unknown\n",
       "2 2     4.3          2.05        unknown\n",
       "3 3     4.3          2.10        unknown\n",
       "4 4     4.3          2.15        unknown\n",
       "5 5     4.3          2.20        unknown\n",
       "6 6     4.3          2.25        unknown"
      ]
     },
     "metadata": {},
     "output_type": "display_data"
    },
    {
     "data": {
      "text/html": [
       "<style>\n",
       ".list-inline {list-style: none; margin:0; padding: 0}\n",
       ".list-inline>li {display: inline-block}\n",
       ".list-inline>li:not(:last-child)::after {content: \"\\00b7\"; padding: 0 .5ex}\n",
       "</style>\n",
       "<ol class=list-inline><li>3577</li><li>4</li></ol>\n"
      ],
      "text/latex": [
       "\\begin{enumerate*}\n",
       "\\item 3577\n",
       "\\item 4\n",
       "\\end{enumerate*}\n"
      ],
      "text/markdown": [
       "1. 3577\n",
       "2. 4\n",
       "\n",
       "\n"
      ],
      "text/plain": [
       "[1] 3577    4"
      ]
     },
     "metadata": {},
     "output_type": "display_data"
    }
   ],
   "source": [
    "head(iris_grid)\n",
    "dim(iris_grid)"
   ]
  },
  {
   "cell_type": "markdown",
   "metadata": {},
   "source": [
    "## Preparing the Iris dataset"
   ]
  },
  {
   "cell_type": "code",
   "execution_count": 50,
   "metadata": {},
   "outputs": [],
   "source": [
    "iris=cbind(seq(1:nrow(iris)),datasets::iris)"
   ]
  },
  {
   "cell_type": "code",
   "execution_count": 51,
   "metadata": {},
   "outputs": [],
   "source": [
    "colnames(iris)[1]=\"names\""
   ]
  },
  {
   "cell_type": "code",
   "execution_count": 52,
   "metadata": {},
   "outputs": [
    {
     "data": {
      "text/html": [
       "<table class=\"dataframe\">\n",
       "<caption>A data.frame: 6 × 4</caption>\n",
       "<thead>\n",
       "\t<tr><th></th><th scope=col>names</th><th scope=col>Sepal.Length</th><th scope=col>Sepal.Width</th><th scope=col>Species</th></tr>\n",
       "\t<tr><th></th><th scope=col>&lt;int&gt;</th><th scope=col>&lt;dbl&gt;</th><th scope=col>&lt;dbl&gt;</th><th scope=col>&lt;fct&gt;</th></tr>\n",
       "</thead>\n",
       "<tbody>\n",
       "\t<tr><th scope=row>1</th><td>1</td><td>5.1</td><td>3.5</td><td>setosa</td></tr>\n",
       "\t<tr><th scope=row>2</th><td>2</td><td>4.9</td><td>3.0</td><td>setosa</td></tr>\n",
       "\t<tr><th scope=row>3</th><td>3</td><td>4.7</td><td>3.2</td><td>setosa</td></tr>\n",
       "\t<tr><th scope=row>4</th><td>4</td><td>4.6</td><td>3.1</td><td>setosa</td></tr>\n",
       "\t<tr><th scope=row>5</th><td>5</td><td>5.0</td><td>3.6</td><td>setosa</td></tr>\n",
       "\t<tr><th scope=row>6</th><td>6</td><td>5.4</td><td>3.9</td><td>setosa</td></tr>\n",
       "</tbody>\n",
       "</table>\n"
      ],
      "text/latex": [
       "A data.frame: 6 × 4\n",
       "\\begin{tabular}{r|llll}\n",
       "  & names & Sepal.Length & Sepal.Width & Species\\\\\n",
       "  & <int> & <dbl> & <dbl> & <fct>\\\\\n",
       "\\hline\n",
       "\t1 & 1 & 5.1 & 3.5 & setosa\\\\\n",
       "\t2 & 2 & 4.9 & 3.0 & setosa\\\\\n",
       "\t3 & 3 & 4.7 & 3.2 & setosa\\\\\n",
       "\t4 & 4 & 4.6 & 3.1 & setosa\\\\\n",
       "\t5 & 5 & 5.0 & 3.6 & setosa\\\\\n",
       "\t6 & 6 & 5.4 & 3.9 & setosa\\\\\n",
       "\\end{tabular}\n"
      ],
      "text/markdown": [
       "\n",
       "A data.frame: 6 × 4\n",
       "\n",
       "| <!--/--> | names &lt;int&gt; | Sepal.Length &lt;dbl&gt; | Sepal.Width &lt;dbl&gt; | Species &lt;fct&gt; |\n",
       "|---|---|---|---|---|\n",
       "| 1 | 1 | 5.1 | 3.5 | setosa |\n",
       "| 2 | 2 | 4.9 | 3.0 | setosa |\n",
       "| 3 | 3 | 4.7 | 3.2 | setosa |\n",
       "| 4 | 4 | 4.6 | 3.1 | setosa |\n",
       "| 5 | 5 | 5.0 | 3.6 | setosa |\n",
       "| 6 | 6 | 5.4 | 3.9 | setosa |\n",
       "\n"
      ],
      "text/plain": [
       "  names Sepal.Length Sepal.Width Species\n",
       "1 1     5.1          3.5         setosa \n",
       "2 2     4.9          3.0         setosa \n",
       "3 3     4.7          3.2         setosa \n",
       "4 4     4.6          3.1         setosa \n",
       "5 5     5.0          3.6         setosa \n",
       "6 6     5.4          3.9         setosa "
      ]
     },
     "metadata": {},
     "output_type": "display_data"
    }
   ],
   "source": [
    "head(iris[,c(1,2,3,6)])"
   ]
  },
  {
   "cell_type": "markdown",
   "metadata": {
    "tags": []
   },
   "source": [
    "## K=sqrt(length)"
   ]
  },
  {
   "cell_type": "code",
   "execution_count": 63,
   "metadata": {},
   "outputs": [
    {
     "data": {
      "text/html": [
       "2.44948974278318"
      ],
      "text/latex": [
       "2.44948974278318"
      ],
      "text/markdown": [
       "2.44948974278318"
      ],
      "text/plain": [
       "[1] 2.44949"
      ]
     },
     "metadata": {},
     "output_type": "display_data"
    }
   ],
   "source": [
    "sqrt(length(iris))"
   ]
  },
  {
   "cell_type": "code",
   "execution_count": 53,
   "metadata": {},
   "outputs": [],
   "source": [
    "knn_iris=\n",
    "knn(\n",
    "  k=sqrt(length(iris)),\n",
    "  train_data = iris[,c(1,2,3,6)],\n",
    "  test_data = iris_grid,\n",
    "  ncores = 80,\n",
    "  outcome_var = \"Species\",\n",
    "  name_var = \"names\",\n",
    "  mode=\"prediction\",\n",
    "  sparsity_prp=1,\n",
    "  scale=T\n",
    ")"
   ]
  },
  {
   "cell_type": "code",
   "execution_count": 56,
   "metadata": {},
   "outputs": [
    {
     "data": {
      "image/png": "[encoded data removed]",
      "text/plain": [
       "plot without title"
      ]
     },
     "metadata": {
      "image/png": {
       "height": 420,
       "width": 420
      }
     },
     "output_type": "display_data"
    }
   ],
   "source": [
    "ggplot()+geom_point(aes(x=iris_grid$Sepal.Length,iris_grid$Sepal.Width,colour=knn_iris$prediction),size=5,pch=15)+geom_point(aes(x=iris$Sepal.Length,iris$Sepal.Width,pch=iris$Species),size=3)"
   ]
  },
  {
   "cell_type": "markdown",
   "metadata": {
    "tags": []
   },
   "source": [
    "## K=10"
   ]
  },
  {
   "cell_type": "code",
   "execution_count": 64,
   "metadata": {},
   "outputs": [],
   "source": [
    "knn_iris=\n",
    "knn(\n",
    "  k=10,\n",
    "  train_data = iris[,c(1,2,3,6)],\n",
    "  test_data = iris_grid,\n",
    "  ncores = 80,\n",
    "  outcome_var = \"Species\",\n",
    "  name_var = \"names\",\n",
    "  mode=\"prediction\",\n",
    "  sparsity_prp=1,\n",
    "  scale=T\n",
    ")"
   ]
  },
  {
   "cell_type": "code",
   "execution_count": 66,
   "metadata": {},
   "outputs": [
    {
     "data": {
      "image/png": "[encoded data removed]",
      "text/plain": [
       "plot without title"
      ]
     },
     "metadata": {
      "image/png": {
       "height": 420,
       "width": 420
      }
     },
     "output_type": "display_data"
    }
   ],
   "source": [
    "ggplot()+geom_point(aes(x=iris_grid$Sepal.Length,iris_grid$Sepal.Width,colour=knn_iris$prediction),size=5,pch=15)+geom_point(aes(x=iris$Sepal.Length,iris$Sepal.Width,pch=iris$Species),size=3)"
   ]
  }
 ],
 "metadata": {
  "colab": {
   "collapsed_sections": [],
   "name": "CS5800Group.ipynb",
   "provenance": []
  },
  "gpuClass": "standard",
  "kernelspec": {
   "display_name": "R",
   "language": "R",
   "name": "ir"
  },
  "language_info": {
   "codemirror_mode": "r",
   "file_extension": ".r",
   "mimetype": "text/x-r-source",
   "name": "R",
   "pygments_lexer": "r",
   "version": "4.2.0"
  }
 },
 "nbformat": 4,
 "nbformat_minor": 4
}
