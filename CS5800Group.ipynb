{
 "cells": [
  {
   "cell_type": "code",
   "execution_count": null,
   "metadata": {
    "colab": {
     "base_uri": "https://localhost:8080/"
    },
    "id": "WGrG5bji-YaQ",
    "outputId": "edb95eed-5435-41e7-edfc-5a12967ee056"
   },
   "outputs": [
    {
     "name": "stderr",
     "output_type": "stream",
     "text": [
      "Installing packages into ‘/usr/local/lib/R/site-library’\n",
      "(as ‘lib’ is unspecified)\n",
      "\n"
     ]
    }
   ],
   "source": [
    "#install.packages(c(\"httr\", \"jsonlite\"))"
   ]
  },
  {
   "cell_type": "code",
   "execution_count": 1,
   "metadata": {
    "id": "SYTG4dwZ_LDu"
   },
   "outputs": [],
   "source": [
    "library(httr)\n",
    "library(jsonlite)\n",
    "library(data.table)\n",
    "library(dtplyr)"
   ]
  },
  {
   "cell_type": "code",
   "execution_count": 6,
   "metadata": {
    "id": "RVyYRqAfI47x"
   },
   "outputs": [],
   "source": [
    "cms_data_importer=function(url,data_size){\n",
    "\n",
    "  require(data.table)\n",
    "  require(dplyr)\n",
    "  require(httr)\n",
    "  require(jsonlite)\n",
    "  require(tidyverse)\n",
    "  \n",
    "  stats=GET(paste(url,\"/stats\",sep = \"\"))\n",
    "\n",
    "  row_count=content(stats,as=\"parsed\")$total_rows\n",
    "\n",
    "  offset=0\n",
    "  data=data.table()\n",
    "\n",
    "  if(data_size==\"all\"){\n",
    "    while(offset<row_count){\n",
    "      new_get=GET(paste(url,\"?size=5000&offset=\",offset,sep = \"\"))\n",
    "      new_data=fromJSON(rawToChar(new_get$content))%>%as.data.table()\n",
    "      data=rbind(data,new_data)\n",
    "      offset=offset+5000\n",
    "    }\n",
    "  }\n",
    "  else{\n",
    "    while(offset<data_size){\n",
    "      new_get=GET(paste(url,\"?size=5000&offset=\",offset,sep = \"\"))\n",
    "      new_data=fromJSON(rawToChar(new_get$content))%>%as.data.table()\n",
    "      data=rbind(data,new_data)\n",
    "      offset=offset+5000\n",
    "    }\n",
    "  }\n",
    "  \n",
    "  return(data)\n",
    "\n",
    "}"
   ]
  },
  {
   "cell_type": "code",
   "execution_count": 21,
   "metadata": {
    "id": "nVIgCMJaLaUh"
   },
   "outputs": [],
   "source": [
    "physician_data=cms_data_importer(\n",
    "  url = \n",
    "  \"https://data.cms.gov/data-api/v1/dataset/14cd68c2-9433-4069-90fa-d213ef709661/data\",\n",
    "  data_size=1000\n",
    ")"
   ]
  },
  {
   "cell_type": "code",
   "execution_count": 22,
   "metadata": {
    "colab": {
     "base_uri": "https://localhost:8080/",
     "height": 104
    },
    "id": "DEDqEQkBfCMD",
    "outputId": "b6799e97-f7bf-4e80-850b-6b6d3a9c81cd"
   },
   "outputs": [
    {
     "data": {
      "text/html": [
       "<style>\n",
       ".list-inline {list-style: none; margin:0; padding: 0}\n",
       ".list-inline>li {display: inline-block}\n",
       ".list-inline>li:not(:last-child)::after {content: \"\\00b7\"; padding: 0 .5ex}\n",
       "</style>\n",
       "<ol class=list-inline><li>'Rndrng_NPI'</li><li>'Rndrng_Prvdr_Last_Org_Name'</li><li>'Rndrng_Prvdr_First_Name'</li><li>'Rndrng_Prvdr_MI'</li><li>'Rndrng_Prvdr_Crdntls'</li><li>'Rndrng_Prvdr_Gndr'</li><li>'Rndrng_Prvdr_Ent_Cd'</li><li>'Rndrng_Prvdr_St1'</li><li>'Rndrng_Prvdr_St2'</li><li>'Rndrng_Prvdr_City'</li><li>'Rndrng_Prvdr_State_Abrvtn'</li><li>'Rndrng_Prvdr_State_FIPS'</li><li>'Rndrng_Prvdr_Zip5'</li><li>'Rndrng_Prvdr_RUCA'</li><li>'Rndrng_Prvdr_RUCA_Desc'</li><li>'Rndrng_Prvdr_Cntry'</li><li>'Rndrng_Prvdr_Type'</li><li>'Rndrng_Prvdr_Mdcr_Prtcptg_Ind'</li><li>'HCPCS_Cd'</li><li>'HCPCS_Desc'</li><li>'HCPCS_Drug_Ind'</li><li>'Place_Of_Srvc'</li><li>'Tot_Benes'</li><li>'Tot_Srvcs'</li><li>'Tot_Bene_Day_Srvcs'</li><li>'Avg_Sbmtd_Chrg'</li><li>'Avg_Mdcr_Alowd_Amt'</li><li>'Avg_Mdcr_Pymt_Amt'</li><li>'Avg_Mdcr_Stdzd_Amt'</li></ol>\n"
      ],
      "text/latex": [
       "\\begin{enumerate*}\n",
       "\\item 'Rndrng\\_NPI'\n",
       "\\item 'Rndrng\\_Prvdr\\_Last\\_Org\\_Name'\n",
       "\\item 'Rndrng\\_Prvdr\\_First\\_Name'\n",
       "\\item 'Rndrng\\_Prvdr\\_MI'\n",
       "\\item 'Rndrng\\_Prvdr\\_Crdntls'\n",
       "\\item 'Rndrng\\_Prvdr\\_Gndr'\n",
       "\\item 'Rndrng\\_Prvdr\\_Ent\\_Cd'\n",
       "\\item 'Rndrng\\_Prvdr\\_St1'\n",
       "\\item 'Rndrng\\_Prvdr\\_St2'\n",
       "\\item 'Rndrng\\_Prvdr\\_City'\n",
       "\\item 'Rndrng\\_Prvdr\\_State\\_Abrvtn'\n",
       "\\item 'Rndrng\\_Prvdr\\_State\\_FIPS'\n",
       "\\item 'Rndrng\\_Prvdr\\_Zip5'\n",
       "\\item 'Rndrng\\_Prvdr\\_RUCA'\n",
       "\\item 'Rndrng\\_Prvdr\\_RUCA\\_Desc'\n",
       "\\item 'Rndrng\\_Prvdr\\_Cntry'\n",
       "\\item 'Rndrng\\_Prvdr\\_Type'\n",
       "\\item 'Rndrng\\_Prvdr\\_Mdcr\\_Prtcptg\\_Ind'\n",
       "\\item 'HCPCS\\_Cd'\n",
       "\\item 'HCPCS\\_Desc'\n",
       "\\item 'HCPCS\\_Drug\\_Ind'\n",
       "\\item 'Place\\_Of\\_Srvc'\n",
       "\\item 'Tot\\_Benes'\n",
       "\\item 'Tot\\_Srvcs'\n",
       "\\item 'Tot\\_Bene\\_Day\\_Srvcs'\n",
       "\\item 'Avg\\_Sbmtd\\_Chrg'\n",
       "\\item 'Avg\\_Mdcr\\_Alowd\\_Amt'\n",
       "\\item 'Avg\\_Mdcr\\_Pymt\\_Amt'\n",
       "\\item 'Avg\\_Mdcr\\_Stdzd\\_Amt'\n",
       "\\end{enumerate*}\n"
      ],
      "text/markdown": [
       "1. 'Rndrng_NPI'\n",
       "2. 'Rndrng_Prvdr_Last_Org_Name'\n",
       "3. 'Rndrng_Prvdr_First_Name'\n",
       "4. 'Rndrng_Prvdr_MI'\n",
       "5. 'Rndrng_Prvdr_Crdntls'\n",
       "6. 'Rndrng_Prvdr_Gndr'\n",
       "7. 'Rndrng_Prvdr_Ent_Cd'\n",
       "8. 'Rndrng_Prvdr_St1'\n",
       "9. 'Rndrng_Prvdr_St2'\n",
       "10. 'Rndrng_Prvdr_City'\n",
       "11. 'Rndrng_Prvdr_State_Abrvtn'\n",
       "12. 'Rndrng_Prvdr_State_FIPS'\n",
       "13. 'Rndrng_Prvdr_Zip5'\n",
       "14. 'Rndrng_Prvdr_RUCA'\n",
       "15. 'Rndrng_Prvdr_RUCA_Desc'\n",
       "16. 'Rndrng_Prvdr_Cntry'\n",
       "17. 'Rndrng_Prvdr_Type'\n",
       "18. 'Rndrng_Prvdr_Mdcr_Prtcptg_Ind'\n",
       "19. 'HCPCS_Cd'\n",
       "20. 'HCPCS_Desc'\n",
       "21. 'HCPCS_Drug_Ind'\n",
       "22. 'Place_Of_Srvc'\n",
       "23. 'Tot_Benes'\n",
       "24. 'Tot_Srvcs'\n",
       "25. 'Tot_Bene_Day_Srvcs'\n",
       "26. 'Avg_Sbmtd_Chrg'\n",
       "27. 'Avg_Mdcr_Alowd_Amt'\n",
       "28. 'Avg_Mdcr_Pymt_Amt'\n",
       "29. 'Avg_Mdcr_Stdzd_Amt'\n",
       "\n",
       "\n"
      ],
      "text/plain": [
       " [1] \"Rndrng_NPI\"                    \"Rndrng_Prvdr_Last_Org_Name\"   \n",
       " [3] \"Rndrng_Prvdr_First_Name\"       \"Rndrng_Prvdr_MI\"              \n",
       " [5] \"Rndrng_Prvdr_Crdntls\"          \"Rndrng_Prvdr_Gndr\"            \n",
       " [7] \"Rndrng_Prvdr_Ent_Cd\"           \"Rndrng_Prvdr_St1\"             \n",
       " [9] \"Rndrng_Prvdr_St2\"              \"Rndrng_Prvdr_City\"            \n",
       "[11] \"Rndrng_Prvdr_State_Abrvtn\"     \"Rndrng_Prvdr_State_FIPS\"      \n",
       "[13] \"Rndrng_Prvdr_Zip5\"             \"Rndrng_Prvdr_RUCA\"            \n",
       "[15] \"Rndrng_Prvdr_RUCA_Desc\"        \"Rndrng_Prvdr_Cntry\"           \n",
       "[17] \"Rndrng_Prvdr_Type\"             \"Rndrng_Prvdr_Mdcr_Prtcptg_Ind\"\n",
       "[19] \"HCPCS_Cd\"                      \"HCPCS_Desc\"                   \n",
       "[21] \"HCPCS_Drug_Ind\"                \"Place_Of_Srvc\"                \n",
       "[23] \"Tot_Benes\"                     \"Tot_Srvcs\"                    \n",
       "[25] \"Tot_Bene_Day_Srvcs\"            \"Avg_Sbmtd_Chrg\"               \n",
       "[27] \"Avg_Mdcr_Alowd_Amt\"            \"Avg_Mdcr_Pymt_Amt\"            \n",
       "[29] \"Avg_Mdcr_Stdzd_Amt\"           "
      ]
     },
     "metadata": {},
     "output_type": "display_data"
    }
   ],
   "source": [
    "colnames(physician_data)"
   ]
  },
  {
   "cell_type": "code",
   "execution_count": 23,
   "metadata": {
    "id": "uA-4YHinMLjT"
   },
   "outputs": [],
   "source": [
    "physician_data=physician_data[,.(Rndrng_NPI,Rndrng_Prvdr_Type,HCPCS_Cd,Tot_Srvcs)]"
   ]
  },
  {
   "cell_type": "code",
   "execution_count": 24,
   "metadata": {
    "colab": {
     "base_uri": "https://localhost:8080/",
     "height": 743
    },
    "id": "mw0uzLSjpC9W",
    "outputId": "53efb60c-00b7-4808-b5ed-076d87cd8954"
   },
   "outputs": [
    {
     "data": {
      "text/html": [
       "<table class=\"dataframe\">\n",
       "<caption>A data.table: 20 × 4</caption>\n",
       "<thead>\n",
       "\t<tr><th scope=col>Rndrng_NPI</th><th scope=col>Rndrng_Prvdr_Type</th><th scope=col>HCPCS_Cd</th><th scope=col>Tot_Srvcs</th></tr>\n",
       "\t<tr><th scope=col>&lt;chr&gt;</th><th scope=col>&lt;chr&gt;</th><th scope=col>&lt;chr&gt;</th><th scope=col>&lt;chr&gt;</th></tr>\n",
       "</thead>\n",
       "<tbody>\n",
       "\t<tr><td>1003000126</td><td>Internal Medicine</td><td>99217</td><td>23  </td></tr>\n",
       "\t<tr><td>1003000126</td><td>Internal Medicine</td><td>99218</td><td>16  </td></tr>\n",
       "\t<tr><td>1003000126</td><td>Internal Medicine</td><td>99220</td><td>16  </td></tr>\n",
       "\t<tr><td>1003000126</td><td>Internal Medicine</td><td>99221</td><td>12  </td></tr>\n",
       "\t<tr><td>1003000126</td><td>Internal Medicine</td><td>99223</td><td>52  </td></tr>\n",
       "\t<tr><td>1003000126</td><td>Internal Medicine</td><td>99232</td><td>134 </td></tr>\n",
       "\t<tr><td>1003000126</td><td>Internal Medicine</td><td>99233</td><td>326 </td></tr>\n",
       "\t<tr><td>1003000126</td><td>Internal Medicine</td><td>99238</td><td>13  </td></tr>\n",
       "\t<tr><td>1003000126</td><td>Internal Medicine</td><td>99239</td><td>146 </td></tr>\n",
       "\t<tr><td>1003000134</td><td>Pathology        </td><td>88304</td><td>125 </td></tr>\n",
       "\t<tr><td>1003000134</td><td>Pathology        </td><td>88305</td><td>4307</td></tr>\n",
       "\t<tr><td>1003000134</td><td>Pathology        </td><td>88312</td><td>346 </td></tr>\n",
       "\t<tr><td>1003000134</td><td>Pathology        </td><td>88313</td><td>109 </td></tr>\n",
       "\t<tr><td>1003000134</td><td>Pathology        </td><td>88341</td><td>122 </td></tr>\n",
       "\t<tr><td>1003000134</td><td>Pathology        </td><td>88342</td><td>54  </td></tr>\n",
       "\t<tr><td>1003000134</td><td>Pathology        </td><td>88344</td><td>389 </td></tr>\n",
       "\t<tr><td>1003000134</td><td>Pathology        </td><td>88346</td><td>78  </td></tr>\n",
       "\t<tr><td>1003000134</td><td>Pathology        </td><td>88348</td><td>16  </td></tr>\n",
       "\t<tr><td>1003000134</td><td>Pathology        </td><td>88350</td><td>314 </td></tr>\n",
       "\t<tr><td>1003000134</td><td>Pathology        </td><td>88360</td><td>25  </td></tr>\n",
       "</tbody>\n",
       "</table>\n"
      ],
      "text/latex": [
       "A data.table: 20 × 4\n",
       "\\begin{tabular}{llll}\n",
       " Rndrng\\_NPI & Rndrng\\_Prvdr\\_Type & HCPCS\\_Cd & Tot\\_Srvcs\\\\\n",
       " <chr> & <chr> & <chr> & <chr>\\\\\n",
       "\\hline\n",
       "\t 1003000126 & Internal Medicine & 99217 & 23  \\\\\n",
       "\t 1003000126 & Internal Medicine & 99218 & 16  \\\\\n",
       "\t 1003000126 & Internal Medicine & 99220 & 16  \\\\\n",
       "\t 1003000126 & Internal Medicine & 99221 & 12  \\\\\n",
       "\t 1003000126 & Internal Medicine & 99223 & 52  \\\\\n",
       "\t 1003000126 & Internal Medicine & 99232 & 134 \\\\\n",
       "\t 1003000126 & Internal Medicine & 99233 & 326 \\\\\n",
       "\t 1003000126 & Internal Medicine & 99238 & 13  \\\\\n",
       "\t 1003000126 & Internal Medicine & 99239 & 146 \\\\\n",
       "\t 1003000134 & Pathology         & 88304 & 125 \\\\\n",
       "\t 1003000134 & Pathology         & 88305 & 4307\\\\\n",
       "\t 1003000134 & Pathology         & 88312 & 346 \\\\\n",
       "\t 1003000134 & Pathology         & 88313 & 109 \\\\\n",
       "\t 1003000134 & Pathology         & 88341 & 122 \\\\\n",
       "\t 1003000134 & Pathology         & 88342 & 54  \\\\\n",
       "\t 1003000134 & Pathology         & 88344 & 389 \\\\\n",
       "\t 1003000134 & Pathology         & 88346 & 78  \\\\\n",
       "\t 1003000134 & Pathology         & 88348 & 16  \\\\\n",
       "\t 1003000134 & Pathology         & 88350 & 314 \\\\\n",
       "\t 1003000134 & Pathology         & 88360 & 25  \\\\\n",
       "\\end{tabular}\n"
      ],
      "text/markdown": [
       "\n",
       "A data.table: 20 × 4\n",
       "\n",
       "| Rndrng_NPI &lt;chr&gt; | Rndrng_Prvdr_Type &lt;chr&gt; | HCPCS_Cd &lt;chr&gt; | Tot_Srvcs &lt;chr&gt; |\n",
       "|---|---|---|---|\n",
       "| 1003000126 | Internal Medicine | 99217 | 23   |\n",
       "| 1003000126 | Internal Medicine | 99218 | 16   |\n",
       "| 1003000126 | Internal Medicine | 99220 | 16   |\n",
       "| 1003000126 | Internal Medicine | 99221 | 12   |\n",
       "| 1003000126 | Internal Medicine | 99223 | 52   |\n",
       "| 1003000126 | Internal Medicine | 99232 | 134  |\n",
       "| 1003000126 | Internal Medicine | 99233 | 326  |\n",
       "| 1003000126 | Internal Medicine | 99238 | 13   |\n",
       "| 1003000126 | Internal Medicine | 99239 | 146  |\n",
       "| 1003000134 | Pathology         | 88304 | 125  |\n",
       "| 1003000134 | Pathology         | 88305 | 4307 |\n",
       "| 1003000134 | Pathology         | 88312 | 346  |\n",
       "| 1003000134 | Pathology         | 88313 | 109  |\n",
       "| 1003000134 | Pathology         | 88341 | 122  |\n",
       "| 1003000134 | Pathology         | 88342 | 54   |\n",
       "| 1003000134 | Pathology         | 88344 | 389  |\n",
       "| 1003000134 | Pathology         | 88346 | 78   |\n",
       "| 1003000134 | Pathology         | 88348 | 16   |\n",
       "| 1003000134 | Pathology         | 88350 | 314  |\n",
       "| 1003000134 | Pathology         | 88360 | 25   |\n",
       "\n"
      ],
      "text/plain": [
       "   Rndrng_NPI Rndrng_Prvdr_Type HCPCS_Cd Tot_Srvcs\n",
       "1  1003000126 Internal Medicine 99217    23       \n",
       "2  1003000126 Internal Medicine 99218    16       \n",
       "3  1003000126 Internal Medicine 99220    16       \n",
       "4  1003000126 Internal Medicine 99221    12       \n",
       "5  1003000126 Internal Medicine 99223    52       \n",
       "6  1003000126 Internal Medicine 99232    134      \n",
       "7  1003000126 Internal Medicine 99233    326      \n",
       "8  1003000126 Internal Medicine 99238    13       \n",
       "9  1003000126 Internal Medicine 99239    146      \n",
       "10 1003000134 Pathology         88304    125      \n",
       "11 1003000134 Pathology         88305    4307     \n",
       "12 1003000134 Pathology         88312    346      \n",
       "13 1003000134 Pathology         88313    109      \n",
       "14 1003000134 Pathology         88341    122      \n",
       "15 1003000134 Pathology         88342    54       \n",
       "16 1003000134 Pathology         88344    389      \n",
       "17 1003000134 Pathology         88346    78       \n",
       "18 1003000134 Pathology         88348    16       \n",
       "19 1003000134 Pathology         88350    314      \n",
       "20 1003000134 Pathology         88360    25       "
      ]
     },
     "metadata": {},
     "output_type": "display_data"
    },
    {
     "data": {
      "text/html": [
       "<style>\n",
       ".list-inline {list-style: none; margin:0; padding: 0}\n",
       ".list-inline>li {display: inline-block}\n",
       ".list-inline>li:not(:last-child)::after {content: \"\\00b7\"; padding: 0 .5ex}\n",
       "</style>\n",
       "<ol class=list-inline><li>5000</li><li>4</li></ol>\n"
      ],
      "text/latex": [
       "\\begin{enumerate*}\n",
       "\\item 5000\n",
       "\\item 4\n",
       "\\end{enumerate*}\n"
      ],
      "text/markdown": [
       "1. 5000\n",
       "2. 4\n",
       "\n",
       "\n"
      ],
      "text/plain": [
       "[1] 5000    4"
      ]
     },
     "metadata": {},
     "output_type": "display_data"
    }
   ],
   "source": [
    "head(physician_data, 20)\n",
    "dim(physician_data)"
   ]
  },
  {
   "cell_type": "code",
   "execution_count": 25,
   "metadata": {
    "id": "s52cmzTvo6eo"
   },
   "outputs": [],
   "source": [
    "physician_data[,Tot_Srvcs:=as.numeric(Tot_Srvcs)]"
   ]
  },
  {
   "cell_type": "code",
   "execution_count": 26,
   "metadata": {
    "id": "aKWWyb-hmcxs"
   },
   "outputs": [],
   "source": [
    "physician_data_wide=dcast(physician_data, Rndrng_NPI+Rndrng_Prvdr_Type ~ HCPCS_Cd,\n",
    " value.var = 'Tot_Srvcs', fun.aggregate = sum)%>%\n",
    " as.data.table()"
   ]
  },
  {
   "cell_type": "code",
   "execution_count": 27,
   "metadata": {
    "colab": {
     "base_uri": "https://localhost:8080/",
     "height": 341
    },
    "id": "0NF_UG0TrtkK",
    "outputId": "68f89e97-f0e9-45ea-87e8-80dbd26155f4"
   },
   "outputs": [
    {
     "data": {
      "text/html": [
       "<table class=\"dataframe\">\n",
       "<caption>A data.table: 6 × 941</caption>\n",
       "<thead>\n",
       "\t<tr><th scope=col>Rndrng_NPI</th><th scope=col>Rndrng_Prvdr_Type</th><th scope=col>0042T</th><th scope=col>0055T</th><th scope=col>0191T</th><th scope=col>0509T</th><th scope=col>10005</th><th scope=col>10060</th><th scope=col>104</th><th scope=col>11042</th><th scope=col>⋯</th><th scope=col>J9217</th><th scope=col>J9250</th><th scope=col>Q0091</th><th scope=col>Q4186</th><th scope=col>Q9956</th><th scope=col>Q9957</th><th scope=col>Q9965</th><th scope=col>Q9966</th><th scope=col>Q9967</th><th scope=col>U0002</th></tr>\n",
       "\t<tr><th scope=col>&lt;chr&gt;</th><th scope=col>&lt;chr&gt;</th><th scope=col>&lt;dbl&gt;</th><th scope=col>&lt;dbl&gt;</th><th scope=col>&lt;dbl&gt;</th><th scope=col>&lt;dbl&gt;</th><th scope=col>&lt;dbl&gt;</th><th scope=col>&lt;dbl&gt;</th><th scope=col>&lt;dbl&gt;</th><th scope=col>&lt;dbl&gt;</th><th scope=col>⋯</th><th scope=col>&lt;dbl&gt;</th><th scope=col>&lt;dbl&gt;</th><th scope=col>&lt;dbl&gt;</th><th scope=col>&lt;dbl&gt;</th><th scope=col>&lt;dbl&gt;</th><th scope=col>&lt;dbl&gt;</th><th scope=col>&lt;dbl&gt;</th><th scope=col>&lt;dbl&gt;</th><th scope=col>&lt;dbl&gt;</th><th scope=col>&lt;dbl&gt;</th></tr>\n",
       "</thead>\n",
       "<tbody>\n",
       "\t<tr><td>1003000126</td><td>Internal Medicine      </td><td>0</td><td>0</td><td>0</td><td>0</td><td>0</td><td>0</td><td>0</td><td>0</td><td>⋯</td><td>0</td><td>0</td><td> 0</td><td>0</td><td>0</td><td>0</td><td>0</td><td>0</td><td>0</td><td>0</td></tr>\n",
       "\t<tr><td>1003000134</td><td>Pathology              </td><td>0</td><td>0</td><td>0</td><td>0</td><td>0</td><td>0</td><td>0</td><td>0</td><td>⋯</td><td>0</td><td>0</td><td> 0</td><td>0</td><td>0</td><td>0</td><td>0</td><td>0</td><td>0</td><td>0</td></tr>\n",
       "\t<tr><td>1003000142</td><td>Anesthesiology         </td><td>0</td><td>0</td><td>0</td><td>0</td><td>0</td><td>0</td><td>0</td><td>0</td><td>⋯</td><td>0</td><td>0</td><td> 0</td><td>0</td><td>0</td><td>0</td><td>0</td><td>0</td><td>0</td><td>0</td></tr>\n",
       "\t<tr><td>1003000423</td><td>Obstetrics &amp; Gynecology</td><td>0</td><td>0</td><td>0</td><td>0</td><td>0</td><td>0</td><td>0</td><td>0</td><td>⋯</td><td>0</td><td>0</td><td>15</td><td>0</td><td>0</td><td>0</td><td>0</td><td>0</td><td>0</td><td>0</td></tr>\n",
       "\t<tr><td>1003000480</td><td>General Surgery        </td><td>0</td><td>0</td><td>0</td><td>0</td><td>0</td><td>0</td><td>0</td><td>0</td><td>⋯</td><td>0</td><td>0</td><td> 0</td><td>0</td><td>0</td><td>0</td><td>0</td><td>0</td><td>0</td><td>0</td></tr>\n",
       "\t<tr><td>1003000522</td><td>Family Practice        </td><td>0</td><td>0</td><td>0</td><td>0</td><td>0</td><td>0</td><td>0</td><td>0</td><td>⋯</td><td>0</td><td>0</td><td> 0</td><td>0</td><td>0</td><td>0</td><td>0</td><td>0</td><td>0</td><td>0</td></tr>\n",
       "</tbody>\n",
       "</table>\n"
      ],
      "text/latex": [
       "A data.table: 6 × 941\n",
       "\\begin{tabular}{lllllllllllllllllllll}\n",
       " Rndrng\\_NPI & Rndrng\\_Prvdr\\_Type & 0042T & 0055T & 0191T & 0509T & 10005 & 10060 & 104 & 11042 & ⋯ & J9217 & J9250 & Q0091 & Q4186 & Q9956 & Q9957 & Q9965 & Q9966 & Q9967 & U0002\\\\\n",
       " <chr> & <chr> & <dbl> & <dbl> & <dbl> & <dbl> & <dbl> & <dbl> & <dbl> & <dbl> & ⋯ & <dbl> & <dbl> & <dbl> & <dbl> & <dbl> & <dbl> & <dbl> & <dbl> & <dbl> & <dbl>\\\\\n",
       "\\hline\n",
       "\t 1003000126 & Internal Medicine       & 0 & 0 & 0 & 0 & 0 & 0 & 0 & 0 & ⋯ & 0 & 0 &  0 & 0 & 0 & 0 & 0 & 0 & 0 & 0\\\\\n",
       "\t 1003000134 & Pathology               & 0 & 0 & 0 & 0 & 0 & 0 & 0 & 0 & ⋯ & 0 & 0 &  0 & 0 & 0 & 0 & 0 & 0 & 0 & 0\\\\\n",
       "\t 1003000142 & Anesthesiology          & 0 & 0 & 0 & 0 & 0 & 0 & 0 & 0 & ⋯ & 0 & 0 &  0 & 0 & 0 & 0 & 0 & 0 & 0 & 0\\\\\n",
       "\t 1003000423 & Obstetrics \\& Gynecology & 0 & 0 & 0 & 0 & 0 & 0 & 0 & 0 & ⋯ & 0 & 0 & 15 & 0 & 0 & 0 & 0 & 0 & 0 & 0\\\\\n",
       "\t 1003000480 & General Surgery         & 0 & 0 & 0 & 0 & 0 & 0 & 0 & 0 & ⋯ & 0 & 0 &  0 & 0 & 0 & 0 & 0 & 0 & 0 & 0\\\\\n",
       "\t 1003000522 & Family Practice         & 0 & 0 & 0 & 0 & 0 & 0 & 0 & 0 & ⋯ & 0 & 0 &  0 & 0 & 0 & 0 & 0 & 0 & 0 & 0\\\\\n",
       "\\end{tabular}\n"
      ],
      "text/markdown": [
       "\n",
       "A data.table: 6 × 941\n",
       "\n",
       "| Rndrng_NPI &lt;chr&gt; | Rndrng_Prvdr_Type &lt;chr&gt; | 0042T &lt;dbl&gt; | 0055T &lt;dbl&gt; | 0191T &lt;dbl&gt; | 0509T &lt;dbl&gt; | 10005 &lt;dbl&gt; | 10060 &lt;dbl&gt; | 104 &lt;dbl&gt; | 11042 &lt;dbl&gt; | ⋯ ⋯ | J9217 &lt;dbl&gt; | J9250 &lt;dbl&gt; | Q0091 &lt;dbl&gt; | Q4186 &lt;dbl&gt; | Q9956 &lt;dbl&gt; | Q9957 &lt;dbl&gt; | Q9965 &lt;dbl&gt; | Q9966 &lt;dbl&gt; | Q9967 &lt;dbl&gt; | U0002 &lt;dbl&gt; |\n",
       "|---|---|---|---|---|---|---|---|---|---|---|---|---|---|---|---|---|---|---|---|---|\n",
       "| 1003000126 | Internal Medicine       | 0 | 0 | 0 | 0 | 0 | 0 | 0 | 0 | ⋯ | 0 | 0 |  0 | 0 | 0 | 0 | 0 | 0 | 0 | 0 |\n",
       "| 1003000134 | Pathology               | 0 | 0 | 0 | 0 | 0 | 0 | 0 | 0 | ⋯ | 0 | 0 |  0 | 0 | 0 | 0 | 0 | 0 | 0 | 0 |\n",
       "| 1003000142 | Anesthesiology          | 0 | 0 | 0 | 0 | 0 | 0 | 0 | 0 | ⋯ | 0 | 0 |  0 | 0 | 0 | 0 | 0 | 0 | 0 | 0 |\n",
       "| 1003000423 | Obstetrics &amp; Gynecology | 0 | 0 | 0 | 0 | 0 | 0 | 0 | 0 | ⋯ | 0 | 0 | 15 | 0 | 0 | 0 | 0 | 0 | 0 | 0 |\n",
       "| 1003000480 | General Surgery         | 0 | 0 | 0 | 0 | 0 | 0 | 0 | 0 | ⋯ | 0 | 0 |  0 | 0 | 0 | 0 | 0 | 0 | 0 | 0 |\n",
       "| 1003000522 | Family Practice         | 0 | 0 | 0 | 0 | 0 | 0 | 0 | 0 | ⋯ | 0 | 0 |  0 | 0 | 0 | 0 | 0 | 0 | 0 | 0 |\n",
       "\n"
      ],
      "text/plain": [
       "  Rndrng_NPI Rndrng_Prvdr_Type       0042T 0055T 0191T 0509T 10005 10060 104\n",
       "1 1003000126 Internal Medicine       0     0     0     0     0     0     0  \n",
       "2 1003000134 Pathology               0     0     0     0     0     0     0  \n",
       "3 1003000142 Anesthesiology          0     0     0     0     0     0     0  \n",
       "4 1003000423 Obstetrics & Gynecology 0     0     0     0     0     0     0  \n",
       "5 1003000480 General Surgery         0     0     0     0     0     0     0  \n",
       "6 1003000522 Family Practice         0     0     0     0     0     0     0  \n",
       "  11042 ⋯ J9217 J9250 Q0091 Q4186 Q9956 Q9957 Q9965 Q9966 Q9967 U0002\n",
       "1 0     ⋯ 0     0      0    0     0     0     0     0     0     0    \n",
       "2 0     ⋯ 0     0      0    0     0     0     0     0     0     0    \n",
       "3 0     ⋯ 0     0      0    0     0     0     0     0     0     0    \n",
       "4 0     ⋯ 0     0     15    0     0     0     0     0     0     0    \n",
       "5 0     ⋯ 0     0      0    0     0     0     0     0     0     0    \n",
       "6 0     ⋯ 0     0      0    0     0     0     0     0     0     0    "
      ]
     },
     "metadata": {},
     "output_type": "display_data"
    },
    {
     "data": {
      "text/html": [
       "<style>\n",
       ".list-inline {list-style: none; margin:0; padding: 0}\n",
       ".list-inline>li {display: inline-block}\n",
       ".list-inline>li:not(:last-child)::after {content: \"\\00b7\"; padding: 0 .5ex}\n",
       "</style>\n",
       "<ol class=list-inline><li>482</li><li>941</li></ol>\n"
      ],
      "text/latex": [
       "\\begin{enumerate*}\n",
       "\\item 482\n",
       "\\item 941\n",
       "\\end{enumerate*}\n"
      ],
      "text/markdown": [
       "1. 482\n",
       "2. 941\n",
       "\n",
       "\n"
      ],
      "text/plain": [
       "[1] 482 941"
      ]
     },
     "metadata": {},
     "output_type": "display_data"
    }
   ],
   "source": [
    "head(physician_data_wide)\n",
    "dim(physician_data_wide)"
   ]
  },
  {
   "cell_type": "code",
   "execution_count": 28,
   "metadata": {
    "colab": {
     "base_uri": "https://localhost:8080/",
     "height": 164
    },
    "id": "qf6_YTxBr5Sj",
    "outputId": "00413585-a92f-4dea-88ed-39b0ea10ca62"
   },
   "outputs": [
    {
     "data": {
      "text/html": [
       "<table class=\"dataframe\">\n",
       "<caption>A data.table: 1 × 1</caption>\n",
       "<thead>\n",
       "\t<tr><th scope=col>99217</th></tr>\n",
       "\t<tr><th scope=col>&lt;dbl&gt;</th></tr>\n",
       "</thead>\n",
       "<tbody>\n",
       "\t<tr><td>23</td></tr>\n",
       "</tbody>\n",
       "</table>\n"
      ],
      "text/latex": [
       "A data.table: 1 × 1\n",
       "\\begin{tabular}{l}\n",
       " 99217\\\\\n",
       " <dbl>\\\\\n",
       "\\hline\n",
       "\t 23\\\\\n",
       "\\end{tabular}\n"
      ],
      "text/markdown": [
       "\n",
       "A data.table: 1 × 1\n",
       "\n",
       "| 99217 &lt;dbl&gt; |\n",
       "|---|\n",
       "| 23 |\n",
       "\n"
      ],
      "text/plain": [
       "  99217\n",
       "1 23   "
      ]
     },
     "metadata": {},
     "output_type": "display_data"
    }
   ],
   "source": [
    "physician_data_wide[Rndrng_NPI==1003000126,\"99217\"]"
   ]
  },
  {
   "cell_type": "code",
   "execution_count": 30,
   "metadata": {
    "id": "0NHHaYLHsFDO"
   },
   "outputs": [],
   "source": [
    "distance_finder=function(x,y){\n",
    "  sqrt(sum((x-y)^2, na.rm = T))\n",
    "}"
   ]
  },
  {
   "cell_type": "code",
   "execution_count": 31,
   "metadata": {
    "colab": {
     "base_uri": "https://localhost:8080/",
     "height": 34
    },
    "id": "PwcQOGMm3gRN",
    "outputId": "f8896749-365f-48fc-b9c9-edafa15bac33"
   },
   "outputs": [
    {
     "data": {
      "text/html": [
       "2.23606797749979"
      ],
      "text/latex": [
       "2.23606797749979"
      ],
      "text/markdown": [
       "2.23606797749979"
      ],
      "text/plain": [
       "[1] 2.236068"
      ]
     },
     "metadata": {},
     "output_type": "display_data"
    }
   ],
   "source": [
    "x=c(1,2,3,4,5)\n",
    "y=c(2,3,4,5,6)\n",
    "distance_finder(x,y)"
   ]
  },
  {
   "cell_type": "code",
   "execution_count": 32,
   "metadata": {
    "colab": {
     "base_uri": "https://localhost:8080/",
     "height": 34
    },
    "id": "LaKQcfk-k5Uc",
    "outputId": "d0f38011-6490-4faf-ed2f-437ccb6b0624"
   },
   "outputs": [
    {
     "data": {
      "text/html": [
       "5"
      ],
      "text/latex": [
       "5"
      ],
      "text/markdown": [
       "5"
      ],
      "text/plain": [
       "[1] 5"
      ]
     },
     "metadata": {},
     "output_type": "display_data"
    }
   ],
   "source": [
    "2.23606797749979^2"
   ]
  },
  {
   "cell_type": "code",
   "execution_count": 33,
   "metadata": {
    "colab": {
     "base_uri": "https://localhost:8080/"
    },
    "id": "qDGhhi9C50sd",
    "outputId": "62ccb3f1-ddea-4bbe-d620-77ad66345744"
   },
   "outputs": [
    {
     "name": "stderr",
     "output_type": "stream",
     "text": [
      "Installing package into ‘/usr/local/lib/R/site-library’\n",
      "(as ‘lib’ is unspecified)\n",
      "\n",
      "also installing the dependency ‘bitops’\n",
      "\n",
      "\n"
     ]
    }
   ],
   "source": [
    "install.packages(\"caTools\")"
   ]
  },
  {
   "cell_type": "code",
   "execution_count": 34,
   "metadata": {
    "id": "h3bK4gBN4iuk"
   },
   "outputs": [],
   "source": [
    "library(caTools)\n",
    "set.seed=123\n",
    "sample=sample.split(SplitRatio = 0.8 , physician_data_wide$Rndrng_NPI)\n",
    "test_set=subset(physician_data_wide,sample==F)%>%as.data.frame\n",
    "training_set=subset(physician_data_wide,sample==T)%>%as.data.frame"
   ]
  },
  {
   "cell_type": "code",
   "execution_count": 35,
   "metadata": {
    "colab": {
     "base_uri": "https://localhost:8080/",
     "height": 324
    },
    "id": "MHoRdB2L-tOc",
    "outputId": "eff862bc-7722-4559-8549-5f216098372e"
   },
   "outputs": [
    {
     "data": {
      "text/html": [
       "<table class=\"dataframe\">\n",
       "<caption>A data.frame: 6 × 941</caption>\n",
       "<thead>\n",
       "\t<tr><th></th><th scope=col>Rndrng_NPI</th><th scope=col>Rndrng_Prvdr_Type</th><th scope=col>0042T</th><th scope=col>0055T</th><th scope=col>0191T</th><th scope=col>0509T</th><th scope=col>10005</th><th scope=col>10060</th><th scope=col>104</th><th scope=col>11042</th><th scope=col>⋯</th><th scope=col>J9217</th><th scope=col>J9250</th><th scope=col>Q0091</th><th scope=col>Q4186</th><th scope=col>Q9956</th><th scope=col>Q9957</th><th scope=col>Q9965</th><th scope=col>Q9966</th><th scope=col>Q9967</th><th scope=col>U0002</th></tr>\n",
       "\t<tr><th></th><th scope=col>&lt;chr&gt;</th><th scope=col>&lt;chr&gt;</th><th scope=col>&lt;dbl&gt;</th><th scope=col>&lt;dbl&gt;</th><th scope=col>&lt;dbl&gt;</th><th scope=col>&lt;dbl&gt;</th><th scope=col>&lt;dbl&gt;</th><th scope=col>&lt;dbl&gt;</th><th scope=col>&lt;dbl&gt;</th><th scope=col>&lt;dbl&gt;</th><th scope=col>⋯</th><th scope=col>&lt;dbl&gt;</th><th scope=col>&lt;dbl&gt;</th><th scope=col>&lt;dbl&gt;</th><th scope=col>&lt;dbl&gt;</th><th scope=col>&lt;dbl&gt;</th><th scope=col>&lt;dbl&gt;</th><th scope=col>&lt;dbl&gt;</th><th scope=col>&lt;dbl&gt;</th><th scope=col>&lt;dbl&gt;</th><th scope=col>&lt;dbl&gt;</th></tr>\n",
       "</thead>\n",
       "<tbody>\n",
       "\t<tr><th scope=row>1</th><td>1003000126</td><td>Internal Medicine      </td><td>0</td><td>0</td><td>0</td><td>0</td><td>0</td><td>0</td><td>0</td><td>0</td><td>⋯</td><td>0</td><td>0</td><td> 0</td><td>0</td><td>0</td><td>0</td><td>0</td><td>0</td><td>0</td><td>0</td></tr>\n",
       "\t<tr><th scope=row>2</th><td>1003000134</td><td>Pathology              </td><td>0</td><td>0</td><td>0</td><td>0</td><td>0</td><td>0</td><td>0</td><td>0</td><td>⋯</td><td>0</td><td>0</td><td> 0</td><td>0</td><td>0</td><td>0</td><td>0</td><td>0</td><td>0</td><td>0</td></tr>\n",
       "\t<tr><th scope=row>3</th><td>1003000423</td><td>Obstetrics &amp; Gynecology</td><td>0</td><td>0</td><td>0</td><td>0</td><td>0</td><td>0</td><td>0</td><td>0</td><td>⋯</td><td>0</td><td>0</td><td>15</td><td>0</td><td>0</td><td>0</td><td>0</td><td>0</td><td>0</td><td>0</td></tr>\n",
       "\t<tr><th scope=row>4</th><td>1003000480</td><td>General Surgery        </td><td>0</td><td>0</td><td>0</td><td>0</td><td>0</td><td>0</td><td>0</td><td>0</td><td>⋯</td><td>0</td><td>0</td><td> 0</td><td>0</td><td>0</td><td>0</td><td>0</td><td>0</td><td>0</td><td>0</td></tr>\n",
       "\t<tr><th scope=row>5</th><td>1003000522</td><td>Family Practice        </td><td>0</td><td>0</td><td>0</td><td>0</td><td>0</td><td>0</td><td>0</td><td>0</td><td>⋯</td><td>0</td><td>0</td><td> 0</td><td>0</td><td>0</td><td>0</td><td>0</td><td>0</td><td>0</td><td>0</td></tr>\n",
       "\t<tr><th scope=row>6</th><td>1003000530</td><td>Internal Medicine      </td><td>0</td><td>0</td><td>0</td><td>0</td><td>0</td><td>0</td><td>0</td><td>0</td><td>⋯</td><td>0</td><td>0</td><td> 0</td><td>0</td><td>0</td><td>0</td><td>0</td><td>0</td><td>0</td><td>0</td></tr>\n",
       "</tbody>\n",
       "</table>\n"
      ],
      "text/latex": [
       "A data.frame: 6 × 941\n",
       "\\begin{tabular}{r|lllllllllllllllllllll}\n",
       "  & Rndrng\\_NPI & Rndrng\\_Prvdr\\_Type & 0042T & 0055T & 0191T & 0509T & 10005 & 10060 & 104 & 11042 & ⋯ & J9217 & J9250 & Q0091 & Q4186 & Q9956 & Q9957 & Q9965 & Q9966 & Q9967 & U0002\\\\\n",
       "  & <chr> & <chr> & <dbl> & <dbl> & <dbl> & <dbl> & <dbl> & <dbl> & <dbl> & <dbl> & ⋯ & <dbl> & <dbl> & <dbl> & <dbl> & <dbl> & <dbl> & <dbl> & <dbl> & <dbl> & <dbl>\\\\\n",
       "\\hline\n",
       "\t1 & 1003000126 & Internal Medicine       & 0 & 0 & 0 & 0 & 0 & 0 & 0 & 0 & ⋯ & 0 & 0 &  0 & 0 & 0 & 0 & 0 & 0 & 0 & 0\\\\\n",
       "\t2 & 1003000134 & Pathology               & 0 & 0 & 0 & 0 & 0 & 0 & 0 & 0 & ⋯ & 0 & 0 &  0 & 0 & 0 & 0 & 0 & 0 & 0 & 0\\\\\n",
       "\t3 & 1003000423 & Obstetrics \\& Gynecology & 0 & 0 & 0 & 0 & 0 & 0 & 0 & 0 & ⋯ & 0 & 0 & 15 & 0 & 0 & 0 & 0 & 0 & 0 & 0\\\\\n",
       "\t4 & 1003000480 & General Surgery         & 0 & 0 & 0 & 0 & 0 & 0 & 0 & 0 & ⋯ & 0 & 0 &  0 & 0 & 0 & 0 & 0 & 0 & 0 & 0\\\\\n",
       "\t5 & 1003000522 & Family Practice         & 0 & 0 & 0 & 0 & 0 & 0 & 0 & 0 & ⋯ & 0 & 0 &  0 & 0 & 0 & 0 & 0 & 0 & 0 & 0\\\\\n",
       "\t6 & 1003000530 & Internal Medicine       & 0 & 0 & 0 & 0 & 0 & 0 & 0 & 0 & ⋯ & 0 & 0 &  0 & 0 & 0 & 0 & 0 & 0 & 0 & 0\\\\\n",
       "\\end{tabular}\n"
      ],
      "text/markdown": [
       "\n",
       "A data.frame: 6 × 941\n",
       "\n",
       "| <!--/--> | Rndrng_NPI &lt;chr&gt; | Rndrng_Prvdr_Type &lt;chr&gt; | 0042T &lt;dbl&gt; | 0055T &lt;dbl&gt; | 0191T &lt;dbl&gt; | 0509T &lt;dbl&gt; | 10005 &lt;dbl&gt; | 10060 &lt;dbl&gt; | 104 &lt;dbl&gt; | 11042 &lt;dbl&gt; | ⋯ ⋯ | J9217 &lt;dbl&gt; | J9250 &lt;dbl&gt; | Q0091 &lt;dbl&gt; | Q4186 &lt;dbl&gt; | Q9956 &lt;dbl&gt; | Q9957 &lt;dbl&gt; | Q9965 &lt;dbl&gt; | Q9966 &lt;dbl&gt; | Q9967 &lt;dbl&gt; | U0002 &lt;dbl&gt; |\n",
       "|---|---|---|---|---|---|---|---|---|---|---|---|---|---|---|---|---|---|---|---|---|---|\n",
       "| 1 | 1003000126 | Internal Medicine       | 0 | 0 | 0 | 0 | 0 | 0 | 0 | 0 | ⋯ | 0 | 0 |  0 | 0 | 0 | 0 | 0 | 0 | 0 | 0 |\n",
       "| 2 | 1003000134 | Pathology               | 0 | 0 | 0 | 0 | 0 | 0 | 0 | 0 | ⋯ | 0 | 0 |  0 | 0 | 0 | 0 | 0 | 0 | 0 | 0 |\n",
       "| 3 | 1003000423 | Obstetrics &amp; Gynecology | 0 | 0 | 0 | 0 | 0 | 0 | 0 | 0 | ⋯ | 0 | 0 | 15 | 0 | 0 | 0 | 0 | 0 | 0 | 0 |\n",
       "| 4 | 1003000480 | General Surgery         | 0 | 0 | 0 | 0 | 0 | 0 | 0 | 0 | ⋯ | 0 | 0 |  0 | 0 | 0 | 0 | 0 | 0 | 0 | 0 |\n",
       "| 5 | 1003000522 | Family Practice         | 0 | 0 | 0 | 0 | 0 | 0 | 0 | 0 | ⋯ | 0 | 0 |  0 | 0 | 0 | 0 | 0 | 0 | 0 | 0 |\n",
       "| 6 | 1003000530 | Internal Medicine       | 0 | 0 | 0 | 0 | 0 | 0 | 0 | 0 | ⋯ | 0 | 0 |  0 | 0 | 0 | 0 | 0 | 0 | 0 | 0 |\n",
       "\n"
      ],
      "text/plain": [
       "  Rndrng_NPI Rndrng_Prvdr_Type       0042T 0055T 0191T 0509T 10005 10060 104\n",
       "1 1003000126 Internal Medicine       0     0     0     0     0     0     0  \n",
       "2 1003000134 Pathology               0     0     0     0     0     0     0  \n",
       "3 1003000423 Obstetrics & Gynecology 0     0     0     0     0     0     0  \n",
       "4 1003000480 General Surgery         0     0     0     0     0     0     0  \n",
       "5 1003000522 Family Practice         0     0     0     0     0     0     0  \n",
       "6 1003000530 Internal Medicine       0     0     0     0     0     0     0  \n",
       "  11042 ⋯ J9217 J9250 Q0091 Q4186 Q9956 Q9957 Q9965 Q9966 Q9967 U0002\n",
       "1 0     ⋯ 0     0      0    0     0     0     0     0     0     0    \n",
       "2 0     ⋯ 0     0      0    0     0     0     0     0     0     0    \n",
       "3 0     ⋯ 0     0     15    0     0     0     0     0     0     0    \n",
       "4 0     ⋯ 0     0      0    0     0     0     0     0     0     0    \n",
       "5 0     ⋯ 0     0      0    0     0     0     0     0     0     0    \n",
       "6 0     ⋯ 0     0      0    0     0     0     0     0     0     0    "
      ]
     },
     "metadata": {},
     "output_type": "display_data"
    }
   ],
   "source": [
    "head(training_set)"
   ]
  },
  {
   "cell_type": "code",
   "execution_count": 38,
   "metadata": {
    "colab": {
     "base_uri": "https://localhost:8080/"
    },
    "id": "-fvrCe1Ln3QE",
    "outputId": "eb5a30de-0489-4891-834e-ba4f7a79bfc2"
   },
   "outputs": [
    {
     "name": "stderr",
     "output_type": "stream",
     "text": [
      "Installing packages into ‘/usr/local/lib/R/site-library’\n",
      "(as ‘lib’ is unspecified)\n",
      "\n",
      "also installing the dependency ‘iterators’\n",
      "\n",
      "\n"
     ]
    }
   ],
   "source": [
    "install.packages(c(\"foreach\",\"doMC\"))"
   ]
  },
  {
   "cell_type": "code",
   "execution_count": 39,
   "metadata": {
    "id": "Jlc1Gwds5AZd"
   },
   "outputs": [],
   "source": [
    "knn=function(k=1,train_data,test_data,name_var,outcome_var,mode=\"prediction\",ncores=2){\n",
    "  \n",
    "  require(data.table)\n",
    "  require(dtplyr)\n",
    "  require(tidyverse)\n",
    "  library(foreach)\n",
    "  library(doMC)\n",
    "  registerDoMC(cores=ncores)\n",
    "\n",
    "  distance_finder=function(x,y){\n",
    "    sqrt(sum((x-y)^2,na.rm = T))\n",
    "  }\n",
    "  \n",
    "  \n",
    "\n",
    "  result=\n",
    "  foreach(a = 1:nrow(test_data), .combine=rbind) %:%\n",
    "    foreach(b = 1:nrow(train_data) , .combine=rbind) %dopar% {\n",
    "      data.frame(distance_finder(test_data[a,!names(test_data) %in% c(name_var,outcome_var)],\n",
    "                      train_data[b,!names(train_data) %in% c(name_var,outcome_var)]),\n",
    "        train_data[b,c(name_var,outcome_var)],\n",
    "        test_data[a,c(name_var,outcome_var)])\n",
    "    }\n",
    "\n",
    "\n",
    "  colnames(result)=\n",
    "  c(\"Distance\",\n",
    "    paste(\"training\",name_var,sep=\"_\"),\n",
    "    paste(\"training\",outcome_var,sep=\"_\"),\n",
    "    paste(\"test\",name_var,sep=\"_\"),\n",
    "    paste(\"test\",outcome_var,sep=\"_\"))\n",
    "\n",
    "  result=result%>%\n",
    "  group_by(eval(parse(text=paste(\"test\",outcome_var,sep=\"_\"))))%>%\n",
    "  arrange(Distance,.by_group = T)%>%\n",
    "  as.data.table()\n",
    "\n",
    "  Mode = function(x) {\n",
    "    uniques = unique(x)\n",
    "    uniques[which.max(tabulate(match(x, uniques)))]\n",
    "    }\n",
    "\n",
    "  prediction=result[,prediction:= Mode(head(eval(parse(text=paste(\"training\",outcome_var,sep=\"_\"))),k))\n",
    "                    ,by=eval(parse(text=paste(\"test\",outcome_var,sep=\"_\")))]\n",
    "\n",
    "  \n",
    "  result=result[,head(.SD,k),by=eval(parse(text=paste(\"test\",name_var,sep=\"_\")))]\n",
    "  \n",
    "  colnames(result)[1]=paste(\"test\",name_var,sep=\"_\")\n",
    "  colnames(result)[5]=\"expected\"\n",
    "  result=result[,-6]\n",
    "  \n",
    "  if(mode==\"diagnosis\"){\n",
    "    result=result\n",
    "  }\n",
    "  if(mode==\"prediction\"){\n",
    "    result=result[,head(.SD,1),by=eval(parse(text=paste(\"test\",name_var,sep=\"_\")))]\n",
    "    result=result[,.(expected,prediction)]\n",
    "  }\n",
    "\n",
    "\n",
    "  return(result)\n",
    "\n",
    "}"
   ]
  },
  {
   "cell_type": "code",
   "execution_count": 40,
   "metadata": {
    "colab": {
     "base_uri": "https://localhost:8080/"
    },
    "id": "q4r_E1Mv7jvL",
    "outputId": "0c26eb8d-9824-4724-d921-5c9024863ffd"
   },
   "outputs": [
    {
     "name": "stderr",
     "output_type": "stream",
     "text": [
      "\n",
      "Attaching package: ‘foreach’\n",
      "\n",
      "\n",
      "The following objects are masked from ‘package:purrr’:\n",
      "\n",
      "    accumulate, when\n",
      "\n",
      "\n",
      "Loading required package: iterators\n",
      "\n",
      "Loading required package: parallel\n",
      "\n"
     ]
    }
   ],
   "source": [
    "a=knn(k=2,\n",
    "      train_data=training_set[1:10,],\n",
    "      test_data = test_set[1:100,],\n",
    "      ncores = 2,\n",
    "      outcome_var = \"Rndrng_Prvdr_Type\",\n",
    "      name_var = \"Rndrng_NPI\",\n",
    "      mode=\"diagnosis\"\n",
    "     )"
   ]
  },
  {
   "cell_type": "code",
   "execution_count": null,
   "metadata": {
    "colab": {
     "base_uri": "https://localhost:8080/",
     "height": 1000
    },
    "id": "5_2Rl3YK-yN_",
    "outputId": "d0b7e7fe-45f5-4f9c-dc3e-9543f941270a"
   },
   "outputs": [
    {
     "data": {
      "text/html": [
       "<table class=\"dataframe\">\n",
       "<caption>A data.table: 200 × 6</caption>\n",
       "<thead>\n",
       "\t<tr><th scope=col>test_Rndrng_NPI</th><th scope=col>Distance</th><th scope=col>training_Rndrng_NPI</th><th scope=col>training_Rndrng_Prvdr_Type</th><th scope=col>expected</th><th scope=col>prediction</th></tr>\n",
       "\t<tr><th scope=col>&lt;chr&gt;</th><th scope=col>&lt;dbl&gt;</th><th scope=col>&lt;chr&gt;</th><th scope=col>&lt;chr&gt;</th><th scope=col>&lt;chr&gt;</th><th scope=col>&lt;chr&gt;</th></tr>\n",
       "</thead>\n",
       "<tbody>\n",
       "\t<tr><td>1003021114</td><td>2.828427</td><td>1003000480</td><td>General Surgery</td><td>Allergy/ Immunology                          </td><td>General Surgery</td></tr>\n",
       "\t<tr><td>1003021114</td><td>2.828427</td><td>1003000639</td><td>Cardiac Surgery</td><td>Allergy/ Immunology                          </td><td>General Surgery</td></tr>\n",
       "\t<tr><td>1003015355</td><td>1.732051</td><td>1003000639</td><td>Cardiac Surgery</td><td>Ambulance Service Provider                   </td><td>Cardiac Surgery</td></tr>\n",
       "\t<tr><td>1003015355</td><td>1.732051</td><td>1003000704</td><td>Anesthesiology </td><td>Ambulance Service Provider                   </td><td>Cardiac Surgery</td></tr>\n",
       "\t<tr><td>1003017351</td><td>3.741657</td><td>1003000639</td><td>Cardiac Surgery</td><td>Ambulatory Surgical Center                   </td><td>Cardiac Surgery</td></tr>\n",
       "\t<tr><td>1003017351</td><td>3.741657</td><td>1003000704</td><td>Anesthesiology </td><td>Ambulatory Surgical Center                   </td><td>Cardiac Surgery</td></tr>\n",
       "\t<tr><td>1003007360</td><td>1.414214</td><td>1003000639</td><td>Cardiac Surgery</td><td>Anesthesiology                               </td><td>Cardiac Surgery</td></tr>\n",
       "\t<tr><td>1003007360</td><td>1.414214</td><td>1003000704</td><td>Anesthesiology </td><td>Anesthesiology                               </td><td>Cardiac Surgery</td></tr>\n",
       "\t<tr><td>1003011966</td><td>1.414214</td><td>1003000704</td><td>Anesthesiology </td><td>Anesthesiology                               </td><td>Cardiac Surgery</td></tr>\n",
       "\t<tr><td>1003011966</td><td>2.000000</td><td>1003000639</td><td>Cardiac Surgery</td><td>Anesthesiology                               </td><td>Cardiac Surgery</td></tr>\n",
       "\t<tr><td>1003027335</td><td>1.732051</td><td>1003000639</td><td>Cardiac Surgery</td><td>Anesthesiology                               </td><td>Cardiac Surgery</td></tr>\n",
       "\t<tr><td>1003027335</td><td>1.732051</td><td>1003000704</td><td>Anesthesiology </td><td>Anesthesiology                               </td><td>Cardiac Surgery</td></tr>\n",
       "\t<tr><td>1003029141</td><td>2.236068</td><td>1003000704</td><td>Anesthesiology </td><td>Anesthesiology                               </td><td>Cardiac Surgery</td></tr>\n",
       "\t<tr><td>1003029141</td><td>2.645751</td><td>1003000639</td><td>Cardiac Surgery</td><td>Anesthesiology                               </td><td>Cardiac Surgery</td></tr>\n",
       "\t<tr><td>1003017229</td><td>2.449490</td><td>1003000639</td><td>Cardiac Surgery</td><td>Anesthesiology                               </td><td>Cardiac Surgery</td></tr>\n",
       "\t<tr><td>1003017229</td><td>2.449490</td><td>1003000704</td><td>Anesthesiology </td><td>Anesthesiology                               </td><td>Cardiac Surgery</td></tr>\n",
       "\t<tr><td>1003018177</td><td>2.449490</td><td>1003000704</td><td>Anesthesiology </td><td>Anesthesiology                               </td><td>Cardiac Surgery</td></tr>\n",
       "\t<tr><td>1003018177</td><td>2.828427</td><td>1003000639</td><td>Cardiac Surgery</td><td>Anesthesiology                               </td><td>Cardiac Surgery</td></tr>\n",
       "\t<tr><td>1003001041</td><td>1.732051</td><td>1003000704</td><td>Anesthesiology </td><td>Certified Registered Nurse Anesthetist (CRNA)</td><td>Anesthesiology </td></tr>\n",
       "\t<tr><td>1003001041</td><td>2.236068</td><td>1003000639</td><td>Cardiac Surgery</td><td>Certified Registered Nurse Anesthetist (CRNA)</td><td>Anesthesiology </td></tr>\n",
       "\t<tr><td>1003002098</td><td>1.414214</td><td>1003000639</td><td>Cardiac Surgery</td><td>Chiropractic                                 </td><td>Cardiac Surgery</td></tr>\n",
       "\t<tr><td>1003002098</td><td>1.414214</td><td>1003000704</td><td>Anesthesiology </td><td>Chiropractic                                 </td><td>Cardiac Surgery</td></tr>\n",
       "\t<tr><td>1003027590</td><td>1.414214</td><td>1003000639</td><td>Cardiac Surgery</td><td>Chiropractic                                 </td><td>Cardiac Surgery</td></tr>\n",
       "\t<tr><td>1003027590</td><td>1.414214</td><td>1003000704</td><td>Anesthesiology </td><td>Chiropractic                                 </td><td>Cardiac Surgery</td></tr>\n",
       "\t<tr><td>1003012477</td><td>2.645751</td><td>1003000639</td><td>Cardiac Surgery</td><td>Critical Care (Intensivists)                 </td><td>Cardiac Surgery</td></tr>\n",
       "\t<tr><td>1003012477</td><td>2.645751</td><td>1003000704</td><td>Anesthesiology </td><td>Critical Care (Intensivists)                 </td><td>Cardiac Surgery</td></tr>\n",
       "\t<tr><td>1003011404</td><td>4.582576</td><td>1003000480</td><td>General Surgery</td><td>Dermatology                                  </td><td>General Surgery</td></tr>\n",
       "\t<tr><td>1003011404</td><td>5.000000</td><td>1003000639</td><td>Cardiac Surgery</td><td>Dermatology                                  </td><td>General Surgery</td></tr>\n",
       "\t<tr><td>1003013384</td><td>6.480741</td><td>1003000480</td><td>General Surgery</td><td>Dermatology                                  </td><td>General Surgery</td></tr>\n",
       "\t<tr><td>1003013384</td><td>6.633250</td><td>1003000639</td><td>Cardiac Surgery</td><td>Dermatology                                  </td><td>General Surgery</td></tr>\n",
       "\t<tr><td>⋮</td><td>⋮</td><td>⋮</td><td>⋮</td><td>⋮</td><td>⋮</td></tr>\n",
       "\t<tr><td>1003004185</td><td>1.414214</td><td>1003000639</td><td>Cardiac Surgery  </td><td>Physician Assistant               </td><td>Cardiac Surgery</td></tr>\n",
       "\t<tr><td>1003004185</td><td>1.414214</td><td>1003000704</td><td>Anesthesiology   </td><td>Physician Assistant               </td><td>Cardiac Surgery</td></tr>\n",
       "\t<tr><td>1003013988</td><td>1.414214</td><td>1003000639</td><td>Cardiac Surgery  </td><td>Physician Assistant               </td><td>Cardiac Surgery</td></tr>\n",
       "\t<tr><td>1003013988</td><td>1.414214</td><td>1003000704</td><td>Anesthesiology   </td><td>Physician Assistant               </td><td>Cardiac Surgery</td></tr>\n",
       "\t<tr><td>1003015686</td><td>1.414214</td><td>1003000639</td><td>Cardiac Surgery  </td><td>Physician Assistant               </td><td>Cardiac Surgery</td></tr>\n",
       "\t<tr><td>1003015686</td><td>1.414214</td><td>1003000704</td><td>Anesthesiology   </td><td>Physician Assistant               </td><td>Cardiac Surgery</td></tr>\n",
       "\t<tr><td>1003029950</td><td>1.732051</td><td>1003000639</td><td>Cardiac Surgery  </td><td>Physician Assistant               </td><td>Cardiac Surgery</td></tr>\n",
       "\t<tr><td>1003029950</td><td>1.732051</td><td>1003000704</td><td>Anesthesiology   </td><td>Physician Assistant               </td><td>Cardiac Surgery</td></tr>\n",
       "\t<tr><td>1003007782</td><td>2.000000</td><td>1003000639</td><td>Cardiac Surgery  </td><td>Physician Assistant               </td><td>Cardiac Surgery</td></tr>\n",
       "\t<tr><td>1003007782</td><td>2.000000</td><td>1003000704</td><td>Anesthesiology   </td><td>Physician Assistant               </td><td>Cardiac Surgery</td></tr>\n",
       "\t<tr><td>1003005729</td><td>2.236068</td><td>1003000639</td><td>Cardiac Surgery  </td><td>Physician Assistant               </td><td>Cardiac Surgery</td></tr>\n",
       "\t<tr><td>1003005729</td><td>2.236068</td><td>1003000704</td><td>Anesthesiology   </td><td>Physician Assistant               </td><td>Cardiac Surgery</td></tr>\n",
       "\t<tr><td>1003016205</td><td>2.000000</td><td>1003000480</td><td>General Surgery  </td><td>Plastic and Reconstructive Surgery</td><td>General Surgery</td></tr>\n",
       "\t<tr><td>1003016205</td><td>2.000000</td><td>1003000639</td><td>Cardiac Surgery  </td><td>Plastic and Reconstructive Surgery</td><td>General Surgery</td></tr>\n",
       "\t<tr><td>1003018813</td><td>1.732051</td><td>1003000480</td><td>General Surgery  </td><td>Psychiatry                        </td><td>General Surgery</td></tr>\n",
       "\t<tr><td>1003018813</td><td>1.732051</td><td>1003000639</td><td>Cardiac Surgery  </td><td>Psychiatry                        </td><td>General Surgery</td></tr>\n",
       "\t<tr><td>1003007345</td><td>2.236068</td><td>1003000639</td><td>Cardiac Surgery  </td><td>Psychiatry                        </td><td>General Surgery</td></tr>\n",
       "\t<tr><td>1003007345</td><td>2.236068</td><td>1003000704</td><td>Anesthesiology   </td><td>Psychiatry                        </td><td>General Surgery</td></tr>\n",
       "\t<tr><td>1003012634</td><td>2.828427</td><td>1003000126</td><td>Internal Medicine</td><td>Psychiatry                        </td><td>General Surgery</td></tr>\n",
       "\t<tr><td>1003012634</td><td>3.162278</td><td>1003000480</td><td>General Surgery  </td><td>Psychiatry                        </td><td>General Surgery</td></tr>\n",
       "\t<tr><td>1003013574</td><td>2.000000</td><td>1003000639</td><td>Cardiac Surgery  </td><td>Psychologist, Clinical            </td><td>Cardiac Surgery</td></tr>\n",
       "\t<tr><td>1003013574</td><td>2.000000</td><td>1003000704</td><td>Anesthesiology   </td><td>Psychologist, Clinical            </td><td>Cardiac Surgery</td></tr>\n",
       "\t<tr><td>1003014911</td><td>3.464102</td><td>1003000480</td><td>General Surgery  </td><td>Pulmonary Disease                 </td><td>General Surgery</td></tr>\n",
       "\t<tr><td>1003014911</td><td>3.464102</td><td>1003000639</td><td>Cardiac Surgery  </td><td>Pulmonary Disease                 </td><td>General Surgery</td></tr>\n",
       "\t<tr><td>1003029075</td><td>5.744563</td><td>1003000480</td><td>General Surgery  </td><td>Pulmonary Disease                 </td><td>General Surgery</td></tr>\n",
       "\t<tr><td>1003029075</td><td>5.744563</td><td>1003000639</td><td>Cardiac Surgery  </td><td>Pulmonary Disease                 </td><td>General Surgery</td></tr>\n",
       "\t<tr><td>1003011941</td><td>4.000000</td><td>1003000480</td><td>General Surgery  </td><td>Radiation Oncology                </td><td>General Surgery</td></tr>\n",
       "\t<tr><td>1003011941</td><td>4.000000</td><td>1003000639</td><td>Cardiac Surgery  </td><td>Radiation Oncology                </td><td>General Surgery</td></tr>\n",
       "\t<tr><td>1003002312</td><td>4.472136</td><td>1003000480</td><td>General Surgery  </td><td>Rheumatology                      </td><td>General Surgery</td></tr>\n",
       "\t<tr><td>1003002312</td><td>4.690416</td><td>1003000639</td><td>Cardiac Surgery  </td><td>Rheumatology                      </td><td>General Surgery</td></tr>\n",
       "</tbody>\n",
       "</table>\n"
      ],
      "text/latex": [
       "A data.table: 200 × 6\n",
       "\\begin{tabular}{llllll}\n",
       " test\\_Rndrng\\_NPI & Distance & training\\_Rndrng\\_NPI & training\\_Rndrng\\_Prvdr\\_Type & expected & prediction\\\\\n",
       " <chr> & <dbl> & <chr> & <chr> & <chr> & <chr>\\\\\n",
       "\\hline\n",
       "\t 1003021114 & 2.828427 & 1003000480 & General Surgery & Allergy/ Immunology                           & General Surgery\\\\\n",
       "\t 1003021114 & 2.828427 & 1003000639 & Cardiac Surgery & Allergy/ Immunology                           & General Surgery\\\\\n",
       "\t 1003015355 & 1.732051 & 1003000639 & Cardiac Surgery & Ambulance Service Provider                    & Cardiac Surgery\\\\\n",
       "\t 1003015355 & 1.732051 & 1003000704 & Anesthesiology  & Ambulance Service Provider                    & Cardiac Surgery\\\\\n",
       "\t 1003017351 & 3.741657 & 1003000639 & Cardiac Surgery & Ambulatory Surgical Center                    & Cardiac Surgery\\\\\n",
       "\t 1003017351 & 3.741657 & 1003000704 & Anesthesiology  & Ambulatory Surgical Center                    & Cardiac Surgery\\\\\n",
       "\t 1003007360 & 1.414214 & 1003000639 & Cardiac Surgery & Anesthesiology                                & Cardiac Surgery\\\\\n",
       "\t 1003007360 & 1.414214 & 1003000704 & Anesthesiology  & Anesthesiology                                & Cardiac Surgery\\\\\n",
       "\t 1003011966 & 1.414214 & 1003000704 & Anesthesiology  & Anesthesiology                                & Cardiac Surgery\\\\\n",
       "\t 1003011966 & 2.000000 & 1003000639 & Cardiac Surgery & Anesthesiology                                & Cardiac Surgery\\\\\n",
       "\t 1003027335 & 1.732051 & 1003000639 & Cardiac Surgery & Anesthesiology                                & Cardiac Surgery\\\\\n",
       "\t 1003027335 & 1.732051 & 1003000704 & Anesthesiology  & Anesthesiology                                & Cardiac Surgery\\\\\n",
       "\t 1003029141 & 2.236068 & 1003000704 & Anesthesiology  & Anesthesiology                                & Cardiac Surgery\\\\\n",
       "\t 1003029141 & 2.645751 & 1003000639 & Cardiac Surgery & Anesthesiology                                & Cardiac Surgery\\\\\n",
       "\t 1003017229 & 2.449490 & 1003000639 & Cardiac Surgery & Anesthesiology                                & Cardiac Surgery\\\\\n",
       "\t 1003017229 & 2.449490 & 1003000704 & Anesthesiology  & Anesthesiology                                & Cardiac Surgery\\\\\n",
       "\t 1003018177 & 2.449490 & 1003000704 & Anesthesiology  & Anesthesiology                                & Cardiac Surgery\\\\\n",
       "\t 1003018177 & 2.828427 & 1003000639 & Cardiac Surgery & Anesthesiology                                & Cardiac Surgery\\\\\n",
       "\t 1003001041 & 1.732051 & 1003000704 & Anesthesiology  & Certified Registered Nurse Anesthetist (CRNA) & Anesthesiology \\\\\n",
       "\t 1003001041 & 2.236068 & 1003000639 & Cardiac Surgery & Certified Registered Nurse Anesthetist (CRNA) & Anesthesiology \\\\\n",
       "\t 1003002098 & 1.414214 & 1003000639 & Cardiac Surgery & Chiropractic                                  & Cardiac Surgery\\\\\n",
       "\t 1003002098 & 1.414214 & 1003000704 & Anesthesiology  & Chiropractic                                  & Cardiac Surgery\\\\\n",
       "\t 1003027590 & 1.414214 & 1003000639 & Cardiac Surgery & Chiropractic                                  & Cardiac Surgery\\\\\n",
       "\t 1003027590 & 1.414214 & 1003000704 & Anesthesiology  & Chiropractic                                  & Cardiac Surgery\\\\\n",
       "\t 1003012477 & 2.645751 & 1003000639 & Cardiac Surgery & Critical Care (Intensivists)                  & Cardiac Surgery\\\\\n",
       "\t 1003012477 & 2.645751 & 1003000704 & Anesthesiology  & Critical Care (Intensivists)                  & Cardiac Surgery\\\\\n",
       "\t 1003011404 & 4.582576 & 1003000480 & General Surgery & Dermatology                                   & General Surgery\\\\\n",
       "\t 1003011404 & 5.000000 & 1003000639 & Cardiac Surgery & Dermatology                                   & General Surgery\\\\\n",
       "\t 1003013384 & 6.480741 & 1003000480 & General Surgery & Dermatology                                   & General Surgery\\\\\n",
       "\t 1003013384 & 6.633250 & 1003000639 & Cardiac Surgery & Dermatology                                   & General Surgery\\\\\n",
       "\t ⋮ & ⋮ & ⋮ & ⋮ & ⋮ & ⋮\\\\\n",
       "\t 1003004185 & 1.414214 & 1003000639 & Cardiac Surgery   & Physician Assistant                & Cardiac Surgery\\\\\n",
       "\t 1003004185 & 1.414214 & 1003000704 & Anesthesiology    & Physician Assistant                & Cardiac Surgery\\\\\n",
       "\t 1003013988 & 1.414214 & 1003000639 & Cardiac Surgery   & Physician Assistant                & Cardiac Surgery\\\\\n",
       "\t 1003013988 & 1.414214 & 1003000704 & Anesthesiology    & Physician Assistant                & Cardiac Surgery\\\\\n",
       "\t 1003015686 & 1.414214 & 1003000639 & Cardiac Surgery   & Physician Assistant                & Cardiac Surgery\\\\\n",
       "\t 1003015686 & 1.414214 & 1003000704 & Anesthesiology    & Physician Assistant                & Cardiac Surgery\\\\\n",
       "\t 1003029950 & 1.732051 & 1003000639 & Cardiac Surgery   & Physician Assistant                & Cardiac Surgery\\\\\n",
       "\t 1003029950 & 1.732051 & 1003000704 & Anesthesiology    & Physician Assistant                & Cardiac Surgery\\\\\n",
       "\t 1003007782 & 2.000000 & 1003000639 & Cardiac Surgery   & Physician Assistant                & Cardiac Surgery\\\\\n",
       "\t 1003007782 & 2.000000 & 1003000704 & Anesthesiology    & Physician Assistant                & Cardiac Surgery\\\\\n",
       "\t 1003005729 & 2.236068 & 1003000639 & Cardiac Surgery   & Physician Assistant                & Cardiac Surgery\\\\\n",
       "\t 1003005729 & 2.236068 & 1003000704 & Anesthesiology    & Physician Assistant                & Cardiac Surgery\\\\\n",
       "\t 1003016205 & 2.000000 & 1003000480 & General Surgery   & Plastic and Reconstructive Surgery & General Surgery\\\\\n",
       "\t 1003016205 & 2.000000 & 1003000639 & Cardiac Surgery   & Plastic and Reconstructive Surgery & General Surgery\\\\\n",
       "\t 1003018813 & 1.732051 & 1003000480 & General Surgery   & Psychiatry                         & General Surgery\\\\\n",
       "\t 1003018813 & 1.732051 & 1003000639 & Cardiac Surgery   & Psychiatry                         & General Surgery\\\\\n",
       "\t 1003007345 & 2.236068 & 1003000639 & Cardiac Surgery   & Psychiatry                         & General Surgery\\\\\n",
       "\t 1003007345 & 2.236068 & 1003000704 & Anesthesiology    & Psychiatry                         & General Surgery\\\\\n",
       "\t 1003012634 & 2.828427 & 1003000126 & Internal Medicine & Psychiatry                         & General Surgery\\\\\n",
       "\t 1003012634 & 3.162278 & 1003000480 & General Surgery   & Psychiatry                         & General Surgery\\\\\n",
       "\t 1003013574 & 2.000000 & 1003000639 & Cardiac Surgery   & Psychologist, Clinical             & Cardiac Surgery\\\\\n",
       "\t 1003013574 & 2.000000 & 1003000704 & Anesthesiology    & Psychologist, Clinical             & Cardiac Surgery\\\\\n",
       "\t 1003014911 & 3.464102 & 1003000480 & General Surgery   & Pulmonary Disease                  & General Surgery\\\\\n",
       "\t 1003014911 & 3.464102 & 1003000639 & Cardiac Surgery   & Pulmonary Disease                  & General Surgery\\\\\n",
       "\t 1003029075 & 5.744563 & 1003000480 & General Surgery   & Pulmonary Disease                  & General Surgery\\\\\n",
       "\t 1003029075 & 5.744563 & 1003000639 & Cardiac Surgery   & Pulmonary Disease                  & General Surgery\\\\\n",
       "\t 1003011941 & 4.000000 & 1003000480 & General Surgery   & Radiation Oncology                 & General Surgery\\\\\n",
       "\t 1003011941 & 4.000000 & 1003000639 & Cardiac Surgery   & Radiation Oncology                 & General Surgery\\\\\n",
       "\t 1003002312 & 4.472136 & 1003000480 & General Surgery   & Rheumatology                       & General Surgery\\\\\n",
       "\t 1003002312 & 4.690416 & 1003000639 & Cardiac Surgery   & Rheumatology                       & General Surgery\\\\\n",
       "\\end{tabular}\n"
      ],
      "text/markdown": [
       "\n",
       "A data.table: 200 × 6\n",
       "\n",
       "| test_Rndrng_NPI &lt;chr&gt; | Distance &lt;dbl&gt; | training_Rndrng_NPI &lt;chr&gt; | training_Rndrng_Prvdr_Type &lt;chr&gt; | expected &lt;chr&gt; | prediction &lt;chr&gt; |\n",
       "|---|---|---|---|---|---|\n",
       "| 1003021114 | 2.828427 | 1003000480 | General Surgery | Allergy/ Immunology                           | General Surgery |\n",
       "| 1003021114 | 2.828427 | 1003000639 | Cardiac Surgery | Allergy/ Immunology                           | General Surgery |\n",
       "| 1003015355 | 1.732051 | 1003000639 | Cardiac Surgery | Ambulance Service Provider                    | Cardiac Surgery |\n",
       "| 1003015355 | 1.732051 | 1003000704 | Anesthesiology  | Ambulance Service Provider                    | Cardiac Surgery |\n",
       "| 1003017351 | 3.741657 | 1003000639 | Cardiac Surgery | Ambulatory Surgical Center                    | Cardiac Surgery |\n",
       "| 1003017351 | 3.741657 | 1003000704 | Anesthesiology  | Ambulatory Surgical Center                    | Cardiac Surgery |\n",
       "| 1003007360 | 1.414214 | 1003000639 | Cardiac Surgery | Anesthesiology                                | Cardiac Surgery |\n",
       "| 1003007360 | 1.414214 | 1003000704 | Anesthesiology  | Anesthesiology                                | Cardiac Surgery |\n",
       "| 1003011966 | 1.414214 | 1003000704 | Anesthesiology  | Anesthesiology                                | Cardiac Surgery |\n",
       "| 1003011966 | 2.000000 | 1003000639 | Cardiac Surgery | Anesthesiology                                | Cardiac Surgery |\n",
       "| 1003027335 | 1.732051 | 1003000639 | Cardiac Surgery | Anesthesiology                                | Cardiac Surgery |\n",
       "| 1003027335 | 1.732051 | 1003000704 | Anesthesiology  | Anesthesiology                                | Cardiac Surgery |\n",
       "| 1003029141 | 2.236068 | 1003000704 | Anesthesiology  | Anesthesiology                                | Cardiac Surgery |\n",
       "| 1003029141 | 2.645751 | 1003000639 | Cardiac Surgery | Anesthesiology                                | Cardiac Surgery |\n",
       "| 1003017229 | 2.449490 | 1003000639 | Cardiac Surgery | Anesthesiology                                | Cardiac Surgery |\n",
       "| 1003017229 | 2.449490 | 1003000704 | Anesthesiology  | Anesthesiology                                | Cardiac Surgery |\n",
       "| 1003018177 | 2.449490 | 1003000704 | Anesthesiology  | Anesthesiology                                | Cardiac Surgery |\n",
       "| 1003018177 | 2.828427 | 1003000639 | Cardiac Surgery | Anesthesiology                                | Cardiac Surgery |\n",
       "| 1003001041 | 1.732051 | 1003000704 | Anesthesiology  | Certified Registered Nurse Anesthetist (CRNA) | Anesthesiology  |\n",
       "| 1003001041 | 2.236068 | 1003000639 | Cardiac Surgery | Certified Registered Nurse Anesthetist (CRNA) | Anesthesiology  |\n",
       "| 1003002098 | 1.414214 | 1003000639 | Cardiac Surgery | Chiropractic                                  | Cardiac Surgery |\n",
       "| 1003002098 | 1.414214 | 1003000704 | Anesthesiology  | Chiropractic                                  | Cardiac Surgery |\n",
       "| 1003027590 | 1.414214 | 1003000639 | Cardiac Surgery | Chiropractic                                  | Cardiac Surgery |\n",
       "| 1003027590 | 1.414214 | 1003000704 | Anesthesiology  | Chiropractic                                  | Cardiac Surgery |\n",
       "| 1003012477 | 2.645751 | 1003000639 | Cardiac Surgery | Critical Care (Intensivists)                  | Cardiac Surgery |\n",
       "| 1003012477 | 2.645751 | 1003000704 | Anesthesiology  | Critical Care (Intensivists)                  | Cardiac Surgery |\n",
       "| 1003011404 | 4.582576 | 1003000480 | General Surgery | Dermatology                                   | General Surgery |\n",
       "| 1003011404 | 5.000000 | 1003000639 | Cardiac Surgery | Dermatology                                   | General Surgery |\n",
       "| 1003013384 | 6.480741 | 1003000480 | General Surgery | Dermatology                                   | General Surgery |\n",
       "| 1003013384 | 6.633250 | 1003000639 | Cardiac Surgery | Dermatology                                   | General Surgery |\n",
       "| ⋮ | ⋮ | ⋮ | ⋮ | ⋮ | ⋮ |\n",
       "| 1003004185 | 1.414214 | 1003000639 | Cardiac Surgery   | Physician Assistant                | Cardiac Surgery |\n",
       "| 1003004185 | 1.414214 | 1003000704 | Anesthesiology    | Physician Assistant                | Cardiac Surgery |\n",
       "| 1003013988 | 1.414214 | 1003000639 | Cardiac Surgery   | Physician Assistant                | Cardiac Surgery |\n",
       "| 1003013988 | 1.414214 | 1003000704 | Anesthesiology    | Physician Assistant                | Cardiac Surgery |\n",
       "| 1003015686 | 1.414214 | 1003000639 | Cardiac Surgery   | Physician Assistant                | Cardiac Surgery |\n",
       "| 1003015686 | 1.414214 | 1003000704 | Anesthesiology    | Physician Assistant                | Cardiac Surgery |\n",
       "| 1003029950 | 1.732051 | 1003000639 | Cardiac Surgery   | Physician Assistant                | Cardiac Surgery |\n",
       "| 1003029950 | 1.732051 | 1003000704 | Anesthesiology    | Physician Assistant                | Cardiac Surgery |\n",
       "| 1003007782 | 2.000000 | 1003000639 | Cardiac Surgery   | Physician Assistant                | Cardiac Surgery |\n",
       "| 1003007782 | 2.000000 | 1003000704 | Anesthesiology    | Physician Assistant                | Cardiac Surgery |\n",
       "| 1003005729 | 2.236068 | 1003000639 | Cardiac Surgery   | Physician Assistant                | Cardiac Surgery |\n",
       "| 1003005729 | 2.236068 | 1003000704 | Anesthesiology    | Physician Assistant                | Cardiac Surgery |\n",
       "| 1003016205 | 2.000000 | 1003000480 | General Surgery   | Plastic and Reconstructive Surgery | General Surgery |\n",
       "| 1003016205 | 2.000000 | 1003000639 | Cardiac Surgery   | Plastic and Reconstructive Surgery | General Surgery |\n",
       "| 1003018813 | 1.732051 | 1003000480 | General Surgery   | Psychiatry                         | General Surgery |\n",
       "| 1003018813 | 1.732051 | 1003000639 | Cardiac Surgery   | Psychiatry                         | General Surgery |\n",
       "| 1003007345 | 2.236068 | 1003000639 | Cardiac Surgery   | Psychiatry                         | General Surgery |\n",
       "| 1003007345 | 2.236068 | 1003000704 | Anesthesiology    | Psychiatry                         | General Surgery |\n",
       "| 1003012634 | 2.828427 | 1003000126 | Internal Medicine | Psychiatry                         | General Surgery |\n",
       "| 1003012634 | 3.162278 | 1003000480 | General Surgery   | Psychiatry                         | General Surgery |\n",
       "| 1003013574 | 2.000000 | 1003000639 | Cardiac Surgery   | Psychologist, Clinical             | Cardiac Surgery |\n",
       "| 1003013574 | 2.000000 | 1003000704 | Anesthesiology    | Psychologist, Clinical             | Cardiac Surgery |\n",
       "| 1003014911 | 3.464102 | 1003000480 | General Surgery   | Pulmonary Disease                  | General Surgery |\n",
       "| 1003014911 | 3.464102 | 1003000639 | Cardiac Surgery   | Pulmonary Disease                  | General Surgery |\n",
       "| 1003029075 | 5.744563 | 1003000480 | General Surgery   | Pulmonary Disease                  | General Surgery |\n",
       "| 1003029075 | 5.744563 | 1003000639 | Cardiac Surgery   | Pulmonary Disease                  | General Surgery |\n",
       "| 1003011941 | 4.000000 | 1003000480 | General Surgery   | Radiation Oncology                 | General Surgery |\n",
       "| 1003011941 | 4.000000 | 1003000639 | Cardiac Surgery   | Radiation Oncology                 | General Surgery |\n",
       "| 1003002312 | 4.472136 | 1003000480 | General Surgery   | Rheumatology                       | General Surgery |\n",
       "| 1003002312 | 4.690416 | 1003000639 | Cardiac Surgery   | Rheumatology                       | General Surgery |\n",
       "\n"
      ],
      "text/plain": [
       "    test_Rndrng_NPI Distance training_Rndrng_NPI training_Rndrng_Prvdr_Type\n",
       "1   1003021114      2.828427 1003000480          General Surgery           \n",
       "2   1003021114      2.828427 1003000639          Cardiac Surgery           \n",
       "3   1003015355      1.732051 1003000639          Cardiac Surgery           \n",
       "4   1003015355      1.732051 1003000704          Anesthesiology            \n",
       "5   1003017351      3.741657 1003000639          Cardiac Surgery           \n",
       "6   1003017351      3.741657 1003000704          Anesthesiology            \n",
       "7   1003007360      1.414214 1003000639          Cardiac Surgery           \n",
       "8   1003007360      1.414214 1003000704          Anesthesiology            \n",
       "9   1003011966      1.414214 1003000704          Anesthesiology            \n",
       "10  1003011966      2.000000 1003000639          Cardiac Surgery           \n",
       "11  1003027335      1.732051 1003000639          Cardiac Surgery           \n",
       "12  1003027335      1.732051 1003000704          Anesthesiology            \n",
       "13  1003029141      2.236068 1003000704          Anesthesiology            \n",
       "14  1003029141      2.645751 1003000639          Cardiac Surgery           \n",
       "15  1003017229      2.449490 1003000639          Cardiac Surgery           \n",
       "16  1003017229      2.449490 1003000704          Anesthesiology            \n",
       "17  1003018177      2.449490 1003000704          Anesthesiology            \n",
       "18  1003018177      2.828427 1003000639          Cardiac Surgery           \n",
       "19  1003001041      1.732051 1003000704          Anesthesiology            \n",
       "20  1003001041      2.236068 1003000639          Cardiac Surgery           \n",
       "21  1003002098      1.414214 1003000639          Cardiac Surgery           \n",
       "22  1003002098      1.414214 1003000704          Anesthesiology            \n",
       "23  1003027590      1.414214 1003000639          Cardiac Surgery           \n",
       "24  1003027590      1.414214 1003000704          Anesthesiology            \n",
       "25  1003012477      2.645751 1003000639          Cardiac Surgery           \n",
       "26  1003012477      2.645751 1003000704          Anesthesiology            \n",
       "27  1003011404      4.582576 1003000480          General Surgery           \n",
       "28  1003011404      5.000000 1003000639          Cardiac Surgery           \n",
       "29  1003013384      6.480741 1003000480          General Surgery           \n",
       "30  1003013384      6.633250 1003000639          Cardiac Surgery           \n",
       "⋮   ⋮               ⋮        ⋮                   ⋮                         \n",
       "171 1003004185      1.414214 1003000639          Cardiac Surgery           \n",
       "172 1003004185      1.414214 1003000704          Anesthesiology            \n",
       "173 1003013988      1.414214 1003000639          Cardiac Surgery           \n",
       "174 1003013988      1.414214 1003000704          Anesthesiology            \n",
       "175 1003015686      1.414214 1003000639          Cardiac Surgery           \n",
       "176 1003015686      1.414214 1003000704          Anesthesiology            \n",
       "177 1003029950      1.732051 1003000639          Cardiac Surgery           \n",
       "178 1003029950      1.732051 1003000704          Anesthesiology            \n",
       "179 1003007782      2.000000 1003000639          Cardiac Surgery           \n",
       "180 1003007782      2.000000 1003000704          Anesthesiology            \n",
       "181 1003005729      2.236068 1003000639          Cardiac Surgery           \n",
       "182 1003005729      2.236068 1003000704          Anesthesiology            \n",
       "183 1003016205      2.000000 1003000480          General Surgery           \n",
       "184 1003016205      2.000000 1003000639          Cardiac Surgery           \n",
       "185 1003018813      1.732051 1003000480          General Surgery           \n",
       "186 1003018813      1.732051 1003000639          Cardiac Surgery           \n",
       "187 1003007345      2.236068 1003000639          Cardiac Surgery           \n",
       "188 1003007345      2.236068 1003000704          Anesthesiology            \n",
       "189 1003012634      2.828427 1003000126          Internal Medicine         \n",
       "190 1003012634      3.162278 1003000480          General Surgery           \n",
       "191 1003013574      2.000000 1003000639          Cardiac Surgery           \n",
       "192 1003013574      2.000000 1003000704          Anesthesiology            \n",
       "193 1003014911      3.464102 1003000480          General Surgery           \n",
       "194 1003014911      3.464102 1003000639          Cardiac Surgery           \n",
       "195 1003029075      5.744563 1003000480          General Surgery           \n",
       "196 1003029075      5.744563 1003000639          Cardiac Surgery           \n",
       "197 1003011941      4.000000 1003000480          General Surgery           \n",
       "198 1003011941      4.000000 1003000639          Cardiac Surgery           \n",
       "199 1003002312      4.472136 1003000480          General Surgery           \n",
       "200 1003002312      4.690416 1003000639          Cardiac Surgery           \n",
       "    expected                                      prediction     \n",
       "1   Allergy/ Immunology                           General Surgery\n",
       "2   Allergy/ Immunology                           General Surgery\n",
       "3   Ambulance Service Provider                    Cardiac Surgery\n",
       "4   Ambulance Service Provider                    Cardiac Surgery\n",
       "5   Ambulatory Surgical Center                    Cardiac Surgery\n",
       "6   Ambulatory Surgical Center                    Cardiac Surgery\n",
       "7   Anesthesiology                                Cardiac Surgery\n",
       "8   Anesthesiology                                Cardiac Surgery\n",
       "9   Anesthesiology                                Cardiac Surgery\n",
       "10  Anesthesiology                                Cardiac Surgery\n",
       "11  Anesthesiology                                Cardiac Surgery\n",
       "12  Anesthesiology                                Cardiac Surgery\n",
       "13  Anesthesiology                                Cardiac Surgery\n",
       "14  Anesthesiology                                Cardiac Surgery\n",
       "15  Anesthesiology                                Cardiac Surgery\n",
       "16  Anesthesiology                                Cardiac Surgery\n",
       "17  Anesthesiology                                Cardiac Surgery\n",
       "18  Anesthesiology                                Cardiac Surgery\n",
       "19  Certified Registered Nurse Anesthetist (CRNA) Anesthesiology \n",
       "20  Certified Registered Nurse Anesthetist (CRNA) Anesthesiology \n",
       "21  Chiropractic                                  Cardiac Surgery\n",
       "22  Chiropractic                                  Cardiac Surgery\n",
       "23  Chiropractic                                  Cardiac Surgery\n",
       "24  Chiropractic                                  Cardiac Surgery\n",
       "25  Critical Care (Intensivists)                  Cardiac Surgery\n",
       "26  Critical Care (Intensivists)                  Cardiac Surgery\n",
       "27  Dermatology                                   General Surgery\n",
       "28  Dermatology                                   General Surgery\n",
       "29  Dermatology                                   General Surgery\n",
       "30  Dermatology                                   General Surgery\n",
       "⋮   ⋮                                             ⋮              \n",
       "171 Physician Assistant                           Cardiac Surgery\n",
       "172 Physician Assistant                           Cardiac Surgery\n",
       "173 Physician Assistant                           Cardiac Surgery\n",
       "174 Physician Assistant                           Cardiac Surgery\n",
       "175 Physician Assistant                           Cardiac Surgery\n",
       "176 Physician Assistant                           Cardiac Surgery\n",
       "177 Physician Assistant                           Cardiac Surgery\n",
       "178 Physician Assistant                           Cardiac Surgery\n",
       "179 Physician Assistant                           Cardiac Surgery\n",
       "180 Physician Assistant                           Cardiac Surgery\n",
       "181 Physician Assistant                           Cardiac Surgery\n",
       "182 Physician Assistant                           Cardiac Surgery\n",
       "183 Plastic and Reconstructive Surgery            General Surgery\n",
       "184 Plastic and Reconstructive Surgery            General Surgery\n",
       "185 Psychiatry                                    General Surgery\n",
       "186 Psychiatry                                    General Surgery\n",
       "187 Psychiatry                                    General Surgery\n",
       "188 Psychiatry                                    General Surgery\n",
       "189 Psychiatry                                    General Surgery\n",
       "190 Psychiatry                                    General Surgery\n",
       "191 Psychologist, Clinical                        Cardiac Surgery\n",
       "192 Psychologist, Clinical                        Cardiac Surgery\n",
       "193 Pulmonary Disease                             General Surgery\n",
       "194 Pulmonary Disease                             General Surgery\n",
       "195 Pulmonary Disease                             General Surgery\n",
       "196 Pulmonary Disease                             General Surgery\n",
       "197 Radiation Oncology                            General Surgery\n",
       "198 Radiation Oncology                            General Surgery\n",
       "199 Rheumatology                                  General Surgery\n",
       "200 Rheumatology                                  General Surgery"
      ]
     },
     "metadata": {},
     "output_type": "display_data"
    }
   ],
   "source": [
    "a"
   ]
  },
  {
   "cell_type": "code",
   "execution_count": null,
   "metadata": {
    "id": "DJtSOjXOGgFW"
   },
   "outputs": [],
   "source": []
  }
 ],
 "metadata": {
  "colab": {
   "collapsed_sections": [],
   "name": "CS5800Group.ipynb",
   "provenance": []
  },
  "gpuClass": "standard",
  "kernelspec": {
   "display_name": "R",
   "language": "R",
   "name": "ir"
  },
  "language_info": {
   "codemirror_mode": "r",
   "file_extension": ".r",
   "mimetype": "text/x-r-source",
   "name": "R",
   "pygments_lexer": "r",
   "version": "4.2.0"
  }
 },
 "nbformat": 4,
 "nbformat_minor": 4
}
